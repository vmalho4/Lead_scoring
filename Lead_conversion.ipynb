{
 "cells": [
  {
   "cell_type": "markdown",
   "metadata": {},
   "source": [
    "## Import the required modules"
   ]
  },
  {
   "cell_type": "code",
   "execution_count": 891,
   "metadata": {},
   "outputs": [],
   "source": [
    "import warnings\n",
    "warnings.filterwarnings('ignore')\n",
    "\n",
    "import numpy as np\n",
    "import pandas as pd\n",
    "import matplotlib.pyplot as plt\n",
    "import seaborn as sns\n",
    "from sklearn.preprocessing import StandardScaler\n",
    "from sklearn.model_selection import train_test_split\n",
    "from sklearn.preprocessing import StandardScaler\n",
    "import statsmodels.api as sm\n",
    "from sklearn.linear_model import LogisticRegression\n",
    "from sklearn.feature_selection import RFE\n",
    "from statsmodels.stats.outliers_influence import variance_inflation_factor\n",
    "from sklearn import metrics\n",
    "from sklearn.metrics import precision_score, recall_score"
   ]
  },
  {
   "cell_type": "markdown",
   "metadata": {},
   "source": [
    "## Read and understand data"
   ]
  },
  {
   "cell_type": "code",
   "execution_count": 701,
   "metadata": {},
   "outputs": [],
   "source": [
    "leads_df = pd.read_csv(\"Leads.csv\")"
   ]
  },
  {
   "cell_type": "code",
   "execution_count": 702,
   "metadata": {},
   "outputs": [
    {
     "data": {
      "text/html": [
       "<div>\n",
       "<style scoped>\n",
       "    .dataframe tbody tr th:only-of-type {\n",
       "        vertical-align: middle;\n",
       "    }\n",
       "\n",
       "    .dataframe tbody tr th {\n",
       "        vertical-align: top;\n",
       "    }\n",
       "\n",
       "    .dataframe thead th {\n",
       "        text-align: right;\n",
       "    }\n",
       "</style>\n",
       "<table border=\"1\" class=\"dataframe\">\n",
       "  <thead>\n",
       "    <tr style=\"text-align: right;\">\n",
       "      <th></th>\n",
       "      <th>Prospect ID</th>\n",
       "      <th>Lead Number</th>\n",
       "      <th>Lead Origin</th>\n",
       "      <th>Lead Source</th>\n",
       "      <th>Do Not Email</th>\n",
       "      <th>Do Not Call</th>\n",
       "      <th>Converted</th>\n",
       "      <th>TotalVisits</th>\n",
       "      <th>Total Time Spent on Website</th>\n",
       "      <th>Page Views Per Visit</th>\n",
       "      <th>...</th>\n",
       "      <th>Get updates on DM Content</th>\n",
       "      <th>Lead Profile</th>\n",
       "      <th>City</th>\n",
       "      <th>Asymmetrique Activity Index</th>\n",
       "      <th>Asymmetrique Profile Index</th>\n",
       "      <th>Asymmetrique Activity Score</th>\n",
       "      <th>Asymmetrique Profile Score</th>\n",
       "      <th>I agree to pay the amount through cheque</th>\n",
       "      <th>A free copy of Mastering The Interview</th>\n",
       "      <th>Last Notable Activity</th>\n",
       "    </tr>\n",
       "  </thead>\n",
       "  <tbody>\n",
       "    <tr>\n",
       "      <th>0</th>\n",
       "      <td>7927b2df-8bba-4d29-b9a2-b6e0beafe620</td>\n",
       "      <td>660737</td>\n",
       "      <td>API</td>\n",
       "      <td>Olark Chat</td>\n",
       "      <td>No</td>\n",
       "      <td>No</td>\n",
       "      <td>0</td>\n",
       "      <td>0.0</td>\n",
       "      <td>0</td>\n",
       "      <td>0.0</td>\n",
       "      <td>...</td>\n",
       "      <td>No</td>\n",
       "      <td>Select</td>\n",
       "      <td>Select</td>\n",
       "      <td>02.Medium</td>\n",
       "      <td>02.Medium</td>\n",
       "      <td>15.0</td>\n",
       "      <td>15.0</td>\n",
       "      <td>No</td>\n",
       "      <td>No</td>\n",
       "      <td>Modified</td>\n",
       "    </tr>\n",
       "    <tr>\n",
       "      <th>1</th>\n",
       "      <td>2a272436-5132-4136-86fa-dcc88c88f482</td>\n",
       "      <td>660728</td>\n",
       "      <td>API</td>\n",
       "      <td>Organic Search</td>\n",
       "      <td>No</td>\n",
       "      <td>No</td>\n",
       "      <td>0</td>\n",
       "      <td>5.0</td>\n",
       "      <td>674</td>\n",
       "      <td>2.5</td>\n",
       "      <td>...</td>\n",
       "      <td>No</td>\n",
       "      <td>Select</td>\n",
       "      <td>Select</td>\n",
       "      <td>02.Medium</td>\n",
       "      <td>02.Medium</td>\n",
       "      <td>15.0</td>\n",
       "      <td>15.0</td>\n",
       "      <td>No</td>\n",
       "      <td>No</td>\n",
       "      <td>Email Opened</td>\n",
       "    </tr>\n",
       "    <tr>\n",
       "      <th>2</th>\n",
       "      <td>8cc8c611-a219-4f35-ad23-fdfd2656bd8a</td>\n",
       "      <td>660727</td>\n",
       "      <td>Landing Page Submission</td>\n",
       "      <td>Direct Traffic</td>\n",
       "      <td>No</td>\n",
       "      <td>No</td>\n",
       "      <td>1</td>\n",
       "      <td>2.0</td>\n",
       "      <td>1532</td>\n",
       "      <td>2.0</td>\n",
       "      <td>...</td>\n",
       "      <td>No</td>\n",
       "      <td>Potential Lead</td>\n",
       "      <td>Mumbai</td>\n",
       "      <td>02.Medium</td>\n",
       "      <td>01.High</td>\n",
       "      <td>14.0</td>\n",
       "      <td>20.0</td>\n",
       "      <td>No</td>\n",
       "      <td>Yes</td>\n",
       "      <td>Email Opened</td>\n",
       "    </tr>\n",
       "    <tr>\n",
       "      <th>3</th>\n",
       "      <td>0cc2df48-7cf4-4e39-9de9-19797f9b38cc</td>\n",
       "      <td>660719</td>\n",
       "      <td>Landing Page Submission</td>\n",
       "      <td>Direct Traffic</td>\n",
       "      <td>No</td>\n",
       "      <td>No</td>\n",
       "      <td>0</td>\n",
       "      <td>1.0</td>\n",
       "      <td>305</td>\n",
       "      <td>1.0</td>\n",
       "      <td>...</td>\n",
       "      <td>No</td>\n",
       "      <td>Select</td>\n",
       "      <td>Mumbai</td>\n",
       "      <td>02.Medium</td>\n",
       "      <td>01.High</td>\n",
       "      <td>13.0</td>\n",
       "      <td>17.0</td>\n",
       "      <td>No</td>\n",
       "      <td>No</td>\n",
       "      <td>Modified</td>\n",
       "    </tr>\n",
       "    <tr>\n",
       "      <th>4</th>\n",
       "      <td>3256f628-e534-4826-9d63-4a8b88782852</td>\n",
       "      <td>660681</td>\n",
       "      <td>Landing Page Submission</td>\n",
       "      <td>Google</td>\n",
       "      <td>No</td>\n",
       "      <td>No</td>\n",
       "      <td>1</td>\n",
       "      <td>2.0</td>\n",
       "      <td>1428</td>\n",
       "      <td>1.0</td>\n",
       "      <td>...</td>\n",
       "      <td>No</td>\n",
       "      <td>Select</td>\n",
       "      <td>Mumbai</td>\n",
       "      <td>02.Medium</td>\n",
       "      <td>01.High</td>\n",
       "      <td>15.0</td>\n",
       "      <td>18.0</td>\n",
       "      <td>No</td>\n",
       "      <td>No</td>\n",
       "      <td>Modified</td>\n",
       "    </tr>\n",
       "  </tbody>\n",
       "</table>\n",
       "<p>5 rows × 37 columns</p>\n",
       "</div>"
      ],
      "text/plain": [
       "                            Prospect ID  Lead Number              Lead Origin  \\\n",
       "0  7927b2df-8bba-4d29-b9a2-b6e0beafe620       660737                      API   \n",
       "1  2a272436-5132-4136-86fa-dcc88c88f482       660728                      API   \n",
       "2  8cc8c611-a219-4f35-ad23-fdfd2656bd8a       660727  Landing Page Submission   \n",
       "3  0cc2df48-7cf4-4e39-9de9-19797f9b38cc       660719  Landing Page Submission   \n",
       "4  3256f628-e534-4826-9d63-4a8b88782852       660681  Landing Page Submission   \n",
       "\n",
       "      Lead Source Do Not Email Do Not Call  Converted  TotalVisits  \\\n",
       "0      Olark Chat           No          No          0          0.0   \n",
       "1  Organic Search           No          No          0          5.0   \n",
       "2  Direct Traffic           No          No          1          2.0   \n",
       "3  Direct Traffic           No          No          0          1.0   \n",
       "4          Google           No          No          1          2.0   \n",
       "\n",
       "   Total Time Spent on Website  Page Views Per Visit  ...  \\\n",
       "0                            0                   0.0  ...   \n",
       "1                          674                   2.5  ...   \n",
       "2                         1532                   2.0  ...   \n",
       "3                          305                   1.0  ...   \n",
       "4                         1428                   1.0  ...   \n",
       "\n",
       "  Get updates on DM Content    Lead Profile    City  \\\n",
       "0                        No          Select  Select   \n",
       "1                        No          Select  Select   \n",
       "2                        No  Potential Lead  Mumbai   \n",
       "3                        No          Select  Mumbai   \n",
       "4                        No          Select  Mumbai   \n",
       "\n",
       "  Asymmetrique Activity Index Asymmetrique Profile Index  \\\n",
       "0                   02.Medium                  02.Medium   \n",
       "1                   02.Medium                  02.Medium   \n",
       "2                   02.Medium                    01.High   \n",
       "3                   02.Medium                    01.High   \n",
       "4                   02.Medium                    01.High   \n",
       "\n",
       "  Asymmetrique Activity Score Asymmetrique Profile Score  \\\n",
       "0                        15.0                       15.0   \n",
       "1                        15.0                       15.0   \n",
       "2                        14.0                       20.0   \n",
       "3                        13.0                       17.0   \n",
       "4                        15.0                       18.0   \n",
       "\n",
       "  I agree to pay the amount through cheque  \\\n",
       "0                                       No   \n",
       "1                                       No   \n",
       "2                                       No   \n",
       "3                                       No   \n",
       "4                                       No   \n",
       "\n",
       "  A free copy of Mastering The Interview Last Notable Activity  \n",
       "0                                     No              Modified  \n",
       "1                                     No          Email Opened  \n",
       "2                                    Yes          Email Opened  \n",
       "3                                     No              Modified  \n",
       "4                                     No              Modified  \n",
       "\n",
       "[5 rows x 37 columns]"
      ]
     },
     "execution_count": 702,
     "metadata": {},
     "output_type": "execute_result"
    }
   ],
   "source": [
    "leads_df.head()"
   ]
  },
  {
   "cell_type": "code",
   "execution_count": 703,
   "metadata": {},
   "outputs": [
    {
     "data": {
      "text/plain": [
       "(9240, 37)"
      ]
     },
     "execution_count": 703,
     "metadata": {},
     "output_type": "execute_result"
    }
   ],
   "source": [
    "leads_df.shape"
   ]
  },
  {
   "cell_type": "markdown",
   "metadata": {},
   "source": [
    "There are total 9240 rows and 37 columns in dataset"
   ]
  },
  {
   "cell_type": "markdown",
   "metadata": {},
   "source": [
    "### Handling NULL/Missing values in the dataset.\n",
    "\n",
    "Checking columns which has null values"
   ]
  },
  {
   "cell_type": "code",
   "execution_count": 704,
   "metadata": {},
   "outputs": [
    {
     "data": {
      "text/plain": [
       "Lead Source                                       0.39\n",
       "TotalVisits                                       1.48\n",
       "Page Views Per Visit                              1.48\n",
       "Last Activity                                     1.11\n",
       "Country                                          26.63\n",
       "Specialization                                   15.56\n",
       "How did you hear about X Education               23.89\n",
       "What is your current occupation                  29.11\n",
       "What matters most to you in choosing a course    29.32\n",
       "Tags                                             36.29\n",
       "Lead Quality                                     51.59\n",
       "Lead Profile                                     29.32\n",
       "City                                             15.37\n",
       "Asymmetrique Activity Index                      45.65\n",
       "Asymmetrique Profile Index                       45.65\n",
       "Asymmetrique Activity Score                      45.65\n",
       "Asymmetrique Profile Score                       45.65\n",
       "dtype: float64"
      ]
     },
     "execution_count": 704,
     "metadata": {},
     "output_type": "execute_result"
    }
   ],
   "source": [
    "null_cols = round(leads_df.isnull().sum()/len(leads_df.index)*100,2)\n",
    "null_cols[null_cols > 0]"
   ]
  },
  {
   "cell_type": "markdown",
   "metadata": {},
   "source": [
    "There are total 17 columns which has null values, out of which there are ~13 columns where the NULL % is > 20.\n",
    "\n",
    "- We can get rid of records where columns \"Lead Source\",\"TotalVisits\",\"Page Views Per Visit\",\"Last Activity\" are NULL since they are a very small precentage of total record count.\n",
    "- We can cap the NULL values at 40%, so we will drop the columns with >40% NULL values.\n",
    "- For other columns we need to impute them case by case\n",
    "\n",
    "Let's drop columns with NULL values >40%\n"
   ]
  },
  {
   "cell_type": "code",
   "execution_count": 705,
   "metadata": {},
   "outputs": [],
   "source": [
    "for i in null_cols[null_cols > 40].index:\n",
    "    leads_df.drop(i, 1, inplace = True)"
   ]
  },
  {
   "cell_type": "code",
   "execution_count": 706,
   "metadata": {},
   "outputs": [
    {
     "data": {
      "text/plain": [
       "Lead Source                                       0.39\n",
       "TotalVisits                                       1.48\n",
       "Page Views Per Visit                              1.48\n",
       "Last Activity                                     1.11\n",
       "Country                                          26.63\n",
       "Specialization                                   15.56\n",
       "How did you hear about X Education               23.89\n",
       "What is your current occupation                  29.11\n",
       "What matters most to you in choosing a course    29.32\n",
       "Tags                                             36.29\n",
       "Lead Profile                                     29.32\n",
       "City                                             15.37\n",
       "dtype: float64"
      ]
     },
     "execution_count": 706,
     "metadata": {},
     "output_type": "execute_result"
    }
   ],
   "source": [
    "null_cols = round(leads_df.isnull().sum()/len(leads_df.index)*100,2)\n",
    "null_cols[null_cols > 0]"
   ]
  },
  {
   "cell_type": "markdown",
   "metadata": {},
   "source": [
    "#### Dropping rows where columns \"Lead Source\",\"TotalVisits\",\"Page Views Per Visit\",\"Last Activity\" are NULL."
   ]
  },
  {
   "cell_type": "code",
   "execution_count": 707,
   "metadata": {},
   "outputs": [],
   "source": [
    "leads_df = leads_df.dropna(subset=[\"Lead Source\",\"TotalVisits\",\"Page Views Per Visit\",\"Last Activity\"])"
   ]
  },
  {
   "cell_type": "code",
   "execution_count": 708,
   "metadata": {},
   "outputs": [
    {
     "data": {
      "text/plain": [
       "(9074, 32)"
      ]
     },
     "execution_count": 708,
     "metadata": {},
     "output_type": "execute_result"
    }
   ],
   "source": [
    "leads_df.shape"
   ]
  },
  {
   "cell_type": "markdown",
   "metadata": {},
   "source": [
    "NULL rows dropped for columns \"Lead Source\",\"TotalVisits\",\"Page Views Per Visit\",\"Last Activity\""
   ]
  },
  {
   "cell_type": "code",
   "execution_count": 709,
   "metadata": {},
   "outputs": [
    {
     "data": {
      "text/plain": [
       "Country                                          25.30\n",
       "Specialization                                   15.77\n",
       "How did you hear about X Education               24.25\n",
       "What is your current occupation                  29.57\n",
       "What matters most to you in choosing a course    29.78\n",
       "Tags                                             36.67\n",
       "Lead Profile                                     29.78\n",
       "City                                             15.64\n",
       "dtype: float64"
      ]
     },
     "execution_count": 709,
     "metadata": {},
     "output_type": "execute_result"
    }
   ],
   "source": [
    "null_cols = round(leads_df.isnull().sum()/len(leads_df.index)*100,2)\n",
    "null_cols[null_cols > 0]"
   ]
  },
  {
   "cell_type": "markdown",
   "metadata": {},
   "source": [
    "#### Impute values for remaining columns.\n",
    "\n",
    "#### Imputing NaN values for \"country\" column"
   ]
  },
  {
   "cell_type": "code",
   "execution_count": 710,
   "metadata": {},
   "outputs": [
    {
     "data": {
      "text/plain": [
       "India                   0.957657\n",
       "United States           0.010180\n",
       "United Arab Emirates    0.007819\n",
       "Singapore               0.003541\n",
       "Saudi Arabia            0.003098\n",
       "United Kingdom          0.002213\n",
       "Australia               0.001918\n",
       "Qatar                   0.001475\n",
       "Bahrain                 0.001033\n",
       "Hong Kong               0.001033\n",
       "Oman                    0.000885\n",
       "France                  0.000885\n",
       "unknown                 0.000738\n",
       "South Africa            0.000590\n",
       "Kuwait                  0.000590\n",
       "Nigeria                 0.000590\n",
       "Germany                 0.000590\n",
       "Canada                  0.000590\n",
       "Sweden                  0.000443\n",
       "Italy                   0.000295\n",
       "Ghana                   0.000295\n",
       "Belgium                 0.000295\n",
       "Bangladesh              0.000295\n",
       "Asia/Pacific Region     0.000295\n",
       "Uganda                  0.000295\n",
       "Philippines             0.000295\n",
       "Netherlands             0.000295\n",
       "China                   0.000295\n",
       "Russia                  0.000148\n",
       "Kenya                   0.000148\n",
       "Liberia                 0.000148\n",
       "Sri Lanka               0.000148\n",
       "Vietnam                 0.000148\n",
       "Indonesia               0.000148\n",
       "Malaysia                0.000148\n",
       "Denmark                 0.000148\n",
       "Tanzania                0.000148\n",
       "Switzerland             0.000148\n",
       "Name: Country, dtype: float64"
      ]
     },
     "execution_count": 710,
     "metadata": {},
     "output_type": "execute_result"
    }
   ],
   "source": [
    "leads_df[\"Country\"].value_counts(normalize = True)"
   ]
  },
  {
   "cell_type": "markdown",
   "metadata": {},
   "source": [
    "As we see for country column ~95% rows have value \"India\", so we can replace Nan values with value \"India\""
   ]
  },
  {
   "cell_type": "code",
   "execution_count": 711,
   "metadata": {},
   "outputs": [],
   "source": [
    "leads_df['Country'].fillna(\"India\", inplace=True)"
   ]
  },
  {
   "cell_type": "markdown",
   "metadata": {},
   "source": [
    "#### Impute values for \"Specialization\" column"
   ]
  },
  {
   "cell_type": "code",
   "execution_count": 712,
   "metadata": {},
   "outputs": [
    {
     "data": {
      "text/plain": [
       "Select                               0.242182\n",
       "Finance Management                   0.125474\n",
       "Human Resource Management            0.109512\n",
       "Marketing Management                 0.107680\n",
       "Operations Management                0.065288\n",
       "Business Administration              0.052205\n",
       "IT Projects Management               0.047887\n",
       "Supply Chain Management              0.045270\n",
       "Banking, Investment And Insurance    0.043831\n",
       "Travel and Tourism                   0.026429\n",
       "Media and Advertising                0.026429\n",
       "International Business               0.023028\n",
       "Healthcare Management                0.020411\n",
       "Hospitality Management               0.014523\n",
       "E-COMMERCE                           0.014523\n",
       "Retail Management                    0.013084\n",
       "Rural and Agribusiness               0.009551\n",
       "E-Business                           0.007458\n",
       "Services Excellence                  0.005234\n",
       "Name: Specialization, dtype: float64"
      ]
     },
     "execution_count": 712,
     "metadata": {},
     "output_type": "execute_result"
    }
   ],
   "source": [
    "leads_df[\"Specialization\"].value_counts(normalize = True)"
   ]
  },
  {
   "cell_type": "markdown",
   "metadata": {},
   "source": [
    "As specified in the problem statement there are columns with value \"Select\" which is equivalent to Nan. Now for this column the probablity of value being Nan is because user haven't specified rather than it being a data issue. So for this column we can use \"Not Specified\" as a value for Nan and \"Select\" rows."
   ]
  },
  {
   "cell_type": "code",
   "execution_count": 713,
   "metadata": {},
   "outputs": [],
   "source": [
    "leads_df['Specialization'].fillna(\"Not Specified\", inplace=True)\n",
    "leads_df['Specialization'] = leads_df['Specialization'].replace(to_replace='Select', value='Not Specified')\n"
   ]
  },
  {
   "cell_type": "code",
   "execution_count": 714,
   "metadata": {},
   "outputs": [
    {
     "data": {
      "text/plain": [
       "Not Specified                        0.361693\n",
       "Finance Management                   0.105687\n",
       "Human Resource Management            0.092242\n",
       "Marketing Management                 0.090699\n",
       "Operations Management                0.054992\n",
       "Business Administration              0.043972\n",
       "IT Projects Management               0.040335\n",
       "Supply Chain Management              0.038131\n",
       "Banking, Investment And Insurance    0.036919\n",
       "Media and Advertising                0.022261\n",
       "Travel and Tourism                   0.022261\n",
       "International Business               0.019396\n",
       "Healthcare Management                0.017192\n",
       "E-COMMERCE                           0.012233\n",
       "Hospitality Management               0.012233\n",
       "Retail Management                    0.011020\n",
       "Rural and Agribusiness               0.008045\n",
       "E-Business                           0.006282\n",
       "Services Excellence                  0.004408\n",
       "Name: Specialization, dtype: float64"
      ]
     },
     "execution_count": 714,
     "metadata": {},
     "output_type": "execute_result"
    }
   ],
   "source": [
    "leads_df[\"Specialization\"].value_counts(normalize = True)"
   ]
  },
  {
   "cell_type": "markdown",
   "metadata": {},
   "source": [
    "Also if we look at the unique values we notice that there are lot of Specialization values which are related to management.\n",
    "We can group these values and give them a common name, this will reduce number of dummy columns when we prepare data for model building."
   ]
  },
  {
   "cell_type": "code",
   "execution_count": 715,
   "metadata": {},
   "outputs": [],
   "source": [
    "leads_df['Specialization'] = leads_df['Specialization'].replace(['Finance Management','Human Resource Management',\n",
    "                                                           'Marketing Management','Operations Management',\n",
    "                                                           'IT Projects Management','Supply Chain Management',\n",
    "                                                    'Healthcare Management','Hospitality Management',\n",
    "                                                           'Retail Management'] ,'Managements')  "
   ]
  },
  {
   "cell_type": "code",
   "execution_count": 716,
   "metadata": {},
   "outputs": [
    {
     "data": {
      "text/plain": [
       "Managements                          0.462530\n",
       "Not Specified                        0.361693\n",
       "Business Administration              0.043972\n",
       "Banking, Investment And Insurance    0.036919\n",
       "Media and Advertising                0.022261\n",
       "Travel and Tourism                   0.022261\n",
       "International Business               0.019396\n",
       "E-COMMERCE                           0.012233\n",
       "Rural and Agribusiness               0.008045\n",
       "E-Business                           0.006282\n",
       "Services Excellence                  0.004408\n",
       "Name: Specialization, dtype: float64"
      ]
     },
     "execution_count": 716,
     "metadata": {},
     "output_type": "execute_result"
    }
   ],
   "source": [
    "leads_df[\"Specialization\"].value_counts(normalize = True)"
   ]
  },
  {
   "cell_type": "markdown",
   "metadata": {},
   "source": [
    "#### Impute column \"How did you hear about X Education\""
   ]
  },
  {
   "cell_type": "code",
   "execution_count": 717,
   "metadata": {},
   "outputs": [
    {
     "data": {
      "text/plain": [
       "Select                   0.710794\n",
       "Online Search            0.117544\n",
       "Word Of Mouth            0.050480\n",
       "Student of SomeSchool    0.045097\n",
       "Other                    0.027058\n",
       "Multiple Sources         0.022112\n",
       "Advertisements           0.010183\n",
       "Social Media             0.009601\n",
       "Email                    0.003782\n",
       "SMS                      0.003346\n",
       "Name: How did you hear about X Education, dtype: float64"
      ]
     },
     "execution_count": 717,
     "metadata": {},
     "output_type": "execute_result"
    }
   ],
   "source": [
    "leads_df[\"How did you hear about X Education\"].value_counts(normalize = True)"
   ]
  },
  {
   "cell_type": "code",
   "execution_count": 718,
   "metadata": {},
   "outputs": [],
   "source": [
    "#Covert value \"Select\" wih NaN\n",
    "leads_df[\"How did you hear about X Education\"] = leads_df[\"How did you hear about X Education\"].replace('Select', np.nan)"
   ]
  },
  {
   "cell_type": "code",
   "execution_count": 719,
   "metadata": {},
   "outputs": [
    {
     "data": {
      "text/plain": [
       "78.09124972448754"
      ]
     },
     "execution_count": 719,
     "metadata": {},
     "output_type": "execute_result"
    }
   ],
   "source": [
    "# check % NULL values after replacing Select\n",
    "leads_df[\"How did you hear about X Education\"].isnull().sum()/len(leads_df.index)*100"
   ]
  },
  {
   "cell_type": "markdown",
   "metadata": {},
   "source": [
    "After replacing \"Select\" with NaN we have 78% rows with NaN values for this column so we'll drop this column.\n"
   ]
  },
  {
   "cell_type": "code",
   "execution_count": 720,
   "metadata": {},
   "outputs": [],
   "source": [
    "leads_df.drop(\"How did you hear about X Education\", 1, inplace = True)\n"
   ]
  },
  {
   "cell_type": "code",
   "execution_count": 721,
   "metadata": {},
   "outputs": [
    {
     "data": {
      "text/plain": [
       "What is your current occupation                  29.57\n",
       "What matters most to you in choosing a course    29.78\n",
       "Tags                                             36.67\n",
       "Lead Profile                                     29.78\n",
       "City                                             15.64\n",
       "dtype: float64"
      ]
     },
     "execution_count": 721,
     "metadata": {},
     "output_type": "execute_result"
    }
   ],
   "source": [
    "null_cols = round(leads_df.isnull().sum()/len(leads_df.index)*100,2)\n",
    "null_cols[null_cols > 0]"
   ]
  },
  {
   "cell_type": "markdown",
   "metadata": {},
   "source": [
    "#### Imputing column \"What is your current occupation\""
   ]
  },
  {
   "cell_type": "code",
   "execution_count": 722,
   "metadata": {},
   "outputs": [
    {
     "data": {
      "text/plain": [
       "Unemployed              0.856830\n",
       "Working Professional    0.105930\n",
       "Student                 0.032233\n",
       "Other                   0.002347\n",
       "Housewife               0.001408\n",
       "Businessman             0.001252\n",
       "Name: What is your current occupation, dtype: float64"
      ]
     },
     "execution_count": 722,
     "metadata": {},
     "output_type": "execute_result"
    }
   ],
   "source": [
    "leads_df[\"What is your current occupation\"].value_counts(normalize = True)"
   ]
  },
  {
   "cell_type": "markdown",
   "metadata": {},
   "source": [
    "We will replace NaN with \"Unemployed\""
   ]
  },
  {
   "cell_type": "code",
   "execution_count": 723,
   "metadata": {},
   "outputs": [],
   "source": [
    "leads_df['What is your current occupation'].fillna(\"Unemployed\", inplace=True)\n"
   ]
  },
  {
   "cell_type": "markdown",
   "metadata": {},
   "source": [
    "#### Imputing column \"What matters most to you in choosing a course\""
   ]
  },
  {
   "cell_type": "code",
   "execution_count": 724,
   "metadata": {},
   "outputs": [
    {
     "data": {
      "text/plain": [
       "Better Career Prospects      0.999686\n",
       "Other                        0.000157\n",
       "Flexibility & Convenience    0.000157\n",
       "Name: What matters most to you in choosing a course, dtype: float64"
      ]
     },
     "execution_count": 724,
     "metadata": {},
     "output_type": "execute_result"
    }
   ],
   "source": [
    "leads_df[\"What matters most to you in choosing a course\"].value_counts(normalize = True)"
   ]
  },
  {
   "cell_type": "markdown",
   "metadata": {},
   "source": [
    "We will replace NaN with \"Better Career Prospects\""
   ]
  },
  {
   "cell_type": "code",
   "execution_count": 725,
   "metadata": {},
   "outputs": [],
   "source": [
    "leads_df['What matters most to you in choosing a course'].fillna(\"Better Career Prospects\", inplace=True)"
   ]
  },
  {
   "cell_type": "code",
   "execution_count": 726,
   "metadata": {},
   "outputs": [
    {
     "data": {
      "text/plain": [
       "Tags            36.67\n",
       "Lead Profile    29.78\n",
       "City            15.64\n",
       "dtype: float64"
      ]
     },
     "execution_count": 726,
     "metadata": {},
     "output_type": "execute_result"
    }
   ],
   "source": [
    "null_cols = round(leads_df.isnull().sum()/len(leads_df.index)*100,2)\n",
    "null_cols[null_cols > 0]"
   ]
  },
  {
   "cell_type": "markdown",
   "metadata": {},
   "source": [
    "#### Imputing column \"Tags\""
   ]
  },
  {
   "cell_type": "code",
   "execution_count": 727,
   "metadata": {},
   "outputs": [
    {
     "data": {
      "text/plain": [
       "Will revert after reading the email                  0.350792\n",
       "Ringing                                              0.206543\n",
       "Interested in other courses                          0.088568\n",
       "Already a student                                    0.080912\n",
       "Closed by Horizzon                                   0.052375\n",
       "switched off                                         0.041761\n",
       "Busy                                                 0.032191\n",
       "Lost to EINS                                         0.029929\n",
       "Not doing further education                          0.025231\n",
       "Interested  in full time MBA                         0.020184\n",
       "Graduation in progress                               0.019314\n",
       "invalid number                                       0.014442\n",
       "Diploma holder (Not Eligible)                        0.010962\n",
       "wrong number given                                   0.008178\n",
       "opp hangup                                           0.005742\n",
       "number not provided                                  0.004350\n",
       "in touch with EINS                                   0.002088\n",
       "Lost to Others                                       0.001218\n",
       "Still Thinking                                       0.001044\n",
       "Want to take admission but has financial problems    0.001044\n",
       "Interested in Next batch                             0.000870\n",
       "In confusion whether part time or DLP                0.000870\n",
       "Lateral student                                      0.000522\n",
       "University not recognized                            0.000348\n",
       "Shall take in the next coming month                  0.000348\n",
       "Recognition issue (DEC approval)                     0.000174\n",
       "Name: Tags, dtype: float64"
      ]
     },
     "execution_count": 727,
     "metadata": {},
     "output_type": "execute_result"
    }
   ],
   "source": [
    "leads_df[\"Tags\"].value_counts(normalize = True)"
   ]
  },
  {
   "cell_type": "markdown",
   "metadata": {},
   "source": [
    "Let's replace the NaN values with \"Not Specified\""
   ]
  },
  {
   "cell_type": "code",
   "execution_count": 728,
   "metadata": {},
   "outputs": [],
   "source": [
    "# Dropping column Tags\n",
    "leads_df[\"Tags\"].fillna(\"Not Specified\",inplace = True)\n"
   ]
  },
  {
   "cell_type": "code",
   "execution_count": 729,
   "metadata": {},
   "outputs": [
    {
     "data": {
      "text/plain": [
       "Lead Profile    29.78\n",
       "City            15.64\n",
       "dtype: float64"
      ]
     },
     "execution_count": 729,
     "metadata": {},
     "output_type": "execute_result"
    }
   ],
   "source": [
    "null_cols = round(leads_df.isnull().sum()/len(leads_df.index)*100,2)\n",
    "null_cols[null_cols > 0]"
   ]
  },
  {
   "cell_type": "markdown",
   "metadata": {},
   "source": [
    "#### Imputing column \"Lead Profile\""
   ]
  },
  {
   "cell_type": "code",
   "execution_count": 730,
   "metadata": {},
   "outputs": [
    {
     "data": {
      "text/plain": [
       "Select                         0.636378\n",
       "Potential Lead                 0.243879\n",
       "Other Leads                    0.075643\n",
       "Student of SomeSchool          0.037665\n",
       "Lateral Student                0.003296\n",
       "Dual Specialization Student    0.003139\n",
       "Name: Lead Profile, dtype: float64"
      ]
     },
     "execution_count": 730,
     "metadata": {},
     "output_type": "execute_result"
    }
   ],
   "source": [
    "leads_df[\"Lead Profile\"].value_counts(normalize = True)"
   ]
  },
  {
   "cell_type": "markdown",
   "metadata": {},
   "source": [
    "This column also has \"Select\" value which means user haven't selected anything for this attribute and it can be considered as NaN. Let's replace \"Select\" and NULLS as \"Not Specified\". "
   ]
  },
  {
   "cell_type": "code",
   "execution_count": 731,
   "metadata": {},
   "outputs": [],
   "source": [
    "# Dropping column Lead Profile\n",
    "leads_df[\"Lead Profile\"].replace(\"Select\",np.nan,inplace = True)\n",
    "leads_df[\"Lead Profile\"].fillna(\"Not Specified\",inplace = True)\n"
   ]
  },
  {
   "cell_type": "code",
   "execution_count": 732,
   "metadata": {},
   "outputs": [
    {
     "data": {
      "text/plain": [
       "Not Specified                  0.744655\n",
       "Potential Lead                 0.171259\n",
       "Other Leads                    0.053119\n",
       "Student of SomeSchool          0.026449\n",
       "Lateral Student                0.002314\n",
       "Dual Specialization Student    0.002204\n",
       "Name: Lead Profile, dtype: float64"
      ]
     },
     "execution_count": 732,
     "metadata": {},
     "output_type": "execute_result"
    }
   ],
   "source": [
    "leads_df[\"Lead Profile\"].value_counts(normalize = True)"
   ]
  },
  {
   "cell_type": "markdown",
   "metadata": {},
   "source": [
    "#### Imputing column \"City\""
   ]
  },
  {
   "cell_type": "code",
   "execution_count": 733,
   "metadata": {},
   "outputs": [
    {
     "data": {
      "text/plain": [
       "Mumbai                         0.415023\n",
       "Select                         0.281646\n",
       "Thane & Outskirts              0.097322\n",
       "Other Cities                   0.088831\n",
       "Other Cities of Maharashtra    0.058263\n",
       "Other Metro Cities             0.049249\n",
       "Tier II Cities                 0.009667\n",
       "Name: City, dtype: float64"
      ]
     },
     "execution_count": 733,
     "metadata": {},
     "output_type": "execute_result"
    }
   ],
   "source": [
    "leads_df[\"City\"].value_counts(normalize = True)"
   ]
  },
  {
   "cell_type": "markdown",
   "metadata": {},
   "source": [
    "Here we need to first handle value \"Select\" to treat it as NaN and then we can use Mumbai to replace NULLS since Mumbai is the most occuring value for City column."
   ]
  },
  {
   "cell_type": "code",
   "execution_count": 734,
   "metadata": {},
   "outputs": [],
   "source": [
    "leads_df[\"City\"].replace(\"Select\",np.nan,inplace = True)\n",
    "leads_df[\"City\"].fillna(\"Mumbai\",inplace = True)"
   ]
  },
  {
   "cell_type": "code",
   "execution_count": 735,
   "metadata": {},
   "outputs": [
    {
     "data": {
      "text/plain": [
       "Mumbai                         0.744104\n",
       "Thane & Outskirts              0.082103\n",
       "Other Cities                   0.074939\n",
       "Other Cities of Maharashtra    0.049151\n",
       "Other Metro Cities             0.041547\n",
       "Tier II Cities                 0.008155\n",
       "Name: City, dtype: float64"
      ]
     },
     "execution_count": 735,
     "metadata": {},
     "output_type": "execute_result"
    }
   ],
   "source": [
    "leads_df[\"City\"].value_counts(normalize = True)"
   ]
  },
  {
   "cell_type": "markdown",
   "metadata": {},
   "source": [
    "#### We have imputed all the NULL values, so we can now start with basic EDA for the new dataset and see if we see any patterns in data."
   ]
  },
  {
   "cell_type": "markdown",
   "metadata": {},
   "source": [
    "## EDA for categorical variables"
   ]
  },
  {
   "cell_type": "code",
   "execution_count": 647,
   "metadata": {},
   "outputs": [
    {
     "data": {
      "text/html": [
       "<div>\n",
       "<style scoped>\n",
       "    .dataframe tbody tr th:only-of-type {\n",
       "        vertical-align: middle;\n",
       "    }\n",
       "\n",
       "    .dataframe tbody tr th {\n",
       "        vertical-align: top;\n",
       "    }\n",
       "\n",
       "    .dataframe thead th {\n",
       "        text-align: right;\n",
       "    }\n",
       "</style>\n",
       "<table border=\"1\" class=\"dataframe\">\n",
       "  <thead>\n",
       "    <tr style=\"text-align: right;\">\n",
       "      <th></th>\n",
       "      <th>Prospect ID</th>\n",
       "      <th>Lead Number</th>\n",
       "      <th>Lead Origin</th>\n",
       "      <th>Lead Source</th>\n",
       "      <th>Do Not Email</th>\n",
       "      <th>Do Not Call</th>\n",
       "      <th>Converted</th>\n",
       "      <th>TotalVisits</th>\n",
       "      <th>Total Time Spent on Website</th>\n",
       "      <th>Page Views Per Visit</th>\n",
       "      <th>...</th>\n",
       "      <th>Through Recommendations</th>\n",
       "      <th>Receive More Updates About Our Courses</th>\n",
       "      <th>Tags</th>\n",
       "      <th>Update me on Supply Chain Content</th>\n",
       "      <th>Get updates on DM Content</th>\n",
       "      <th>Lead Profile</th>\n",
       "      <th>City</th>\n",
       "      <th>I agree to pay the amount through cheque</th>\n",
       "      <th>A free copy of Mastering The Interview</th>\n",
       "      <th>Last Notable Activity</th>\n",
       "    </tr>\n",
       "  </thead>\n",
       "  <tbody>\n",
       "    <tr>\n",
       "      <th>0</th>\n",
       "      <td>7927b2df-8bba-4d29-b9a2-b6e0beafe620</td>\n",
       "      <td>660737</td>\n",
       "      <td>API</td>\n",
       "      <td>Olark Chat</td>\n",
       "      <td>No</td>\n",
       "      <td>No</td>\n",
       "      <td>0</td>\n",
       "      <td>0.0</td>\n",
       "      <td>0</td>\n",
       "      <td>0.0</td>\n",
       "      <td>...</td>\n",
       "      <td>No</td>\n",
       "      <td>No</td>\n",
       "      <td>Interested in other courses</td>\n",
       "      <td>No</td>\n",
       "      <td>No</td>\n",
       "      <td>Not Specified</td>\n",
       "      <td>Mumbai</td>\n",
       "      <td>No</td>\n",
       "      <td>No</td>\n",
       "      <td>Modified</td>\n",
       "    </tr>\n",
       "    <tr>\n",
       "      <th>1</th>\n",
       "      <td>2a272436-5132-4136-86fa-dcc88c88f482</td>\n",
       "      <td>660728</td>\n",
       "      <td>API</td>\n",
       "      <td>Organic Search</td>\n",
       "      <td>No</td>\n",
       "      <td>No</td>\n",
       "      <td>0</td>\n",
       "      <td>5.0</td>\n",
       "      <td>674</td>\n",
       "      <td>2.5</td>\n",
       "      <td>...</td>\n",
       "      <td>No</td>\n",
       "      <td>No</td>\n",
       "      <td>Ringing</td>\n",
       "      <td>No</td>\n",
       "      <td>No</td>\n",
       "      <td>Not Specified</td>\n",
       "      <td>Mumbai</td>\n",
       "      <td>No</td>\n",
       "      <td>No</td>\n",
       "      <td>Email Opened</td>\n",
       "    </tr>\n",
       "    <tr>\n",
       "      <th>2</th>\n",
       "      <td>8cc8c611-a219-4f35-ad23-fdfd2656bd8a</td>\n",
       "      <td>660727</td>\n",
       "      <td>Landing Page Submission</td>\n",
       "      <td>Direct Traffic</td>\n",
       "      <td>No</td>\n",
       "      <td>No</td>\n",
       "      <td>1</td>\n",
       "      <td>2.0</td>\n",
       "      <td>1532</td>\n",
       "      <td>2.0</td>\n",
       "      <td>...</td>\n",
       "      <td>No</td>\n",
       "      <td>No</td>\n",
       "      <td>Will revert after reading the email</td>\n",
       "      <td>No</td>\n",
       "      <td>No</td>\n",
       "      <td>Potential Lead</td>\n",
       "      <td>Mumbai</td>\n",
       "      <td>No</td>\n",
       "      <td>Yes</td>\n",
       "      <td>Email Opened</td>\n",
       "    </tr>\n",
       "    <tr>\n",
       "      <th>3</th>\n",
       "      <td>0cc2df48-7cf4-4e39-9de9-19797f9b38cc</td>\n",
       "      <td>660719</td>\n",
       "      <td>Landing Page Submission</td>\n",
       "      <td>Direct Traffic</td>\n",
       "      <td>No</td>\n",
       "      <td>No</td>\n",
       "      <td>0</td>\n",
       "      <td>1.0</td>\n",
       "      <td>305</td>\n",
       "      <td>1.0</td>\n",
       "      <td>...</td>\n",
       "      <td>No</td>\n",
       "      <td>No</td>\n",
       "      <td>Ringing</td>\n",
       "      <td>No</td>\n",
       "      <td>No</td>\n",
       "      <td>Not Specified</td>\n",
       "      <td>Mumbai</td>\n",
       "      <td>No</td>\n",
       "      <td>No</td>\n",
       "      <td>Modified</td>\n",
       "    </tr>\n",
       "    <tr>\n",
       "      <th>4</th>\n",
       "      <td>3256f628-e534-4826-9d63-4a8b88782852</td>\n",
       "      <td>660681</td>\n",
       "      <td>Landing Page Submission</td>\n",
       "      <td>Google</td>\n",
       "      <td>No</td>\n",
       "      <td>No</td>\n",
       "      <td>1</td>\n",
       "      <td>2.0</td>\n",
       "      <td>1428</td>\n",
       "      <td>1.0</td>\n",
       "      <td>...</td>\n",
       "      <td>No</td>\n",
       "      <td>No</td>\n",
       "      <td>Will revert after reading the email</td>\n",
       "      <td>No</td>\n",
       "      <td>No</td>\n",
       "      <td>Not Specified</td>\n",
       "      <td>Mumbai</td>\n",
       "      <td>No</td>\n",
       "      <td>No</td>\n",
       "      <td>Modified</td>\n",
       "    </tr>\n",
       "  </tbody>\n",
       "</table>\n",
       "<p>5 rows × 31 columns</p>\n",
       "</div>"
      ],
      "text/plain": [
       "                            Prospect ID  Lead Number              Lead Origin  \\\n",
       "0  7927b2df-8bba-4d29-b9a2-b6e0beafe620       660737                      API   \n",
       "1  2a272436-5132-4136-86fa-dcc88c88f482       660728                      API   \n",
       "2  8cc8c611-a219-4f35-ad23-fdfd2656bd8a       660727  Landing Page Submission   \n",
       "3  0cc2df48-7cf4-4e39-9de9-19797f9b38cc       660719  Landing Page Submission   \n",
       "4  3256f628-e534-4826-9d63-4a8b88782852       660681  Landing Page Submission   \n",
       "\n",
       "      Lead Source Do Not Email Do Not Call  Converted  TotalVisits  \\\n",
       "0      Olark Chat           No          No          0          0.0   \n",
       "1  Organic Search           No          No          0          5.0   \n",
       "2  Direct Traffic           No          No          1          2.0   \n",
       "3  Direct Traffic           No          No          0          1.0   \n",
       "4          Google           No          No          1          2.0   \n",
       "\n",
       "   Total Time Spent on Website  Page Views Per Visit  ...  \\\n",
       "0                            0                   0.0  ...   \n",
       "1                          674                   2.5  ...   \n",
       "2                         1532                   2.0  ...   \n",
       "3                          305                   1.0  ...   \n",
       "4                         1428                   1.0  ...   \n",
       "\n",
       "  Through Recommendations Receive More Updates About Our Courses  \\\n",
       "0                      No                                     No   \n",
       "1                      No                                     No   \n",
       "2                      No                                     No   \n",
       "3                      No                                     No   \n",
       "4                      No                                     No   \n",
       "\n",
       "                                  Tags Update me on Supply Chain Content  \\\n",
       "0          Interested in other courses                                No   \n",
       "1                              Ringing                                No   \n",
       "2  Will revert after reading the email                                No   \n",
       "3                              Ringing                                No   \n",
       "4  Will revert after reading the email                                No   \n",
       "\n",
       "  Get updates on DM Content    Lead Profile    City  \\\n",
       "0                        No   Not Specified  Mumbai   \n",
       "1                        No   Not Specified  Mumbai   \n",
       "2                        No  Potential Lead  Mumbai   \n",
       "3                        No   Not Specified  Mumbai   \n",
       "4                        No   Not Specified  Mumbai   \n",
       "\n",
       "  I agree to pay the amount through cheque  \\\n",
       "0                                       No   \n",
       "1                                       No   \n",
       "2                                       No   \n",
       "3                                       No   \n",
       "4                                       No   \n",
       "\n",
       "  A free copy of Mastering The Interview Last Notable Activity  \n",
       "0                                     No              Modified  \n",
       "1                                     No          Email Opened  \n",
       "2                                    Yes          Email Opened  \n",
       "3                                     No              Modified  \n",
       "4                                     No              Modified  \n",
       "\n",
       "[5 rows x 31 columns]"
      ]
     },
     "execution_count": 647,
     "metadata": {},
     "output_type": "execute_result"
    }
   ],
   "source": [
    "leads_df.head()"
   ]
  },
  {
   "cell_type": "code",
   "execution_count": 736,
   "metadata": {},
   "outputs": [
    {
     "name": "stdout",
     "output_type": "stream",
     "text": [
      "<class 'pandas.core.frame.DataFrame'>\n",
      "Int64Index: 9074 entries, 0 to 9239\n",
      "Data columns (total 31 columns):\n",
      " #   Column                                         Non-Null Count  Dtype  \n",
      "---  ------                                         --------------  -----  \n",
      " 0   Prospect ID                                    9074 non-null   object \n",
      " 1   Lead Number                                    9074 non-null   int64  \n",
      " 2   Lead Origin                                    9074 non-null   object \n",
      " 3   Lead Source                                    9074 non-null   object \n",
      " 4   Do Not Email                                   9074 non-null   object \n",
      " 5   Do Not Call                                    9074 non-null   object \n",
      " 6   Converted                                      9074 non-null   int64  \n",
      " 7   TotalVisits                                    9074 non-null   float64\n",
      " 8   Total Time Spent on Website                    9074 non-null   int64  \n",
      " 9   Page Views Per Visit                           9074 non-null   float64\n",
      " 10  Last Activity                                  9074 non-null   object \n",
      " 11  Country                                        9074 non-null   object \n",
      " 12  Specialization                                 9074 non-null   object \n",
      " 13  What is your current occupation                9074 non-null   object \n",
      " 14  What matters most to you in choosing a course  9074 non-null   object \n",
      " 15  Search                                         9074 non-null   object \n",
      " 16  Magazine                                       9074 non-null   object \n",
      " 17  Newspaper Article                              9074 non-null   object \n",
      " 18  X Education Forums                             9074 non-null   object \n",
      " 19  Newspaper                                      9074 non-null   object \n",
      " 20  Digital Advertisement                          9074 non-null   object \n",
      " 21  Through Recommendations                        9074 non-null   object \n",
      " 22  Receive More Updates About Our Courses         9074 non-null   object \n",
      " 23  Tags                                           9074 non-null   object \n",
      " 24  Update me on Supply Chain Content              9074 non-null   object \n",
      " 25  Get updates on DM Content                      9074 non-null   object \n",
      " 26  Lead Profile                                   9074 non-null   object \n",
      " 27  City                                           9074 non-null   object \n",
      " 28  I agree to pay the amount through cheque       9074 non-null   object \n",
      " 29  A free copy of Mastering The Interview         9074 non-null   object \n",
      " 30  Last Notable Activity                          9074 non-null   object \n",
      "dtypes: float64(2), int64(3), object(26)\n",
      "memory usage: 2.2+ MB\n"
     ]
    }
   ],
   "source": [
    "leads_df.info()"
   ]
  },
  {
   "cell_type": "markdown",
   "metadata": {},
   "source": [
    "#### Lead Origin"
   ]
  },
  {
   "cell_type": "code",
   "execution_count": 737,
   "metadata": {},
   "outputs": [
    {
     "data": {
      "text/plain": [
       "Landing Page Submission    0.538351\n",
       "API                        0.394313\n",
       "Lead Add Form              0.064029\n",
       "Lead Import                0.003306\n",
       "Name: Lead Origin, dtype: float64"
      ]
     },
     "execution_count": 737,
     "metadata": {},
     "output_type": "execute_result"
    }
   ],
   "source": [
    "leads_df[\"Lead Origin\"].value_counts(normalize = True)"
   ]
  },
  {
   "cell_type": "markdown",
   "metadata": {},
   "source": [
    "Lets look at conversion rate distribution for this column"
   ]
  },
  {
   "cell_type": "code",
   "execution_count": 738,
   "metadata": {},
   "outputs": [
    {
     "data": {
      "image/png": "[encoded data removed]",
      "text/plain": [
       "<Figure size 720x360 with 1 Axes>"
      ]
     },
     "metadata": {
      "needs_background": "light"
     },
     "output_type": "display_data"
    }
   ],
   "source": [
    "plt.figure(figsize=(10,5))\n",
    "\n",
    "#Visualing the Countplot\n",
    "Count_fig=sns.countplot(leads_df[\"Lead Origin\"], hue=leads_df.Converted)\n",
    "Count_fig.set_xticklabels(Count_fig.get_xticklabels(),rotation=60)\n",
    "\n",
    "# Formatting the figure\n",
    "plt.title(\"Distribution of conversion for Lead Origin\")\n",
    "plt.legend(loc=1)\n",
    "plt.show()"
   ]
  },
  {
   "cell_type": "markdown",
   "metadata": {},
   "source": [
    "#### Observation for Lead column:\n",
    "\n",
    "- \"Landing Page Submission\" has the highest number of leads followed by \"API\"\n",
    "- \"Lead Add Form\" has higher conversion rate."
   ]
  },
  {
   "cell_type": "markdown",
   "metadata": {},
   "source": [
    "#### Lead Source"
   ]
  },
  {
   "cell_type": "code",
   "execution_count": 739,
   "metadata": {},
   "outputs": [
    {
     "data": {
      "text/plain": [
       "Google               31.606789\n",
       "Direct Traffic       28.025127\n",
       "Olark Chat           19.318933\n",
       "Organic Search       12.717655\n",
       "Reference             4.882081\n",
       "Welingak Website      1.421644\n",
       "Referral Sites        1.377562\n",
       "Facebook              0.341635\n",
       "bing                  0.066123\n",
       "google                0.055102\n",
       "Click2call            0.044082\n",
       "Social Media          0.022041\n",
       "Live Chat             0.022041\n",
       "Press_Release         0.022041\n",
       "youtubechannel        0.011020\n",
       "Pay per Click Ads     0.011020\n",
       "welearnblog_Home      0.011020\n",
       "blog                  0.011020\n",
       "WeLearn               0.011020\n",
       "NC_EDM                0.011020\n",
       "testone               0.011020\n",
       "Name: Lead Source, dtype: float64"
      ]
     },
     "execution_count": 739,
     "metadata": {},
     "output_type": "execute_result"
    }
   ],
   "source": [
    "leads_df[\"Lead Source\"].value_counts(normalize = True)*100"
   ]
  },
  {
   "cell_type": "markdown",
   "metadata": {},
   "source": [
    "Looking at the values we need some corrections and group few values under one group.\n",
    "\n",
    "- Need to replace \"google\" with \"Google\"\n",
    "- Club all the values contributing less than 1% into category as \"Others\""
   ]
  },
  {
   "cell_type": "code",
   "execution_count": 740,
   "metadata": {},
   "outputs": [],
   "source": [
    "# Perfroming above operations\n",
    "leads_df[\"Lead Source\"] = leads_df[\"Lead Source\"].replace(\"google\",\"Google\")\n",
    "leads_df[\"Lead Source\"] = leads_df[\"Lead Source\"].replace(['bing','Click2call','Press_Release',\n",
    "                                                     'youtubechannel','welearnblog_Home',\n",
    "                                                     'WeLearn','blog','Pay per Click Ads',\n",
    "                                                    'testone','NC_EDM','Facebook','Live Chat','Social Media'],\"Others\")"
   ]
  },
  {
   "cell_type": "code",
   "execution_count": 741,
   "metadata": {},
   "outputs": [
    {
     "data": {
      "text/plain": [
       "Google              31.661891\n",
       "Direct Traffic      28.025127\n",
       "Olark Chat          19.318933\n",
       "Organic Search      12.717655\n",
       "Reference            4.882081\n",
       "Welingak Website     1.421644\n",
       "Referral Sites       1.377562\n",
       "Others               0.595107\n",
       "Name: Lead Source, dtype: float64"
      ]
     },
     "execution_count": 741,
     "metadata": {},
     "output_type": "execute_result"
    }
   ],
   "source": [
    "leads_df[\"Lead Source\"].value_counts(normalize = True)*100"
   ]
  },
  {
   "cell_type": "code",
   "execution_count": 742,
   "metadata": {},
   "outputs": [
    {
     "data": {
      "image/png": "[encoded data removed]",
      "text/plain": [
       "<Figure size 1080x360 with 1 Axes>"
      ]
     },
     "metadata": {
      "needs_background": "light"
     },
     "output_type": "display_data"
    }
   ],
   "source": [
    "plt.figure(figsize=(15,5))\n",
    "\n",
    "#Visualing the Countplot\n",
    "Count_fig=sns.countplot(leads_df[\"Lead Source\"], hue=leads_df.Converted)\n",
    "Count_fig.set_xticklabels(Count_fig.get_xticklabels(),rotation=60)\n",
    "\n",
    "# Formatting the figure\n",
    "plt.title(\"Distribution of conversion for Lead Origin\")\n",
    "plt.legend(loc=1)\n",
    "plt.show()"
   ]
  },
  {
   "cell_type": "markdown",
   "metadata": {},
   "source": [
    "Observations for Lead Source column\n",
    "\n",
    "- Most of te leads are sourced from Google and Direct Traffic follwed by Olark Chat\n",
    "- Percentage wise leads from reference have highest conversion rate.\n",
    "\n",
    "####  Last Activity"
   ]
  },
  {
   "cell_type": "code",
   "execution_count": 743,
   "metadata": {},
   "outputs": [
    {
     "data": {
      "text/plain": [
       "Email Opened                    0.378223\n",
       "SMS Sent                        0.299317\n",
       "Olark Chat Conversation         0.107119\n",
       "Page Visited on Website         0.070531\n",
       "Converted to Lead               0.047168\n",
       "Email Bounced                   0.034384\n",
       "Email Link Clicked              0.029425\n",
       "Form Submitted on Website       0.012784\n",
       "Unreachable                     0.009918\n",
       "Unsubscribed                    0.006502\n",
       "Had a Phone Conversation        0.002755\n",
       "View in browser link Clicked    0.000661\n",
       "Approached upfront              0.000551\n",
       "Email Received                  0.000220\n",
       "Email Marked Spam               0.000220\n",
       "Visited Booth in Tradeshow      0.000110\n",
       "Resubscribed to emails          0.000110\n",
       "Name: Last Activity, dtype: float64"
      ]
     },
     "execution_count": 743,
     "metadata": {},
     "output_type": "execute_result"
    }
   ],
   "source": [
    "leads_df[\"Last Activity\"].value_counts(normalize = True)"
   ]
  },
  {
   "cell_type": "markdown",
   "metadata": {},
   "source": [
    "We can see there are lot of activities which individually are <1% of the total data set, we can club them into one category as \"Other\" to reduce the number of dummy variables which we'll create eventually for model building."
   ]
  },
  {
   "cell_type": "code",
   "execution_count": 744,
   "metadata": {},
   "outputs": [],
   "source": [
    "leads_df[\"Last Activity\"] = leads_df[\"Last Activity\"].replace([\"Unreachable\",\"Unsubscribed\",\"Had a Phone Conversation\",\"View in browser link Clicked\",\"Approached upfront\",\"Email Received\",\"Email Marked Spam\",\"Visited Booth in Tradeshow\",\"Resubscribed to emails\"],\"Others\")"
   ]
  },
  {
   "cell_type": "code",
   "execution_count": 745,
   "metadata": {},
   "outputs": [
    {
     "data": {
      "image/png": "[encoded data removed]",
      "text/plain": [
       "<Figure size 1080x360 with 1 Axes>"
      ]
     },
     "metadata": {
      "needs_background": "light"
     },
     "output_type": "display_data"
    }
   ],
   "source": [
    "plt.figure(figsize=(15,5))\n",
    "\n",
    "#Visualing the Countplot\n",
    "Count_fig=sns.countplot(leads_df[\"Last Activity\"], hue=leads_df.Converted)\n",
    "Count_fig.set_xticklabels(Count_fig.get_xticklabels(),rotation=90)\n",
    "\n",
    "# Formatting the figure\n",
    "plt.title(\"Distribution of conversion for Lead Origin\")\n",
    "plt.legend(loc=1)\n",
    "plt.show()"
   ]
  },
  {
   "cell_type": "markdown",
   "metadata": {},
   "source": [
    "#### Observations for Last Activity:\n",
    "\n",
    "- Categories \"Email Opened\" and \"SMS Sent\" have the highest number of leads.\n",
    "- Category \"SMS Sent\" has the highest conversion rate.\n",
    "\n",
    "#### Country"
   ]
  },
  {
   "cell_type": "code",
   "execution_count": 746,
   "metadata": {},
   "outputs": [
    {
     "data": {
      "text/plain": [
       "India                   0.968371\n",
       "United States           0.007604\n",
       "United Arab Emirates    0.005841\n",
       "Singapore               0.002645\n",
       "Saudi Arabia            0.002314\n",
       "United Kingdom          0.001653\n",
       "Australia               0.001433\n",
       "Qatar                   0.001102\n",
       "Bahrain                 0.000771\n",
       "Hong Kong               0.000771\n",
       "Oman                    0.000661\n",
       "France                  0.000661\n",
       "unknown                 0.000551\n",
       "South Africa            0.000441\n",
       "Kuwait                  0.000441\n",
       "Nigeria                 0.000441\n",
       "Germany                 0.000441\n",
       "Canada                  0.000441\n",
       "Sweden                  0.000331\n",
       "Italy                   0.000220\n",
       "Ghana                   0.000220\n",
       "Belgium                 0.000220\n",
       "Bangladesh              0.000220\n",
       "Asia/Pacific Region     0.000220\n",
       "Uganda                  0.000220\n",
       "Philippines             0.000220\n",
       "Netherlands             0.000220\n",
       "China                   0.000220\n",
       "Russia                  0.000110\n",
       "Kenya                   0.000110\n",
       "Liberia                 0.000110\n",
       "Sri Lanka               0.000110\n",
       "Vietnam                 0.000110\n",
       "Indonesia               0.000110\n",
       "Malaysia                0.000110\n",
       "Denmark                 0.000110\n",
       "Tanzania                0.000110\n",
       "Switzerland             0.000110\n",
       "Name: Country, dtype: float64"
      ]
     },
     "execution_count": 746,
     "metadata": {},
     "output_type": "execute_result"
    }
   ],
   "source": [
    "leads_df[\"Country\"].value_counts(normalize = True)"
   ]
  },
  {
   "cell_type": "markdown",
   "metadata": {},
   "source": [
    "As we see India contributes to ~96% of total leads, this could lead to a bias and we shouldn't use this column in our model building. Dropping the column Country from dataframe."
   ]
  },
  {
   "cell_type": "code",
   "execution_count": 747,
   "metadata": {},
   "outputs": [],
   "source": [
    "#drop country column\n",
    "leads_df.drop(\"Country\", 1, inplace = True)"
   ]
  },
  {
   "cell_type": "markdown",
   "metadata": {},
   "source": [
    "#### Specialization"
   ]
  },
  {
   "cell_type": "code",
   "execution_count": 748,
   "metadata": {},
   "outputs": [
    {
     "data": {
      "text/plain": [
       "Managements                          0.462530\n",
       "Not Specified                        0.361693\n",
       "Business Administration              0.043972\n",
       "Banking, Investment And Insurance    0.036919\n",
       "Media and Advertising                0.022261\n",
       "Travel and Tourism                   0.022261\n",
       "International Business               0.019396\n",
       "E-COMMERCE                           0.012233\n",
       "Rural and Agribusiness               0.008045\n",
       "E-Business                           0.006282\n",
       "Services Excellence                  0.004408\n",
       "Name: Specialization, dtype: float64"
      ]
     },
     "execution_count": 748,
     "metadata": {},
     "output_type": "execute_result"
    }
   ],
   "source": [
    "leads_df[\"Specialization\"].value_counts(normalize = True)"
   ]
  },
  {
   "cell_type": "markdown",
   "metadata": {},
   "source": [
    "Lets look at conversion rate"
   ]
  },
  {
   "cell_type": "code",
   "execution_count": 749,
   "metadata": {},
   "outputs": [
    {
     "data": {
      "image/png": "[encoded data removed]",
      "text/plain": [
       "<Figure size 1080x360 with 1 Axes>"
      ]
     },
     "metadata": {
      "needs_background": "light"
     },
     "output_type": "display_data"
    }
   ],
   "source": [
    "plt.figure(figsize=(15,5))\n",
    "\n",
    "#Visualing the Countplot\n",
    "Count_fig=sns.countplot(leads_df[\"Specialization\"], hue=leads_df.Converted)\n",
    "Count_fig.set_xticklabels(Count_fig.get_xticklabels(),rotation=90)\n",
    "\n",
    "# Formatting the figure\n",
    "plt.title(\"Distribution of conversion for Lead Origin\")\n",
    "plt.legend(loc=1)\n",
    "plt.show()"
   ]
  },
  {
   "cell_type": "markdown",
   "metadata": {},
   "source": [
    "#### Observations for Specialization column:\n",
    "- Most leads are from management background followed by people who have not specified their Specialization\n",
    "- Conversion rate amongst management specialization is also the highest.\n",
    "\n",
    "#### What is your current occupation"
   ]
  },
  {
   "cell_type": "code",
   "execution_count": 750,
   "metadata": {},
   "outputs": [
    {
     "data": {
      "text/plain": [
       "Unemployed              0.899162\n",
       "Working Professional    0.074609\n",
       "Student                 0.022702\n",
       "Other                   0.001653\n",
       "Housewife               0.000992\n",
       "Businessman             0.000882\n",
       "Name: What is your current occupation, dtype: float64"
      ]
     },
     "execution_count": 750,
     "metadata": {},
     "output_type": "execute_result"
    }
   ],
   "source": [
    "leads_df[\"What is your current occupation\"].value_counts(normalize = True)"
   ]
  },
  {
   "cell_type": "markdown",
   "metadata": {},
   "source": [
    "Almost ~90% o the leads have selected \"Unemployed\" as occupation. \n",
    "Let's look at the conversion rate for this column."
   ]
  },
  {
   "cell_type": "code",
   "execution_count": 751,
   "metadata": {},
   "outputs": [
    {
     "data": {
      "image/png": "[encoded data removed]",
      "text/plain": [
       "<Figure size 1080x360 with 1 Axes>"
      ]
     },
     "metadata": {
      "needs_background": "light"
     },
     "output_type": "display_data"
    }
   ],
   "source": [
    "plt.figure(figsize=(15,5))\n",
    "\n",
    "#Visualing the Countplot\n",
    "Count_fig=sns.countplot(leads_df[\"What is your current occupation\"], hue=leads_df.Converted)\n",
    "Count_fig.set_xticklabels(Count_fig.get_xticklabels(),rotation=90)\n",
    "\n",
    "# Formatting the figure\n",
    "plt.title(\"Conversion rate for What is your current occupation\")\n",
    "plt.legend(loc=1)\n",
    "plt.show()"
   ]
  },
  {
   "cell_type": "markdown",
   "metadata": {},
   "source": [
    "Observations for \"What is your current occupation\"\n",
    "- \"Unemployed\" is the most occurring occupation.\n",
    "- Conversion rate for \"Working Professional\" is highest amongst all categories.\n",
    "\n",
    "\n",
    "-------------------------------------------------------\n",
    "#### Tags"
   ]
  },
  {
   "cell_type": "code",
   "execution_count": 752,
   "metadata": {},
   "outputs": [
    {
     "data": {
      "text/plain": [
       "Not Specified                                        0.366652\n",
       "Will revert after reading the email                  0.222173\n",
       "Ringing                                              0.130813\n",
       "Interested in other courses                          0.056094\n",
       "Already a student                                    0.051245\n",
       "Closed by Horizzon                                   0.033172\n",
       "switched off                                         0.026449\n",
       "Busy                                                 0.020388\n",
       "Lost to EINS                                         0.018955\n",
       "Not doing further education                          0.015980\n",
       "Interested  in full time MBA                         0.012784\n",
       "Graduation in progress                               0.012233\n",
       "invalid number                                       0.009147\n",
       "Diploma holder (Not Eligible)                        0.006943\n",
       "wrong number given                                   0.005180\n",
       "opp hangup                                           0.003637\n",
       "number not provided                                  0.002755\n",
       "in touch with EINS                                   0.001322\n",
       "Lost to Others                                       0.000771\n",
       "Want to take admission but has financial problems    0.000661\n",
       "Still Thinking                                       0.000661\n",
       "Interested in Next batch                             0.000551\n",
       "In confusion whether part time or DLP                0.000551\n",
       "Lateral student                                      0.000331\n",
       "University not recognized                            0.000220\n",
       "Shall take in the next coming month                  0.000220\n",
       "Recognition issue (DEC approval)                     0.000110\n",
       "Name: Tags, dtype: float64"
      ]
     },
     "execution_count": 752,
     "metadata": {},
     "output_type": "execute_result"
    }
   ],
   "source": [
    "leads_df[\"Tags\"].value_counts(normalize = True)"
   ]
  },
  {
   "cell_type": "markdown",
   "metadata": {},
   "source": [
    "We can club tags with very few occurances into one tag \"Others\""
   ]
  },
  {
   "cell_type": "code",
   "execution_count": 753,
   "metadata": {},
   "outputs": [],
   "source": [
    "leads_df['Tags'] = leads_df['Tags'].replace(['In confusion whether part time or DLP', 'in touch with EINS','Diploma holder (Not Eligible)',\n",
    "                                     'Approached upfront','Graduation in progress','number not provided', 'opp hangup','Still Thinking',\n",
    "                                    'Lost to Others','Shall take in the next coming month','Lateral student','Interested in Next batch',\n",
    "                                    'Recognition issue (DEC approval)','Want to take admission but has financial problems',\n",
    "                                    'University not recognized','switched off','Already a student','Not doing further education',\n",
    "                                     'invalid number','wrong number given','Interested  in full time MBA'], 'Others')\n"
   ]
  },
  {
   "cell_type": "code",
   "execution_count": 754,
   "metadata": {},
   "outputs": [
    {
     "data": {
      "image/png": "[encoded data removed]",
      "text/plain": [
       "<Figure size 1080x360 with 1 Axes>"
      ]
     },
     "metadata": {
      "needs_background": "light"
     },
     "output_type": "display_data"
    }
   ],
   "source": [
    "plt.figure(figsize=(15,5))\n",
    "\n",
    "#Visualing the Countplot\n",
    "Count_fig=sns.countplot(leads_df[\"Tags\"], hue=leads_df.Converted)\n",
    "Count_fig.set_xticklabels(Count_fig.get_xticklabels(),rotation=90)\n",
    "\n",
    "# Formatting the figure\n",
    "plt.title(\"Conversion rate for Tags\")\n",
    "plt.legend(loc=1)\n",
    "plt.show()"
   ]
  },
  {
   "cell_type": "markdown",
   "metadata": {},
   "source": [
    "Observations for Tags:\n",
    "- \"Not Specified\" contributes most for this column\n",
    "- Conversion rate for tag \"Will revert after reading the email\" is highest.\n",
    "-------------------------------------------------------------------------------------------------------\n",
    "\n",
    "#### Last Notable Activity"
   ]
  },
  {
   "cell_type": "code",
   "execution_count": 755,
   "metadata": {},
   "outputs": [
    {
     "data": {
      "text/plain": [
       "Modified                        0.360040\n",
       "Email Opened                    0.311109\n",
       "SMS Sent                        0.237161\n",
       "Page Visited on Website         0.035045\n",
       "Olark Chat Conversation         0.020168\n",
       "Email Link Clicked              0.019065\n",
       "Email Bounced                   0.006612\n",
       "Unsubscribed                    0.004959\n",
       "Unreachable                     0.003527\n",
       "Had a Phone Conversation        0.001543\n",
       "Email Marked Spam               0.000220\n",
       "Form Submitted on Website       0.000110\n",
       "Resubscribed to emails          0.000110\n",
       "View in browser link Clicked    0.000110\n",
       "Email Received                  0.000110\n",
       "Approached upfront              0.000110\n",
       "Name: Last Notable Activity, dtype: float64"
      ]
     },
     "execution_count": 755,
     "metadata": {},
     "output_type": "execute_result"
    }
   ],
   "source": [
    "leads_df[\"Last Notable Activity\"].value_counts(normalize = True)"
   ]
  },
  {
   "cell_type": "markdown",
   "metadata": {},
   "source": [
    "Clubbing all the Notable activities which occur less than 1% into \"Others\""
   ]
  },
  {
   "cell_type": "code",
   "execution_count": 756,
   "metadata": {},
   "outputs": [],
   "source": [
    "leads_df['Last Notable Activity'] = leads_df['Last Notable Activity'].replace(['Had a Phone Conversation','Email Marked Spam',\n",
    "                                                                       'Unreachable','Unsubscribed','Email Bounced',\n",
    "                                                                       'Resubscribed to emails','View in browser link Clicked',\n",
    "                                                                       'Approached upfront', 'Form Submitted on Website',\n",
    "                                                                       'Email Received'],'Others')"
   ]
  },
  {
   "cell_type": "code",
   "execution_count": 757,
   "metadata": {},
   "outputs": [
    {
     "data": {
      "image/png": "[encoded data removed]",
      "text/plain": [
       "<Figure size 1080x360 with 1 Axes>"
      ]
     },
     "metadata": {
      "needs_background": "light"
     },
     "output_type": "display_data"
    }
   ],
   "source": [
    "plt.figure(figsize=(15,5))\n",
    "\n",
    "#Visualing the Countplot\n",
    "Count_fig=sns.countplot(leads_df[\"Last Notable Activity\"], hue=leads_df.Converted)\n",
    "Count_fig.set_xticklabels(Count_fig.get_xticklabels(),rotation=90)\n",
    "\n",
    "# Formatting the figure\n",
    "plt.title(\"Conversion rate for Last Notable Activity\")\n",
    "plt.legend(loc=1)\n",
    "plt.show()"
   ]
  },
  {
   "cell_type": "markdown",
   "metadata": {},
   "source": [
    "Observation for Last Notable Activity\n",
    "- \"Modified\" and \"Email Opened\" are most occurring.\n",
    "- \"SMS Sent\" has highest conversion rate"
   ]
  },
  {
   "cell_type": "markdown",
   "metadata": {},
   "source": [
    "#### What matters most to you in choosing a course"
   ]
  },
  {
   "cell_type": "code",
   "execution_count": 758,
   "metadata": {},
   "outputs": [
    {
     "data": {
      "text/plain": [
       "Better Career Prospects      0.99978\n",
       "Other                        0.00011\n",
       "Flexibility & Convenience    0.00011\n",
       "Name: What matters most to you in choosing a course, dtype: float64"
      ]
     },
     "execution_count": 758,
     "metadata": {},
     "output_type": "execute_result"
    }
   ],
   "source": [
    "leads_df[\"What matters most to you in choosing a course\"].value_counts(normalize = True)"
   ]
  },
  {
   "cell_type": "markdown",
   "metadata": {},
   "source": [
    "Almost everyone has selected \"Better Career Prospects\" for using the platform. This column won't add any value to our model.\n",
    "Dropping the column"
   ]
  },
  {
   "cell_type": "code",
   "execution_count": 759,
   "metadata": {},
   "outputs": [],
   "source": [
    "leads_df.drop(\"What matters most to you in choosing a course\", 1, inplace = True)"
   ]
  },
  {
   "cell_type": "markdown",
   "metadata": {},
   "source": [
    "#### Checking the remaining columns which has Yes/No answers."
   ]
  },
  {
   "cell_type": "code",
   "execution_count": 760,
   "metadata": {},
   "outputs": [
    {
     "data": {
      "text/plain": [
       "Index(['Prospect ID', 'Lead Number', 'Lead Origin', 'Lead Source',\n",
       "       'Do Not Email', 'Do Not Call', 'Converted', 'TotalVisits',\n",
       "       'Total Time Spent on Website', 'Page Views Per Visit', 'Last Activity',\n",
       "       'Specialization', 'What is your current occupation', 'Search',\n",
       "       'Magazine', 'Newspaper Article', 'X Education Forums', 'Newspaper',\n",
       "       'Digital Advertisement', 'Through Recommendations',\n",
       "       'Receive More Updates About Our Courses', 'Tags',\n",
       "       'Update me on Supply Chain Content', 'Get updates on DM Content',\n",
       "       'Lead Profile', 'City', 'I agree to pay the amount through cheque',\n",
       "       'A free copy of Mastering The Interview', 'Last Notable Activity'],\n",
       "      dtype='object')"
      ]
     },
     "execution_count": 760,
     "metadata": {},
     "output_type": "execute_result"
    }
   ],
   "source": [
    "leads_df.columns"
   ]
  },
  {
   "cell_type": "code",
   "execution_count": 761,
   "metadata": {},
   "outputs": [
    {
     "name": "stdout",
     "output_type": "stream",
     "text": [
      "Search\n",
      "No     9060\n",
      "Yes      14\n",
      "Name: Search, dtype: int64\n",
      "================================================================\n",
      "Magazine\n",
      "No    9074\n",
      "Name: Magazine, dtype: int64\n",
      "================================================================\n",
      "Newspaper Article\n",
      "No     9072\n",
      "Yes       2\n",
      "Name: Newspaper Article, dtype: int64\n",
      "================================================================\n",
      "X Education Forums\n",
      "No     9073\n",
      "Yes       1\n",
      "Name: X Education Forums, dtype: int64\n",
      "================================================================\n",
      "Newspaper\n",
      "No     9073\n",
      "Yes       1\n",
      "Name: Newspaper, dtype: int64\n",
      "================================================================\n",
      "Digital Advertisement\n",
      "No     9070\n",
      "Yes       4\n",
      "Name: Digital Advertisement, dtype: int64\n",
      "================================================================\n",
      "Through Recommendations\n",
      "No     9067\n",
      "Yes       7\n",
      "Name: Through Recommendations, dtype: int64\n",
      "================================================================\n",
      "Receive More Updates About Our Courses\n",
      "No    9074\n",
      "Name: Receive More Updates About Our Courses, dtype: int64\n",
      "================================================================\n",
      "Update me on Supply Chain Content\n",
      "No    9074\n",
      "Name: Update me on Supply Chain Content, dtype: int64\n",
      "================================================================\n",
      "Get updates on DM Content\n",
      "No    9074\n",
      "Name: Get updates on DM Content, dtype: int64\n",
      "================================================================\n",
      "I agree to pay the amount through cheque\n",
      "No    9074\n",
      "Name: I agree to pay the amount through cheque, dtype: int64\n",
      "================================================================\n",
      "Do Not Email\n",
      "No     8358\n",
      "Yes     716\n",
      "Name: Do Not Email, dtype: int64\n",
      "================================================================\n",
      "Do Not Call\n",
      "No     9072\n",
      "Yes       2\n",
      "Name: Do Not Call, dtype: int64\n",
      "================================================================\n"
     ]
    }
   ],
   "source": [
    "Check_cat_var = (['Search','Magazine','Newspaper Article','X Education Forums','Newspaper',\n",
    "                 'Digital Advertisement','Through Recommendations','Receive More Updates About Our Courses',\n",
    "                 'Update me on Supply Chain Content',\n",
    "                 'Get updates on DM Content','I agree to pay the amount through cheque','Do Not Call'])\n",
    "\n",
    "for i in Check_cat_var:\n",
    "    print(i)\n",
    "    print(leads_df[i].value_counts(dropna=False))\n",
    "    print(\"================================================================\")"
   ]
  },
  {
   "cell_type": "markdown",
   "metadata": {},
   "source": [
    "Column 'Do Not Email' still has some \"No\" Flags so removing that column from the list of columns to be dropped.\n",
    "From the above result we know that \"No\" is the most occurring answer. Also most of these parameters are not giving any important insight into the leead. We can drop these columns."
   ]
  },
  {
   "cell_type": "code",
   "execution_count": 762,
   "metadata": {},
   "outputs": [],
   "source": [
    "# Dropping irrelevant columns\n",
    "cols_to_drop = (['Search','Magazine','Newspaper Article','X Education Forums','Newspaper',\n",
    "                 'Digital Advertisement','Through Recommendations','Receive More Updates About Our Courses',\n",
    "                 'Update me on Supply Chain Content',\n",
    "                 'Get updates on DM Content','I agree to pay the amount through cheque','Do Not Call'])\n",
    "\n",
    "for i in cols_to_drop:\n",
    "    leads_df.drop(i,1,inplace = True)"
   ]
  },
  {
   "cell_type": "code",
   "execution_count": 763,
   "metadata": {},
   "outputs": [
    {
     "data": {
      "text/plain": [
       "No     0.681728\n",
       "Yes    0.318272\n",
       "Name: A free copy of Mastering The Interview, dtype: float64"
      ]
     },
     "execution_count": 763,
     "metadata": {},
     "output_type": "execute_result"
    }
   ],
   "source": [
    "leads_df[\"A free copy of Mastering The Interview\"].value_counts(normalize = True)"
   ]
  },
  {
   "cell_type": "code",
   "execution_count": 764,
   "metadata": {},
   "outputs": [
    {
     "name": "stdout",
     "output_type": "stream",
     "text": [
      "<class 'pandas.core.frame.DataFrame'>\n",
      "Int64Index: 9074 entries, 0 to 9239\n",
      "Data columns (total 17 columns):\n",
      " #   Column                                  Non-Null Count  Dtype  \n",
      "---  ------                                  --------------  -----  \n",
      " 0   Prospect ID                             9074 non-null   object \n",
      " 1   Lead Number                             9074 non-null   int64  \n",
      " 2   Lead Origin                             9074 non-null   object \n",
      " 3   Lead Source                             9074 non-null   object \n",
      " 4   Do Not Email                            9074 non-null   object \n",
      " 5   Converted                               9074 non-null   int64  \n",
      " 6   TotalVisits                             9074 non-null   float64\n",
      " 7   Total Time Spent on Website             9074 non-null   int64  \n",
      " 8   Page Views Per Visit                    9074 non-null   float64\n",
      " 9   Last Activity                           9074 non-null   object \n",
      " 10  Specialization                          9074 non-null   object \n",
      " 11  What is your current occupation         9074 non-null   object \n",
      " 12  Tags                                    9074 non-null   object \n",
      " 13  Lead Profile                            9074 non-null   object \n",
      " 14  City                                    9074 non-null   object \n",
      " 15  A free copy of Mastering The Interview  9074 non-null   object \n",
      " 16  Last Notable Activity                   9074 non-null   object \n",
      "dtypes: float64(2), int64(3), object(12)\n",
      "memory usage: 1.6+ MB\n"
     ]
    }
   ],
   "source": [
    "leads_df.info()"
   ]
  },
  {
   "cell_type": "markdown",
   "metadata": {},
   "source": [
    "## EDA for numeric variables"
   ]
  },
  {
   "cell_type": "markdown",
   "metadata": {},
   "source": [
    "#### Converted"
   ]
  },
  {
   "cell_type": "code",
   "execution_count": 765,
   "metadata": {},
   "outputs": [
    {
     "data": {
      "text/plain": [
       "0    62.144589\n",
       "1    37.855411\n",
       "Name: Converted, dtype: float64"
      ]
     },
     "execution_count": 765,
     "metadata": {},
     "output_type": "execute_result"
    }
   ],
   "source": [
    "leads_df['Converted'].value_counts(normalize=True)*100"
   ]
  },
  {
   "cell_type": "markdown",
   "metadata": {},
   "source": [
    "Overall conversion rate is ~38%"
   ]
  },
  {
   "cell_type": "markdown",
   "metadata": {},
   "source": [
    "#### TotalVisits"
   ]
  },
  {
   "cell_type": "code",
   "execution_count": 766,
   "metadata": {},
   "outputs": [
    {
     "data": {
      "text/plain": [
       "count    9074.000000\n",
       "mean        3.456028\n",
       "std         4.858802\n",
       "min         0.000000\n",
       "25%         1.000000\n",
       "50%         3.000000\n",
       "75%         5.000000\n",
       "max       251.000000\n",
       "Name: TotalVisits, dtype: float64"
      ]
     },
     "execution_count": 766,
     "metadata": {},
     "output_type": "execute_result"
    }
   ],
   "source": [
    "leads_df['TotalVisits'].describe()"
   ]
  },
  {
   "cell_type": "code",
   "execution_count": 767,
   "metadata": {},
   "outputs": [
    {
     "data": {
      "text/plain": [
       "17.0"
      ]
     },
     "execution_count": 767,
     "metadata": {},
     "output_type": "execute_result"
    }
   ],
   "source": [
    "leads_df['TotalVisits'].quantile(0.99)"
   ]
  },
  {
   "cell_type": "markdown",
   "metadata": {},
   "source": [
    "As we can see the median is 3,  0.75 Quantile value is 5 and the max value is 251. \n",
    "SO clearly there are outliers in the data for TotalVisits.\n",
    "Let's confirm this by plotting Box-Plot\n"
   ]
  },
  {
   "cell_type": "code",
   "execution_count": 768,
   "metadata": {},
   "outputs": [
    {
     "data": {
      "image/png": "[encoded data removed]",
      "text/plain": [
       "<Figure size 720x288 with 1 Axes>"
      ]
     },
     "metadata": {
      "needs_background": "light"
     },
     "output_type": "display_data"
    }
   ],
   "source": [
    "plt.figure(figsize=(10,4))\n",
    "\n",
    "sns.boxplot(x=leads_df['TotalVisits'])\n",
    "\n",
    "## Formatting the figure\n",
    "plt.title('TotalVisits')\n",
    "plt.show()"
   ]
  },
  {
   "cell_type": "markdown",
   "metadata": {},
   "source": [
    "We can either remove the outliers or cap the values at 99th percentile. Let's not remove any rows rather cap the outlier values to 99th percentile value."
   ]
  },
  {
   "cell_type": "code",
   "execution_count": 769,
   "metadata": {},
   "outputs": [],
   "source": [
    "cap = leads_df['TotalVisits'].quantile(0.99)\n",
    "leads_df['TotalVisits'] = np.clip(leads_df['TotalVisits'], a_max=cap, a_min=None)\n"
   ]
  },
  {
   "cell_type": "markdown",
   "metadata": {},
   "source": [
    "Lets look at TotalVisits column after treating outliers."
   ]
  },
  {
   "cell_type": "code",
   "execution_count": 770,
   "metadata": {},
   "outputs": [
    {
     "data": {
      "image/png": "[encoded data removed]",
      "text/plain": [
       "<Figure size 720x288 with 1 Axes>"
      ]
     },
     "metadata": {
      "needs_background": "light"
     },
     "output_type": "display_data"
    }
   ],
   "source": [
    "plt.figure(figsize=(10,4))\n",
    "\n",
    "sns.boxplot(x=leads_df['TotalVisits'])\n",
    "\n",
    "## Formatting the figure\n",
    "plt.title('TotalVisits')\n",
    "plt.show()"
   ]
  },
  {
   "cell_type": "markdown",
   "metadata": {},
   "source": [
    "#### Total Time Spent on Website"
   ]
  },
  {
   "cell_type": "code",
   "execution_count": 771,
   "metadata": {},
   "outputs": [
    {
     "data": {
      "text/plain": [
       "count    9074.000000\n",
       "mean      482.887481\n",
       "std       545.256560\n",
       "min         0.000000\n",
       "25%        11.000000\n",
       "50%       246.000000\n",
       "75%       922.750000\n",
       "max      2272.000000\n",
       "Name: Total Time Spent on Website, dtype: float64"
      ]
     },
     "execution_count": 771,
     "metadata": {},
     "output_type": "execute_result"
    }
   ],
   "source": [
    "leads_df[\"Total Time Spent on Website\"].describe()"
   ]
  },
  {
   "cell_type": "code",
   "execution_count": 772,
   "metadata": {},
   "outputs": [
    {
     "data": {
      "text/plain": [
       "1373.0"
      ]
     },
     "execution_count": 772,
     "metadata": {},
     "output_type": "execute_result"
    }
   ],
   "source": [
    "leads_df[\"Total Time Spent on Website\"].quantile(0.90)"
   ]
  },
  {
   "cell_type": "code",
   "execution_count": 773,
   "metadata": {},
   "outputs": [
    {
     "data": {
      "image/png": "[encoded data removed]",
      "text/plain": [
       "<Figure size 720x288 with 1 Axes>"
      ]
     },
     "metadata": {
      "needs_background": "light"
     },
     "output_type": "display_data"
    }
   ],
   "source": [
    "plt.figure(figsize=(10,4))\n",
    "\n",
    "sns.boxplot(x=leads_df['Total Time Spent on Website'])\n",
    "\n",
    "plt.title('Total Time Spent on Website')\n",
    "plt.show()"
   ]
  },
  {
   "cell_type": "markdown",
   "metadata": {},
   "source": [
    "The box plot suggests that there are no outliers for column \"Total Time Spent on Website\""
   ]
  },
  {
   "cell_type": "markdown",
   "metadata": {},
   "source": [
    "## Data Preparation for Model Building"
   ]
  },
  {
   "cell_type": "code",
   "execution_count": 774,
   "metadata": {},
   "outputs": [
    {
     "name": "stdout",
     "output_type": "stream",
     "text": [
      "<class 'pandas.core.frame.DataFrame'>\n",
      "Int64Index: 9074 entries, 0 to 9239\n",
      "Data columns (total 17 columns):\n",
      " #   Column                                  Non-Null Count  Dtype  \n",
      "---  ------                                  --------------  -----  \n",
      " 0   Prospect ID                             9074 non-null   object \n",
      " 1   Lead Number                             9074 non-null   int64  \n",
      " 2   Lead Origin                             9074 non-null   object \n",
      " 3   Lead Source                             9074 non-null   object \n",
      " 4   Do Not Email                            9074 non-null   object \n",
      " 5   Converted                               9074 non-null   int64  \n",
      " 6   TotalVisits                             9074 non-null   float64\n",
      " 7   Total Time Spent on Website             9074 non-null   int64  \n",
      " 8   Page Views Per Visit                    9074 non-null   float64\n",
      " 9   Last Activity                           9074 non-null   object \n",
      " 10  Specialization                          9074 non-null   object \n",
      " 11  What is your current occupation         9074 non-null   object \n",
      " 12  Tags                                    9074 non-null   object \n",
      " 13  Lead Profile                            9074 non-null   object \n",
      " 14  City                                    9074 non-null   object \n",
      " 15  A free copy of Mastering The Interview  9074 non-null   object \n",
      " 16  Last Notable Activity                   9074 non-null   object \n",
      "dtypes: float64(2), int64(3), object(12)\n",
      "memory usage: 1.6+ MB\n"
     ]
    }
   ],
   "source": [
    "leads_df.info()"
   ]
  },
  {
   "cell_type": "code",
   "execution_count": 678,
   "metadata": {},
   "outputs": [
    {
     "data": {
      "text/html": [
       "<div>\n",
       "<style scoped>\n",
       "    .dataframe tbody tr th:only-of-type {\n",
       "        vertical-align: middle;\n",
       "    }\n",
       "\n",
       "    .dataframe tbody tr th {\n",
       "        vertical-align: top;\n",
       "    }\n",
       "\n",
       "    .dataframe thead th {\n",
       "        text-align: right;\n",
       "    }\n",
       "</style>\n",
       "<table border=\"1\" class=\"dataframe\">\n",
       "  <thead>\n",
       "    <tr style=\"text-align: right;\">\n",
       "      <th></th>\n",
       "      <th>Prospect ID</th>\n",
       "      <th>Lead Number</th>\n",
       "      <th>Lead Origin</th>\n",
       "      <th>Lead Source</th>\n",
       "      <th>Converted</th>\n",
       "      <th>TotalVisits</th>\n",
       "      <th>Total Time Spent on Website</th>\n",
       "      <th>Page Views Per Visit</th>\n",
       "      <th>Last Activity</th>\n",
       "      <th>Specialization</th>\n",
       "      <th>What is your current occupation</th>\n",
       "      <th>Tags</th>\n",
       "      <th>Lead Profile</th>\n",
       "      <th>City</th>\n",
       "      <th>A free copy of Mastering The Interview</th>\n",
       "      <th>Last Notable Activity</th>\n",
       "    </tr>\n",
       "  </thead>\n",
       "  <tbody>\n",
       "    <tr>\n",
       "      <th>0</th>\n",
       "      <td>7927b2df-8bba-4d29-b9a2-b6e0beafe620</td>\n",
       "      <td>660737</td>\n",
       "      <td>API</td>\n",
       "      <td>Olark Chat</td>\n",
       "      <td>0</td>\n",
       "      <td>0.0</td>\n",
       "      <td>0</td>\n",
       "      <td>0.0</td>\n",
       "      <td>Page Visited on Website</td>\n",
       "      <td>Not Specified</td>\n",
       "      <td>Unemployed</td>\n",
       "      <td>Interested in other courses</td>\n",
       "      <td>Not Specified</td>\n",
       "      <td>Mumbai</td>\n",
       "      <td>No</td>\n",
       "      <td>Modified</td>\n",
       "    </tr>\n",
       "    <tr>\n",
       "      <th>1</th>\n",
       "      <td>2a272436-5132-4136-86fa-dcc88c88f482</td>\n",
       "      <td>660728</td>\n",
       "      <td>API</td>\n",
       "      <td>Organic Search</td>\n",
       "      <td>0</td>\n",
       "      <td>5.0</td>\n",
       "      <td>674</td>\n",
       "      <td>2.5</td>\n",
       "      <td>Email Opened</td>\n",
       "      <td>Not Specified</td>\n",
       "      <td>Unemployed</td>\n",
       "      <td>Ringing</td>\n",
       "      <td>Not Specified</td>\n",
       "      <td>Mumbai</td>\n",
       "      <td>No</td>\n",
       "      <td>Email Opened</td>\n",
       "    </tr>\n",
       "    <tr>\n",
       "      <th>2</th>\n",
       "      <td>8cc8c611-a219-4f35-ad23-fdfd2656bd8a</td>\n",
       "      <td>660727</td>\n",
       "      <td>Landing Page Submission</td>\n",
       "      <td>Direct Traffic</td>\n",
       "      <td>1</td>\n",
       "      <td>2.0</td>\n",
       "      <td>1532</td>\n",
       "      <td>2.0</td>\n",
       "      <td>Email Opened</td>\n",
       "      <td>Business Administration</td>\n",
       "      <td>Student</td>\n",
       "      <td>Will revert after reading the email</td>\n",
       "      <td>Potential Lead</td>\n",
       "      <td>Mumbai</td>\n",
       "      <td>Yes</td>\n",
       "      <td>Email Opened</td>\n",
       "    </tr>\n",
       "    <tr>\n",
       "      <th>3</th>\n",
       "      <td>0cc2df48-7cf4-4e39-9de9-19797f9b38cc</td>\n",
       "      <td>660719</td>\n",
       "      <td>Landing Page Submission</td>\n",
       "      <td>Direct Traffic</td>\n",
       "      <td>0</td>\n",
       "      <td>1.0</td>\n",
       "      <td>305</td>\n",
       "      <td>1.0</td>\n",
       "      <td>Others</td>\n",
       "      <td>Media and Advertising</td>\n",
       "      <td>Unemployed</td>\n",
       "      <td>Ringing</td>\n",
       "      <td>Not Specified</td>\n",
       "      <td>Mumbai</td>\n",
       "      <td>No</td>\n",
       "      <td>Modified</td>\n",
       "    </tr>\n",
       "    <tr>\n",
       "      <th>4</th>\n",
       "      <td>3256f628-e534-4826-9d63-4a8b88782852</td>\n",
       "      <td>660681</td>\n",
       "      <td>Landing Page Submission</td>\n",
       "      <td>Google</td>\n",
       "      <td>1</td>\n",
       "      <td>2.0</td>\n",
       "      <td>1428</td>\n",
       "      <td>1.0</td>\n",
       "      <td>Converted to Lead</td>\n",
       "      <td>Not Specified</td>\n",
       "      <td>Unemployed</td>\n",
       "      <td>Will revert after reading the email</td>\n",
       "      <td>Not Specified</td>\n",
       "      <td>Mumbai</td>\n",
       "      <td>No</td>\n",
       "      <td>Modified</td>\n",
       "    </tr>\n",
       "  </tbody>\n",
       "</table>\n",
       "</div>"
      ],
      "text/plain": [
       "                            Prospect ID  Lead Number              Lead Origin  \\\n",
       "0  7927b2df-8bba-4d29-b9a2-b6e0beafe620       660737                      API   \n",
       "1  2a272436-5132-4136-86fa-dcc88c88f482       660728                      API   \n",
       "2  8cc8c611-a219-4f35-ad23-fdfd2656bd8a       660727  Landing Page Submission   \n",
       "3  0cc2df48-7cf4-4e39-9de9-19797f9b38cc       660719  Landing Page Submission   \n",
       "4  3256f628-e534-4826-9d63-4a8b88782852       660681  Landing Page Submission   \n",
       "\n",
       "      Lead Source  Converted  TotalVisits  Total Time Spent on Website  \\\n",
       "0      Olark Chat          0          0.0                            0   \n",
       "1  Organic Search          0          5.0                          674   \n",
       "2  Direct Traffic          1          2.0                         1532   \n",
       "3  Direct Traffic          0          1.0                          305   \n",
       "4          Google          1          2.0                         1428   \n",
       "\n",
       "   Page Views Per Visit            Last Activity           Specialization  \\\n",
       "0                   0.0  Page Visited on Website            Not Specified   \n",
       "1                   2.5             Email Opened            Not Specified   \n",
       "2                   2.0             Email Opened  Business Administration   \n",
       "3                   1.0                   Others    Media and Advertising   \n",
       "4                   1.0        Converted to Lead            Not Specified   \n",
       "\n",
       "  What is your current occupation                                 Tags  \\\n",
       "0                      Unemployed          Interested in other courses   \n",
       "1                      Unemployed                              Ringing   \n",
       "2                         Student  Will revert after reading the email   \n",
       "3                      Unemployed                              Ringing   \n",
       "4                      Unemployed  Will revert after reading the email   \n",
       "\n",
       "     Lead Profile    City A free copy of Mastering The Interview  \\\n",
       "0   Not Specified  Mumbai                                     No   \n",
       "1   Not Specified  Mumbai                                     No   \n",
       "2  Potential Lead  Mumbai                                    Yes   \n",
       "3   Not Specified  Mumbai                                     No   \n",
       "4   Not Specified  Mumbai                                     No   \n",
       "\n",
       "  Last Notable Activity  \n",
       "0              Modified  \n",
       "1          Email Opened  \n",
       "2          Email Opened  \n",
       "3              Modified  \n",
       "4              Modified  "
      ]
     },
     "execution_count": 678,
     "metadata": {},
     "output_type": "execute_result"
    }
   ],
   "source": [
    "leads_df.head()"
   ]
  },
  {
   "cell_type": "markdown",
   "metadata": {},
   "source": [
    "We have one column \"A free copy of Mastering The Interview\" with binary value(Yes/No), lets convert it to numeric binary 0/1."
   ]
  },
  {
   "cell_type": "code",
   "execution_count": 775,
   "metadata": {},
   "outputs": [],
   "source": [
    "# Binary mapping\n",
    "binary_map = lambda x: 1 if x == \"Yes\" else 0\n",
    "\n",
    "leads_df[\"A free copy of Mastering The Interview\"] = leads_df[\"A free copy of Mastering The Interview\"].apply(binary_map)\n",
    "leads_df[\"Do Not Email\"] = leads_df[\"Do Not Email\"].apply(binary_map)\n"
   ]
  },
  {
   "cell_type": "markdown",
   "metadata": {},
   "source": [
    "#### Creating dummy variables for categorical columns\n",
    "---------------------------------------------------------------------------------\n",
    "\n",
    "We have lot of categorical columns for which we need dummy variables."
   ]
  },
  {
   "cell_type": "code",
   "execution_count": 776,
   "metadata": {},
   "outputs": [],
   "source": [
    "d1 = pd.get_dummies(leads_df[\"Lead Origin\"], prefix = \"Origin\",drop_first = True)\n",
    "leads_df = pd.concat([leads_df,d1],axis = 1)\n",
    "leads_df.drop(\"Lead Origin\",1,inplace = True)"
   ]
  },
  {
   "cell_type": "code",
   "execution_count": 681,
   "metadata": {},
   "outputs": [
    {
     "name": "stdout",
     "output_type": "stream",
     "text": [
      "<class 'pandas.core.frame.DataFrame'>\n",
      "Int64Index: 9074 entries, 0 to 9239\n",
      "Data columns (total 18 columns):\n",
      " #   Column                           Non-Null Count  Dtype  \n",
      "---  ------                           --------------  -----  \n",
      " 0   Prospect ID                      9074 non-null   object \n",
      " 1   Lead Number                      9074 non-null   int64  \n",
      " 2   Lead Source                      9074 non-null   object \n",
      " 3   Converted                        9074 non-null   int64  \n",
      " 4   TotalVisits                      9074 non-null   float64\n",
      " 5   Total Time Spent on Website      9074 non-null   int64  \n",
      " 6   Page Views Per Visit             9074 non-null   float64\n",
      " 7   Last Activity                    9074 non-null   object \n",
      " 8   Specialization                   9074 non-null   object \n",
      " 9   What is your current occupation  9074 non-null   object \n",
      " 10  Tags                             9074 non-null   object \n",
      " 11  Lead Profile                     9074 non-null   object \n",
      " 12  City                             9074 non-null   object \n",
      " 13  Last Notable Activity            9074 non-null   object \n",
      " 14  Copy of Mastering The Interview  9074 non-null   int64  \n",
      " 15  Origin_Landing Page Submission   9074 non-null   uint8  \n",
      " 16  Origin_Lead Add Form             9074 non-null   uint8  \n",
      " 17  Origin_Lead Import               9074 non-null   uint8  \n",
      "dtypes: float64(2), int64(4), object(9), uint8(3)\n",
      "memory usage: 1.4+ MB\n"
     ]
    }
   ],
   "source": [
    "leads_df.info()"
   ]
  },
  {
   "cell_type": "code",
   "execution_count": 777,
   "metadata": {},
   "outputs": [],
   "source": [
    "# Lead Source\n",
    "d1 = pd.get_dummies(leads_df[\"Lead Source\"], prefix = \"Source\",drop_first = True)\n",
    "leads_df = pd.concat([leads_df,d1],axis = 1)\n",
    "leads_df.drop(\"Lead Source\",1,inplace = True)\n",
    "\n",
    "# Last Activity\n",
    "d1 = pd.get_dummies(leads_df[\"Last Activity\"], prefix = \"last_activity\",drop_first = True)\n",
    "leads_df = pd.concat([leads_df,d1],axis = 1)\n",
    "leads_df.drop(\"Last Activity\",1,inplace = True)\n",
    "\n",
    "# Specialization\n",
    "d1 = pd.get_dummies(leads_df[\"Specialization\"], prefix = \"Specialization\",drop_first = True)\n",
    "leads_df = pd.concat([leads_df,d1],axis = 1)\n",
    "leads_df.drop(\"Specialization\",1,inplace = True)\n",
    "\n",
    "# What is your current occupation\n",
    "d1 = pd.get_dummies(leads_df[\"What is your current occupation\"], prefix = \"occupation\",drop_first = True)\n",
    "leads_df = pd.concat([leads_df,d1],axis = 1)\n",
    "leads_df.drop(\"What is your current occupation\",1,inplace = True)\n",
    "\n",
    "# Tags\n",
    "d1 = pd.get_dummies(leads_df[\"Tags\"], prefix = \"Tag\",drop_first = True)\n",
    "leads_df = pd.concat([leads_df,d1],axis = 1)\n",
    "leads_df.drop(\"Tags\",1,inplace = True)\n",
    "\n",
    "# Lead Profile\n",
    "d1 = pd.get_dummies(leads_df[\"Lead Profile\"], prefix = \"Profile\",drop_first = True)\n",
    "leads_df = pd.concat([leads_df,d1],axis = 1)\n",
    "leads_df.drop(\"Lead Profile\",1,inplace = True)\n",
    "\n",
    "# City\n",
    "d1 = pd.get_dummies(leads_df[\"City\"], prefix = \"City\",drop_first = True)\n",
    "leads_df = pd.concat([leads_df,d1],axis = 1)\n",
    "leads_df.drop(\"City\",1,inplace = True)\n",
    "\n",
    "\n",
    "# City\n",
    "d1 = pd.get_dummies(leads_df[\"Last Notable Activity\"], prefix = \"Last Notable Activity\",drop_first = True)\n",
    "leads_df = pd.concat([leads_df,d1],axis = 1)\n",
    "leads_df.drop(\"Last Notable Activity\",1,inplace = True)"
   ]
  },
  {
   "cell_type": "code",
   "execution_count": 778,
   "metadata": {},
   "outputs": [
    {
     "name": "stdout",
     "output_type": "stream",
     "text": [
      "<class 'pandas.core.frame.DataFrame'>\n",
      "Int64Index: 9074 entries, 0 to 9239\n",
      "Data columns (total 64 columns):\n",
      " #   Column                                         Non-Null Count  Dtype  \n",
      "---  ------                                         --------------  -----  \n",
      " 0   Prospect ID                                    9074 non-null   object \n",
      " 1   Lead Number                                    9074 non-null   int64  \n",
      " 2   Do Not Email                                   9074 non-null   int64  \n",
      " 3   Converted                                      9074 non-null   int64  \n",
      " 4   TotalVisits                                    9074 non-null   float64\n",
      " 5   Total Time Spent on Website                    9074 non-null   int64  \n",
      " 6   Page Views Per Visit                           9074 non-null   float64\n",
      " 7   A free copy of Mastering The Interview         9074 non-null   int64  \n",
      " 8   Origin_Landing Page Submission                 9074 non-null   uint8  \n",
      " 9   Origin_Lead Add Form                           9074 non-null   uint8  \n",
      " 10  Origin_Lead Import                             9074 non-null   uint8  \n",
      " 11  Source_Google                                  9074 non-null   uint8  \n",
      " 12  Source_Olark Chat                              9074 non-null   uint8  \n",
      " 13  Source_Organic Search                          9074 non-null   uint8  \n",
      " 14  Source_Others                                  9074 non-null   uint8  \n",
      " 15  Source_Reference                               9074 non-null   uint8  \n",
      " 16  Source_Referral Sites                          9074 non-null   uint8  \n",
      " 17  Source_Welingak Website                        9074 non-null   uint8  \n",
      " 18  last_activity_Email Bounced                    9074 non-null   uint8  \n",
      " 19  last_activity_Email Link Clicked               9074 non-null   uint8  \n",
      " 20  last_activity_Email Opened                     9074 non-null   uint8  \n",
      " 21  last_activity_Form Submitted on Website        9074 non-null   uint8  \n",
      " 22  last_activity_Olark Chat Conversation          9074 non-null   uint8  \n",
      " 23  last_activity_Others                           9074 non-null   uint8  \n",
      " 24  last_activity_Page Visited on Website          9074 non-null   uint8  \n",
      " 25  last_activity_SMS Sent                         9074 non-null   uint8  \n",
      " 26  Specialization_Business Administration         9074 non-null   uint8  \n",
      " 27  Specialization_E-Business                      9074 non-null   uint8  \n",
      " 28  Specialization_E-COMMERCE                      9074 non-null   uint8  \n",
      " 29  Specialization_International Business          9074 non-null   uint8  \n",
      " 30  Specialization_Managements                     9074 non-null   uint8  \n",
      " 31  Specialization_Media and Advertising           9074 non-null   uint8  \n",
      " 32  Specialization_Not Specified                   9074 non-null   uint8  \n",
      " 33  Specialization_Rural and Agribusiness          9074 non-null   uint8  \n",
      " 34  Specialization_Services Excellence             9074 non-null   uint8  \n",
      " 35  Specialization_Travel and Tourism              9074 non-null   uint8  \n",
      " 36  occupation_Housewife                           9074 non-null   uint8  \n",
      " 37  occupation_Other                               9074 non-null   uint8  \n",
      " 38  occupation_Student                             9074 non-null   uint8  \n",
      " 39  occupation_Unemployed                          9074 non-null   uint8  \n",
      " 40  occupation_Working Professional                9074 non-null   uint8  \n",
      " 41  Tag_Closed by Horizzon                         9074 non-null   uint8  \n",
      " 42  Tag_Interested in other courses                9074 non-null   uint8  \n",
      " 43  Tag_Lost to EINS                               9074 non-null   uint8  \n",
      " 44  Tag_Not Specified                              9074 non-null   uint8  \n",
      " 45  Tag_Others                                     9074 non-null   uint8  \n",
      " 46  Tag_Ringing                                    9074 non-null   uint8  \n",
      " 47  Tag_Will revert after reading the email        9074 non-null   uint8  \n",
      " 48  Profile_Lateral Student                        9074 non-null   uint8  \n",
      " 49  Profile_Not Specified                          9074 non-null   uint8  \n",
      " 50  Profile_Other Leads                            9074 non-null   uint8  \n",
      " 51  Profile_Potential Lead                         9074 non-null   uint8  \n",
      " 52  Profile_Student of SomeSchool                  9074 non-null   uint8  \n",
      " 53  City_Other Cities                              9074 non-null   uint8  \n",
      " 54  City_Other Cities of Maharashtra               9074 non-null   uint8  \n",
      " 55  City_Other Metro Cities                        9074 non-null   uint8  \n",
      " 56  City_Thane & Outskirts                         9074 non-null   uint8  \n",
      " 57  City_Tier II Cities                            9074 non-null   uint8  \n",
      " 58  Last Notable Activity_Email Opened             9074 non-null   uint8  \n",
      " 59  Last Notable Activity_Modified                 9074 non-null   uint8  \n",
      " 60  Last Notable Activity_Olark Chat Conversation  9074 non-null   uint8  \n",
      " 61  Last Notable Activity_Others                   9074 non-null   uint8  \n",
      " 62  Last Notable Activity_Page Visited on Website  9074 non-null   uint8  \n",
      " 63  Last Notable Activity_SMS Sent                 9074 non-null   uint8  \n",
      "dtypes: float64(2), int64(5), object(1), uint8(56)\n",
      "memory usage: 1.4+ MB\n"
     ]
    }
   ],
   "source": [
    "leads_df.info()"
   ]
  },
  {
   "cell_type": "markdown",
   "metadata": {},
   "source": [
    "#### Creating Training and Test datasets"
   ]
  },
  {
   "cell_type": "code",
   "execution_count": 779,
   "metadata": {},
   "outputs": [],
   "source": [
    "# create X and Y datasets\n",
    "\n",
    "x = leads_df.drop([\"Prospect ID\",\"Lead Number\",\"Converted\"], axis=1) # independant variables\n",
    "y = leads_df['Converted'] # Target Variable"
   ]
  },
  {
   "cell_type": "code",
   "execution_count": 780,
   "metadata": {},
   "outputs": [],
   "source": [
    "# test, train split 70:30\n",
    "\n",
    "X_train, X_test, y_train, y_test = train_test_split(x, y, train_size=0.7, test_size=0.3, random_state=100)"
   ]
  },
  {
   "cell_type": "code",
   "execution_count": 686,
   "metadata": {},
   "outputs": [
    {
     "data": {
      "text/plain": [
       "3009    0\n",
       "1012    0\n",
       "9226    0\n",
       "4750    1\n",
       "7987    1\n",
       "Name: Converted, dtype: int64"
      ]
     },
     "execution_count": 686,
     "metadata": {},
     "output_type": "execute_result"
    }
   ],
   "source": [
    "y_train.head()"
   ]
  },
  {
   "cell_type": "code",
   "execution_count": 781,
   "metadata": {},
   "outputs": [
    {
     "data": {
      "text/html": [
       "<div>\n",
       "<style scoped>\n",
       "    .dataframe tbody tr th:only-of-type {\n",
       "        vertical-align: middle;\n",
       "    }\n",
       "\n",
       "    .dataframe tbody tr th {\n",
       "        vertical-align: top;\n",
       "    }\n",
       "\n",
       "    .dataframe thead th {\n",
       "        text-align: right;\n",
       "    }\n",
       "</style>\n",
       "<table border=\"1\" class=\"dataframe\">\n",
       "  <thead>\n",
       "    <tr style=\"text-align: right;\">\n",
       "      <th></th>\n",
       "      <th>Do Not Email</th>\n",
       "      <th>TotalVisits</th>\n",
       "      <th>Total Time Spent on Website</th>\n",
       "      <th>Page Views Per Visit</th>\n",
       "      <th>A free copy of Mastering The Interview</th>\n",
       "      <th>Origin_Landing Page Submission</th>\n",
       "      <th>Origin_Lead Add Form</th>\n",
       "      <th>Origin_Lead Import</th>\n",
       "      <th>Source_Google</th>\n",
       "      <th>Source_Olark Chat</th>\n",
       "      <th>...</th>\n",
       "      <th>City_Other Cities of Maharashtra</th>\n",
       "      <th>City_Other Metro Cities</th>\n",
       "      <th>City_Thane &amp; Outskirts</th>\n",
       "      <th>City_Tier II Cities</th>\n",
       "      <th>Last Notable Activity_Email Opened</th>\n",
       "      <th>Last Notable Activity_Modified</th>\n",
       "      <th>Last Notable Activity_Olark Chat Conversation</th>\n",
       "      <th>Last Notable Activity_Others</th>\n",
       "      <th>Last Notable Activity_Page Visited on Website</th>\n",
       "      <th>Last Notable Activity_SMS Sent</th>\n",
       "    </tr>\n",
       "  </thead>\n",
       "  <tbody>\n",
       "    <tr>\n",
       "      <th>3009</th>\n",
       "      <td>0</td>\n",
       "      <td>2.0</td>\n",
       "      <td>397</td>\n",
       "      <td>2.0</td>\n",
       "      <td>1</td>\n",
       "      <td>1</td>\n",
       "      <td>0</td>\n",
       "      <td>0</td>\n",
       "      <td>0</td>\n",
       "      <td>0</td>\n",
       "      <td>...</td>\n",
       "      <td>0</td>\n",
       "      <td>0</td>\n",
       "      <td>0</td>\n",
       "      <td>0</td>\n",
       "      <td>1</td>\n",
       "      <td>0</td>\n",
       "      <td>0</td>\n",
       "      <td>0</td>\n",
       "      <td>0</td>\n",
       "      <td>0</td>\n",
       "    </tr>\n",
       "    <tr>\n",
       "      <th>1012</th>\n",
       "      <td>1</td>\n",
       "      <td>2.0</td>\n",
       "      <td>190</td>\n",
       "      <td>2.0</td>\n",
       "      <td>0</td>\n",
       "      <td>1</td>\n",
       "      <td>0</td>\n",
       "      <td>0</td>\n",
       "      <td>0</td>\n",
       "      <td>0</td>\n",
       "      <td>...</td>\n",
       "      <td>0</td>\n",
       "      <td>0</td>\n",
       "      <td>0</td>\n",
       "      <td>0</td>\n",
       "      <td>0</td>\n",
       "      <td>0</td>\n",
       "      <td>0</td>\n",
       "      <td>1</td>\n",
       "      <td>0</td>\n",
       "      <td>0</td>\n",
       "    </tr>\n",
       "    <tr>\n",
       "      <th>9226</th>\n",
       "      <td>0</td>\n",
       "      <td>0.0</td>\n",
       "      <td>0</td>\n",
       "      <td>0.0</td>\n",
       "      <td>0</td>\n",
       "      <td>0</td>\n",
       "      <td>0</td>\n",
       "      <td>0</td>\n",
       "      <td>0</td>\n",
       "      <td>1</td>\n",
       "      <td>...</td>\n",
       "      <td>0</td>\n",
       "      <td>0</td>\n",
       "      <td>0</td>\n",
       "      <td>0</td>\n",
       "      <td>0</td>\n",
       "      <td>1</td>\n",
       "      <td>0</td>\n",
       "      <td>0</td>\n",
       "      <td>0</td>\n",
       "      <td>0</td>\n",
       "    </tr>\n",
       "    <tr>\n",
       "      <th>4750</th>\n",
       "      <td>0</td>\n",
       "      <td>2.0</td>\n",
       "      <td>1380</td>\n",
       "      <td>2.0</td>\n",
       "      <td>0</td>\n",
       "      <td>1</td>\n",
       "      <td>0</td>\n",
       "      <td>0</td>\n",
       "      <td>0</td>\n",
       "      <td>0</td>\n",
       "      <td>...</td>\n",
       "      <td>0</td>\n",
       "      <td>0</td>\n",
       "      <td>0</td>\n",
       "      <td>0</td>\n",
       "      <td>0</td>\n",
       "      <td>0</td>\n",
       "      <td>0</td>\n",
       "      <td>0</td>\n",
       "      <td>0</td>\n",
       "      <td>1</td>\n",
       "    </tr>\n",
       "    <tr>\n",
       "      <th>7987</th>\n",
       "      <td>0</td>\n",
       "      <td>5.0</td>\n",
       "      <td>1584</td>\n",
       "      <td>2.5</td>\n",
       "      <td>0</td>\n",
       "      <td>1</td>\n",
       "      <td>0</td>\n",
       "      <td>0</td>\n",
       "      <td>0</td>\n",
       "      <td>0</td>\n",
       "      <td>...</td>\n",
       "      <td>1</td>\n",
       "      <td>0</td>\n",
       "      <td>0</td>\n",
       "      <td>0</td>\n",
       "      <td>0</td>\n",
       "      <td>1</td>\n",
       "      <td>0</td>\n",
       "      <td>0</td>\n",
       "      <td>0</td>\n",
       "      <td>0</td>\n",
       "    </tr>\n",
       "  </tbody>\n",
       "</table>\n",
       "<p>5 rows × 61 columns</p>\n",
       "</div>"
      ],
      "text/plain": [
       "      Do Not Email  TotalVisits  Total Time Spent on Website  \\\n",
       "3009             0          2.0                          397   \n",
       "1012             1          2.0                          190   \n",
       "9226             0          0.0                            0   \n",
       "4750             0          2.0                         1380   \n",
       "7987             0          5.0                         1584   \n",
       "\n",
       "      Page Views Per Visit  A free copy of Mastering The Interview  \\\n",
       "3009                   2.0                                       1   \n",
       "1012                   2.0                                       0   \n",
       "9226                   0.0                                       0   \n",
       "4750                   2.0                                       0   \n",
       "7987                   2.5                                       0   \n",
       "\n",
       "      Origin_Landing Page Submission  Origin_Lead Add Form  \\\n",
       "3009                               1                     0   \n",
       "1012                               1                     0   \n",
       "9226                               0                     0   \n",
       "4750                               1                     0   \n",
       "7987                               1                     0   \n",
       "\n",
       "      Origin_Lead Import  Source_Google  Source_Olark Chat  ...  \\\n",
       "3009                   0              0                  0  ...   \n",
       "1012                   0              0                  0  ...   \n",
       "9226                   0              0                  1  ...   \n",
       "4750                   0              0                  0  ...   \n",
       "7987                   0              0                  0  ...   \n",
       "\n",
       "      City_Other Cities of Maharashtra  City_Other Metro Cities  \\\n",
       "3009                                 0                        0   \n",
       "1012                                 0                        0   \n",
       "9226                                 0                        0   \n",
       "4750                                 0                        0   \n",
       "7987                                 1                        0   \n",
       "\n",
       "      City_Thane & Outskirts  City_Tier II Cities  \\\n",
       "3009                       0                    0   \n",
       "1012                       0                    0   \n",
       "9226                       0                    0   \n",
       "4750                       0                    0   \n",
       "7987                       0                    0   \n",
       "\n",
       "      Last Notable Activity_Email Opened  Last Notable Activity_Modified  \\\n",
       "3009                                   1                               0   \n",
       "1012                                   0                               0   \n",
       "9226                                   0                               1   \n",
       "4750                                   0                               0   \n",
       "7987                                   0                               1   \n",
       "\n",
       "      Last Notable Activity_Olark Chat Conversation  \\\n",
       "3009                                              0   \n",
       "1012                                              0   \n",
       "9226                                              0   \n",
       "4750                                              0   \n",
       "7987                                              0   \n",
       "\n",
       "      Last Notable Activity_Others  \\\n",
       "3009                             0   \n",
       "1012                             1   \n",
       "9226                             0   \n",
       "4750                             0   \n",
       "7987                             0   \n",
       "\n",
       "      Last Notable Activity_Page Visited on Website  \\\n",
       "3009                                              0   \n",
       "1012                                              0   \n",
       "9226                                              0   \n",
       "4750                                              0   \n",
       "7987                                              0   \n",
       "\n",
       "      Last Notable Activity_SMS Sent  \n",
       "3009                               0  \n",
       "1012                               0  \n",
       "9226                               0  \n",
       "4750                               1  \n",
       "7987                               0  \n",
       "\n",
       "[5 rows x 61 columns]"
      ]
     },
     "execution_count": 781,
     "metadata": {},
     "output_type": "execute_result"
    }
   ],
   "source": [
    "X_train.head()"
   ]
  },
  {
   "cell_type": "markdown",
   "metadata": {},
   "source": [
    "#### Scalling data for numeric variables."
   ]
  },
  {
   "cell_type": "code",
   "execution_count": 782,
   "metadata": {},
   "outputs": [
    {
     "data": {
      "text/html": [
       "<div>\n",
       "<style scoped>\n",
       "    .dataframe tbody tr th:only-of-type {\n",
       "        vertical-align: middle;\n",
       "    }\n",
       "\n",
       "    .dataframe tbody tr th {\n",
       "        vertical-align: top;\n",
       "    }\n",
       "\n",
       "    .dataframe thead th {\n",
       "        text-align: right;\n",
       "    }\n",
       "</style>\n",
       "<table border=\"1\" class=\"dataframe\">\n",
       "  <thead>\n",
       "    <tr style=\"text-align: right;\">\n",
       "      <th></th>\n",
       "      <th>Do Not Email</th>\n",
       "      <th>TotalVisits</th>\n",
       "      <th>Total Time Spent on Website</th>\n",
       "      <th>Page Views Per Visit</th>\n",
       "      <th>A free copy of Mastering The Interview</th>\n",
       "      <th>Origin_Landing Page Submission</th>\n",
       "      <th>Origin_Lead Add Form</th>\n",
       "      <th>Origin_Lead Import</th>\n",
       "      <th>Source_Google</th>\n",
       "      <th>Source_Olark Chat</th>\n",
       "      <th>...</th>\n",
       "      <th>City_Other Cities of Maharashtra</th>\n",
       "      <th>City_Other Metro Cities</th>\n",
       "      <th>City_Thane &amp; Outskirts</th>\n",
       "      <th>City_Tier II Cities</th>\n",
       "      <th>Last Notable Activity_Email Opened</th>\n",
       "      <th>Last Notable Activity_Modified</th>\n",
       "      <th>Last Notable Activity_Olark Chat Conversation</th>\n",
       "      <th>Last Notable Activity_Others</th>\n",
       "      <th>Last Notable Activity_Page Visited on Website</th>\n",
       "      <th>Last Notable Activity_SMS Sent</th>\n",
       "    </tr>\n",
       "  </thead>\n",
       "  <tbody>\n",
       "    <tr>\n",
       "      <th>3009</th>\n",
       "      <td>0</td>\n",
       "      <td>-0.417238</td>\n",
       "      <td>-0.160255</td>\n",
       "      <td>-0.179666</td>\n",
       "      <td>1</td>\n",
       "      <td>1</td>\n",
       "      <td>0</td>\n",
       "      <td>0</td>\n",
       "      <td>0</td>\n",
       "      <td>0</td>\n",
       "      <td>...</td>\n",
       "      <td>0</td>\n",
       "      <td>0</td>\n",
       "      <td>0</td>\n",
       "      <td>0</td>\n",
       "      <td>1</td>\n",
       "      <td>0</td>\n",
       "      <td>0</td>\n",
       "      <td>0</td>\n",
       "      <td>0</td>\n",
       "      <td>0</td>\n",
       "    </tr>\n",
       "    <tr>\n",
       "      <th>1012</th>\n",
       "      <td>1</td>\n",
       "      <td>-0.417238</td>\n",
       "      <td>-0.540048</td>\n",
       "      <td>-0.179666</td>\n",
       "      <td>0</td>\n",
       "      <td>1</td>\n",
       "      <td>0</td>\n",
       "      <td>0</td>\n",
       "      <td>0</td>\n",
       "      <td>0</td>\n",
       "      <td>...</td>\n",
       "      <td>0</td>\n",
       "      <td>0</td>\n",
       "      <td>0</td>\n",
       "      <td>0</td>\n",
       "      <td>0</td>\n",
       "      <td>0</td>\n",
       "      <td>0</td>\n",
       "      <td>1</td>\n",
       "      <td>0</td>\n",
       "      <td>0</td>\n",
       "    </tr>\n",
       "    <tr>\n",
       "      <th>9226</th>\n",
       "      <td>0</td>\n",
       "      <td>-1.034493</td>\n",
       "      <td>-0.888650</td>\n",
       "      <td>-1.132538</td>\n",
       "      <td>0</td>\n",
       "      <td>0</td>\n",
       "      <td>0</td>\n",
       "      <td>0</td>\n",
       "      <td>0</td>\n",
       "      <td>1</td>\n",
       "      <td>...</td>\n",
       "      <td>0</td>\n",
       "      <td>0</td>\n",
       "      <td>0</td>\n",
       "      <td>0</td>\n",
       "      <td>0</td>\n",
       "      <td>1</td>\n",
       "      <td>0</td>\n",
       "      <td>0</td>\n",
       "      <td>0</td>\n",
       "      <td>0</td>\n",
       "    </tr>\n",
       "    <tr>\n",
       "      <th>4750</th>\n",
       "      <td>0</td>\n",
       "      <td>-0.417238</td>\n",
       "      <td>1.643304</td>\n",
       "      <td>-0.179666</td>\n",
       "      <td>0</td>\n",
       "      <td>1</td>\n",
       "      <td>0</td>\n",
       "      <td>0</td>\n",
       "      <td>0</td>\n",
       "      <td>0</td>\n",
       "      <td>...</td>\n",
       "      <td>0</td>\n",
       "      <td>0</td>\n",
       "      <td>0</td>\n",
       "      <td>0</td>\n",
       "      <td>0</td>\n",
       "      <td>0</td>\n",
       "      <td>0</td>\n",
       "      <td>0</td>\n",
       "      <td>0</td>\n",
       "      <td>1</td>\n",
       "    </tr>\n",
       "    <tr>\n",
       "      <th>7987</th>\n",
       "      <td>0</td>\n",
       "      <td>0.508645</td>\n",
       "      <td>2.017593</td>\n",
       "      <td>0.058552</td>\n",
       "      <td>0</td>\n",
       "      <td>1</td>\n",
       "      <td>0</td>\n",
       "      <td>0</td>\n",
       "      <td>0</td>\n",
       "      <td>0</td>\n",
       "      <td>...</td>\n",
       "      <td>1</td>\n",
       "      <td>0</td>\n",
       "      <td>0</td>\n",
       "      <td>0</td>\n",
       "      <td>0</td>\n",
       "      <td>1</td>\n",
       "      <td>0</td>\n",
       "      <td>0</td>\n",
       "      <td>0</td>\n",
       "      <td>0</td>\n",
       "    </tr>\n",
       "  </tbody>\n",
       "</table>\n",
       "<p>5 rows × 61 columns</p>\n",
       "</div>"
      ],
      "text/plain": [
       "      Do Not Email  TotalVisits  Total Time Spent on Website  \\\n",
       "3009             0    -0.417238                    -0.160255   \n",
       "1012             1    -0.417238                    -0.540048   \n",
       "9226             0    -1.034493                    -0.888650   \n",
       "4750             0    -0.417238                     1.643304   \n",
       "7987             0     0.508645                     2.017593   \n",
       "\n",
       "      Page Views Per Visit  A free copy of Mastering The Interview  \\\n",
       "3009             -0.179666                                       1   \n",
       "1012             -0.179666                                       0   \n",
       "9226             -1.132538                                       0   \n",
       "4750             -0.179666                                       0   \n",
       "7987              0.058552                                       0   \n",
       "\n",
       "      Origin_Landing Page Submission  Origin_Lead Add Form  \\\n",
       "3009                               1                     0   \n",
       "1012                               1                     0   \n",
       "9226                               0                     0   \n",
       "4750                               1                     0   \n",
       "7987                               1                     0   \n",
       "\n",
       "      Origin_Lead Import  Source_Google  Source_Olark Chat  ...  \\\n",
       "3009                   0              0                  0  ...   \n",
       "1012                   0              0                  0  ...   \n",
       "9226                   0              0                  1  ...   \n",
       "4750                   0              0                  0  ...   \n",
       "7987                   0              0                  0  ...   \n",
       "\n",
       "      City_Other Cities of Maharashtra  City_Other Metro Cities  \\\n",
       "3009                                 0                        0   \n",
       "1012                                 0                        0   \n",
       "9226                                 0                        0   \n",
       "4750                                 0                        0   \n",
       "7987                                 1                        0   \n",
       "\n",
       "      City_Thane & Outskirts  City_Tier II Cities  \\\n",
       "3009                       0                    0   \n",
       "1012                       0                    0   \n",
       "9226                       0                    0   \n",
       "4750                       0                    0   \n",
       "7987                       0                    0   \n",
       "\n",
       "      Last Notable Activity_Email Opened  Last Notable Activity_Modified  \\\n",
       "3009                                   1                               0   \n",
       "1012                                   0                               0   \n",
       "9226                                   0                               1   \n",
       "4750                                   0                               0   \n",
       "7987                                   0                               1   \n",
       "\n",
       "      Last Notable Activity_Olark Chat Conversation  \\\n",
       "3009                                              0   \n",
       "1012                                              0   \n",
       "9226                                              0   \n",
       "4750                                              0   \n",
       "7987                                              0   \n",
       "\n",
       "      Last Notable Activity_Others  \\\n",
       "3009                             0   \n",
       "1012                             1   \n",
       "9226                             0   \n",
       "4750                             0   \n",
       "7987                             0   \n",
       "\n",
       "      Last Notable Activity_Page Visited on Website  \\\n",
       "3009                                              0   \n",
       "1012                                              0   \n",
       "9226                                              0   \n",
       "4750                                              0   \n",
       "7987                                              0   \n",
       "\n",
       "      Last Notable Activity_SMS Sent  \n",
       "3009                               0  \n",
       "1012                               0  \n",
       "9226                               0  \n",
       "4750                               1  \n",
       "7987                               0  \n",
       "\n",
       "[5 rows x 61 columns]"
      ]
     },
     "execution_count": 782,
     "metadata": {},
     "output_type": "execute_result"
    }
   ],
   "source": [
    "scaler = StandardScaler()\n",
    "X_train[[\"TotalVisits\",\"Total Time Spent on Website\",\"Page Views Per Visit\"]] = scaler.fit_transform(X_train[[\"TotalVisits\",\"Total Time Spent on Website\",\"Page Views Per Visit\"]])\n",
    "X_train.head()"
   ]
  },
  {
   "cell_type": "code",
   "execution_count": 783,
   "metadata": {},
   "outputs": [
    {
     "data": {
      "text/plain": [
       "0.3785541106458012"
      ]
     },
     "execution_count": 783,
     "metadata": {},
     "output_type": "execute_result"
    }
   ],
   "source": [
    "# Check if there is imbalance for conversion rate\n",
    "sum(leads_df[\"Converted\"])/len(leads_df[\"Converted\"].index)"
   ]
  },
  {
   "cell_type": "markdown",
   "metadata": {},
   "source": [
    "Conversion Rate is 37% which indicates there is not a lot of imbalance which we need to handle."
   ]
  },
  {
   "cell_type": "code",
   "execution_count": 784,
   "metadata": {},
   "outputs": [
    {
     "data": {
      "text/html": [
       "<div>\n",
       "<style scoped>\n",
       "    .dataframe tbody tr th:only-of-type {\n",
       "        vertical-align: middle;\n",
       "    }\n",
       "\n",
       "    .dataframe tbody tr th {\n",
       "        vertical-align: top;\n",
       "    }\n",
       "\n",
       "    .dataframe thead th {\n",
       "        text-align: right;\n",
       "    }\n",
       "</style>\n",
       "<table border=\"1\" class=\"dataframe\">\n",
       "  <thead>\n",
       "    <tr style=\"text-align: right;\">\n",
       "      <th></th>\n",
       "      <th>Lead Number</th>\n",
       "      <th>Do Not Email</th>\n",
       "      <th>Converted</th>\n",
       "      <th>TotalVisits</th>\n",
       "      <th>Total Time Spent on Website</th>\n",
       "      <th>Page Views Per Visit</th>\n",
       "      <th>A free copy of Mastering The Interview</th>\n",
       "      <th>Origin_Landing Page Submission</th>\n",
       "      <th>Origin_Lead Add Form</th>\n",
       "      <th>Origin_Lead Import</th>\n",
       "      <th>...</th>\n",
       "      <th>City_Other Cities of Maharashtra</th>\n",
       "      <th>City_Other Metro Cities</th>\n",
       "      <th>City_Thane &amp; Outskirts</th>\n",
       "      <th>City_Tier II Cities</th>\n",
       "      <th>Last Notable Activity_Email Opened</th>\n",
       "      <th>Last Notable Activity_Modified</th>\n",
       "      <th>Last Notable Activity_Olark Chat Conversation</th>\n",
       "      <th>Last Notable Activity_Others</th>\n",
       "      <th>Last Notable Activity_Page Visited on Website</th>\n",
       "      <th>Last Notable Activity_SMS Sent</th>\n",
       "    </tr>\n",
       "  </thead>\n",
       "  <tbody>\n",
       "    <tr>\n",
       "      <th>Lead Number</th>\n",
       "      <td>1.000000</td>\n",
       "      <td>-0.098898</td>\n",
       "      <td>0.022830</td>\n",
       "      <td>0.039849</td>\n",
       "      <td>0.018360</td>\n",
       "      <td>0.058703</td>\n",
       "      <td>-0.106875</td>\n",
       "      <td>-0.069574</td>\n",
       "      <td>0.024933</td>\n",
       "      <td>0.075668</td>\n",
       "      <td>...</td>\n",
       "      <td>-0.006918</td>\n",
       "      <td>-0.025517</td>\n",
       "      <td>0.025293</td>\n",
       "      <td>-0.039212</td>\n",
       "      <td>0.082276</td>\n",
       "      <td>0.073397</td>\n",
       "      <td>-0.031037</td>\n",
       "      <td>0.003497</td>\n",
       "      <td>0.003162</td>\n",
       "      <td>-0.169679</td>\n",
       "    </tr>\n",
       "    <tr>\n",
       "      <th>Do Not Email</th>\n",
       "      <td>-0.098898</td>\n",
       "      <td>1.000000</td>\n",
       "      <td>-0.140786</td>\n",
       "      <td>0.011474</td>\n",
       "      <td>-0.046192</td>\n",
       "      <td>0.036403</td>\n",
       "      <td>0.058023</td>\n",
       "      <td>0.099661</td>\n",
       "      <td>-0.031468</td>\n",
       "      <td>-0.016857</td>\n",
       "      <td>...</td>\n",
       "      <td>-0.004146</td>\n",
       "      <td>0.039438</td>\n",
       "      <td>-0.005637</td>\n",
       "      <td>0.046183</td>\n",
       "      <td>-0.189628</td>\n",
       "      <td>0.122812</td>\n",
       "      <td>-0.012911</td>\n",
       "      <td>0.298559</td>\n",
       "      <td>0.050922</td>\n",
       "      <td>-0.029608</td>\n",
       "    </tr>\n",
       "    <tr>\n",
       "      <th>Converted</th>\n",
       "      <td>0.022830</td>\n",
       "      <td>-0.140786</td>\n",
       "      <td>1.000000</td>\n",
       "      <td>0.048849</td>\n",
       "      <td>0.359261</td>\n",
       "      <td>0.000260</td>\n",
       "      <td>-0.030860</td>\n",
       "      <td>-0.037481</td>\n",
       "      <td>0.300775</td>\n",
       "      <td>-0.009328</td>\n",
       "      <td>...</td>\n",
       "      <td>0.028551</td>\n",
       "      <td>0.012849</td>\n",
       "      <td>0.041365</td>\n",
       "      <td>-0.007612</td>\n",
       "      <td>-0.013084</td>\n",
       "      <td>-0.263532</td>\n",
       "      <td>-0.071564</td>\n",
       "      <td>0.002064</td>\n",
       "      <td>-0.033830</td>\n",
       "      <td>0.360233</td>\n",
       "    </tr>\n",
       "    <tr>\n",
       "      <th>TotalVisits</th>\n",
       "      <td>0.039849</td>\n",
       "      <td>0.011474</td>\n",
       "      <td>0.048849</td>\n",
       "      <td>1.000000</td>\n",
       "      <td>0.328090</td>\n",
       "      <td>0.692218</td>\n",
       "      <td>0.279351</td>\n",
       "      <td>0.408633</td>\n",
       "      <td>-0.245896</td>\n",
       "      <td>-0.054484</td>\n",
       "      <td>...</td>\n",
       "      <td>0.054384</td>\n",
       "      <td>0.068032</td>\n",
       "      <td>0.094597</td>\n",
       "      <td>0.019821</td>\n",
       "      <td>0.065894</td>\n",
       "      <td>-0.145228</td>\n",
       "      <td>-0.053227</td>\n",
       "      <td>0.013932</td>\n",
       "      <td>0.228477</td>\n",
       "      <td>0.010316</td>\n",
       "    </tr>\n",
       "    <tr>\n",
       "      <th>Total Time Spent on Website</th>\n",
       "      <td>0.018360</td>\n",
       "      <td>-0.046192</td>\n",
       "      <td>0.359261</td>\n",
       "      <td>0.328090</td>\n",
       "      <td>1.000000</td>\n",
       "      <td>0.318350</td>\n",
       "      <td>0.177435</td>\n",
       "      <td>0.292571</td>\n",
       "      <td>-0.188526</td>\n",
       "      <td>-0.050742</td>\n",
       "      <td>...</td>\n",
       "      <td>0.069355</td>\n",
       "      <td>0.050121</td>\n",
       "      <td>0.076813</td>\n",
       "      <td>0.021938</td>\n",
       "      <td>0.016546</td>\n",
       "      <td>-0.127020</td>\n",
       "      <td>-0.050877</td>\n",
       "      <td>0.013912</td>\n",
       "      <td>0.028713</td>\n",
       "      <td>0.137169</td>\n",
       "    </tr>\n",
       "    <tr>\n",
       "      <th>...</th>\n",
       "      <td>...</td>\n",
       "      <td>...</td>\n",
       "      <td>...</td>\n",
       "      <td>...</td>\n",
       "      <td>...</td>\n",
       "      <td>...</td>\n",
       "      <td>...</td>\n",
       "      <td>...</td>\n",
       "      <td>...</td>\n",
       "      <td>...</td>\n",
       "      <td>...</td>\n",
       "      <td>...</td>\n",
       "      <td>...</td>\n",
       "      <td>...</td>\n",
       "      <td>...</td>\n",
       "      <td>...</td>\n",
       "      <td>...</td>\n",
       "      <td>...</td>\n",
       "      <td>...</td>\n",
       "      <td>...</td>\n",
       "      <td>...</td>\n",
       "    </tr>\n",
       "    <tr>\n",
       "      <th>Last Notable Activity_Modified</th>\n",
       "      <td>0.073397</td>\n",
       "      <td>0.122812</td>\n",
       "      <td>-0.263532</td>\n",
       "      <td>-0.145228</td>\n",
       "      <td>-0.127020</td>\n",
       "      <td>-0.096466</td>\n",
       "      <td>-0.073831</td>\n",
       "      <td>-0.084643</td>\n",
       "      <td>-0.068634</td>\n",
       "      <td>-0.007204</td>\n",
       "      <td>...</td>\n",
       "      <td>-0.037784</td>\n",
       "      <td>-0.050318</td>\n",
       "      <td>-0.021100</td>\n",
       "      <td>0.008570</td>\n",
       "      <td>-0.504057</td>\n",
       "      <td>1.000000</td>\n",
       "      <td>-0.107609</td>\n",
       "      <td>-0.099849</td>\n",
       "      <td>-0.142942</td>\n",
       "      <td>-0.418219</td>\n",
       "    </tr>\n",
       "    <tr>\n",
       "      <th>Last Notable Activity_Olark Chat Conversation</th>\n",
       "      <td>-0.031037</td>\n",
       "      <td>-0.012911</td>\n",
       "      <td>-0.071564</td>\n",
       "      <td>-0.053227</td>\n",
       "      <td>-0.050877</td>\n",
       "      <td>-0.088593</td>\n",
       "      <td>-0.059317</td>\n",
       "      <td>-0.118758</td>\n",
       "      <td>-0.024714</td>\n",
       "      <td>-0.008263</td>\n",
       "      <td>...</td>\n",
       "      <td>-0.025366</td>\n",
       "      <td>-0.014155</td>\n",
       "      <td>-0.031484</td>\n",
       "      <td>-0.013009</td>\n",
       "      <td>-0.096412</td>\n",
       "      <td>-0.107609</td>\n",
       "      <td>1.000000</td>\n",
       "      <td>-0.019098</td>\n",
       "      <td>-0.027341</td>\n",
       "      <td>-0.079994</td>\n",
       "    </tr>\n",
       "    <tr>\n",
       "      <th>Last Notable Activity_Others</th>\n",
       "      <td>0.003497</td>\n",
       "      <td>0.298559</td>\n",
       "      <td>0.002064</td>\n",
       "      <td>0.013932</td>\n",
       "      <td>0.013912</td>\n",
       "      <td>0.017198</td>\n",
       "      <td>0.006716</td>\n",
       "      <td>0.016800</td>\n",
       "      <td>-0.017610</td>\n",
       "      <td>-0.007667</td>\n",
       "      <td>...</td>\n",
       "      <td>-0.006882</td>\n",
       "      <td>0.014505</td>\n",
       "      <td>-0.002984</td>\n",
       "      <td>-0.012071</td>\n",
       "      <td>-0.089459</td>\n",
       "      <td>-0.099849</td>\n",
       "      <td>-0.019098</td>\n",
       "      <td>1.000000</td>\n",
       "      <td>-0.025369</td>\n",
       "      <td>-0.074225</td>\n",
       "    </tr>\n",
       "    <tr>\n",
       "      <th>Last Notable Activity_Page Visited on Website</th>\n",
       "      <td>0.003162</td>\n",
       "      <td>0.050922</td>\n",
       "      <td>-0.033830</td>\n",
       "      <td>0.228477</td>\n",
       "      <td>0.028713</td>\n",
       "      <td>0.026102</td>\n",
       "      <td>0.035753</td>\n",
       "      <td>0.043041</td>\n",
       "      <td>-0.015572</td>\n",
       "      <td>-0.010976</td>\n",
       "      <td>...</td>\n",
       "      <td>-0.012835</td>\n",
       "      <td>-0.012649</td>\n",
       "      <td>0.017227</td>\n",
       "      <td>0.009373</td>\n",
       "      <td>-0.128068</td>\n",
       "      <td>-0.142942</td>\n",
       "      <td>-0.027341</td>\n",
       "      <td>-0.025369</td>\n",
       "      <td>1.000000</td>\n",
       "      <td>-0.106259</td>\n",
       "    </tr>\n",
       "    <tr>\n",
       "      <th>Last Notable Activity_SMS Sent</th>\n",
       "      <td>-0.169679</td>\n",
       "      <td>-0.029608</td>\n",
       "      <td>0.360233</td>\n",
       "      <td>0.010316</td>\n",
       "      <td>0.137169</td>\n",
       "      <td>0.059445</td>\n",
       "      <td>0.025631</td>\n",
       "      <td>0.052736</td>\n",
       "      <td>0.115585</td>\n",
       "      <td>-0.027600</td>\n",
       "      <td>...</td>\n",
       "      <td>0.025440</td>\n",
       "      <td>0.031928</td>\n",
       "      <td>-0.011029</td>\n",
       "      <td>0.009939</td>\n",
       "      <td>-0.374702</td>\n",
       "      <td>-0.418219</td>\n",
       "      <td>-0.079994</td>\n",
       "      <td>-0.074225</td>\n",
       "      <td>-0.106259</td>\n",
       "      <td>1.000000</td>\n",
       "    </tr>\n",
       "  </tbody>\n",
       "</table>\n",
       "<p>63 rows × 63 columns</p>\n",
       "</div>"
      ],
      "text/plain": [
       "                                               Lead Number  Do Not Email  \\\n",
       "Lead Number                                       1.000000     -0.098898   \n",
       "Do Not Email                                     -0.098898      1.000000   \n",
       "Converted                                         0.022830     -0.140786   \n",
       "TotalVisits                                       0.039849      0.011474   \n",
       "Total Time Spent on Website                       0.018360     -0.046192   \n",
       "...                                                    ...           ...   \n",
       "Last Notable Activity_Modified                    0.073397      0.122812   \n",
       "Last Notable Activity_Olark Chat Conversation    -0.031037     -0.012911   \n",
       "Last Notable Activity_Others                      0.003497      0.298559   \n",
       "Last Notable Activity_Page Visited on Website     0.003162      0.050922   \n",
       "Last Notable Activity_SMS Sent                   -0.169679     -0.029608   \n",
       "\n",
       "                                               Converted  TotalVisits  \\\n",
       "Lead Number                                     0.022830     0.039849   \n",
       "Do Not Email                                   -0.140786     0.011474   \n",
       "Converted                                       1.000000     0.048849   \n",
       "TotalVisits                                     0.048849     1.000000   \n",
       "Total Time Spent on Website                     0.359261     0.328090   \n",
       "...                                                  ...          ...   \n",
       "Last Notable Activity_Modified                 -0.263532    -0.145228   \n",
       "Last Notable Activity_Olark Chat Conversation  -0.071564    -0.053227   \n",
       "Last Notable Activity_Others                    0.002064     0.013932   \n",
       "Last Notable Activity_Page Visited on Website  -0.033830     0.228477   \n",
       "Last Notable Activity_SMS Sent                  0.360233     0.010316   \n",
       "\n",
       "                                               Total Time Spent on Website  \\\n",
       "Lead Number                                                       0.018360   \n",
       "Do Not Email                                                     -0.046192   \n",
       "Converted                                                         0.359261   \n",
       "TotalVisits                                                       0.328090   \n",
       "Total Time Spent on Website                                       1.000000   \n",
       "...                                                                    ...   \n",
       "Last Notable Activity_Modified                                   -0.127020   \n",
       "Last Notable Activity_Olark Chat Conversation                    -0.050877   \n",
       "Last Notable Activity_Others                                      0.013912   \n",
       "Last Notable Activity_Page Visited on Website                     0.028713   \n",
       "Last Notable Activity_SMS Sent                                    0.137169   \n",
       "\n",
       "                                               Page Views Per Visit  \\\n",
       "Lead Number                                                0.058703   \n",
       "Do Not Email                                               0.036403   \n",
       "Converted                                                  0.000260   \n",
       "TotalVisits                                                0.692218   \n",
       "Total Time Spent on Website                                0.318350   \n",
       "...                                                             ...   \n",
       "Last Notable Activity_Modified                            -0.096466   \n",
       "Last Notable Activity_Olark Chat Conversation             -0.088593   \n",
       "Last Notable Activity_Others                               0.017198   \n",
       "Last Notable Activity_Page Visited on Website              0.026102   \n",
       "Last Notable Activity_SMS Sent                             0.059445   \n",
       "\n",
       "                                               A free copy of Mastering The Interview  \\\n",
       "Lead Number                                                                 -0.106875   \n",
       "Do Not Email                                                                 0.058023   \n",
       "Converted                                                                   -0.030860   \n",
       "TotalVisits                                                                  0.279351   \n",
       "Total Time Spent on Website                                                  0.177435   \n",
       "...                                                                               ...   \n",
       "Last Notable Activity_Modified                                              -0.073831   \n",
       "Last Notable Activity_Olark Chat Conversation                               -0.059317   \n",
       "Last Notable Activity_Others                                                 0.006716   \n",
       "Last Notable Activity_Page Visited on Website                                0.035753   \n",
       "Last Notable Activity_SMS Sent                                               0.025631   \n",
       "\n",
       "                                               Origin_Landing Page Submission  \\\n",
       "Lead Number                                                         -0.069574   \n",
       "Do Not Email                                                         0.099661   \n",
       "Converted                                                           -0.037481   \n",
       "TotalVisits                                                          0.408633   \n",
       "Total Time Spent on Website                                          0.292571   \n",
       "...                                                                       ...   \n",
       "Last Notable Activity_Modified                                      -0.084643   \n",
       "Last Notable Activity_Olark Chat Conversation                       -0.118758   \n",
       "Last Notable Activity_Others                                         0.016800   \n",
       "Last Notable Activity_Page Visited on Website                        0.043041   \n",
       "Last Notable Activity_SMS Sent                                       0.052736   \n",
       "\n",
       "                                               Origin_Lead Add Form  \\\n",
       "Lead Number                                                0.024933   \n",
       "Do Not Email                                              -0.031468   \n",
       "Converted                                                  0.300775   \n",
       "TotalVisits                                               -0.245896   \n",
       "Total Time Spent on Website                               -0.188526   \n",
       "...                                                             ...   \n",
       "Last Notable Activity_Modified                            -0.068634   \n",
       "Last Notable Activity_Olark Chat Conversation             -0.024714   \n",
       "Last Notable Activity_Others                              -0.017610   \n",
       "Last Notable Activity_Page Visited on Website             -0.015572   \n",
       "Last Notable Activity_SMS Sent                             0.115585   \n",
       "\n",
       "                                               Origin_Lead Import  ...  \\\n",
       "Lead Number                                              0.075668  ...   \n",
       "Do Not Email                                            -0.016857  ...   \n",
       "Converted                                               -0.009328  ...   \n",
       "TotalVisits                                             -0.054484  ...   \n",
       "Total Time Spent on Website                             -0.050742  ...   \n",
       "...                                                           ...  ...   \n",
       "Last Notable Activity_Modified                          -0.007204  ...   \n",
       "Last Notable Activity_Olark Chat Conversation           -0.008263  ...   \n",
       "Last Notable Activity_Others                            -0.007667  ...   \n",
       "Last Notable Activity_Page Visited on Website           -0.010976  ...   \n",
       "Last Notable Activity_SMS Sent                          -0.027600  ...   \n",
       "\n",
       "                                               City_Other Cities of Maharashtra  \\\n",
       "Lead Number                                                           -0.006918   \n",
       "Do Not Email                                                          -0.004146   \n",
       "Converted                                                              0.028551   \n",
       "TotalVisits                                                            0.054384   \n",
       "Total Time Spent on Website                                            0.069355   \n",
       "...                                                                         ...   \n",
       "Last Notable Activity_Modified                                        -0.037784   \n",
       "Last Notable Activity_Olark Chat Conversation                         -0.025366   \n",
       "Last Notable Activity_Others                                          -0.006882   \n",
       "Last Notable Activity_Page Visited on Website                         -0.012835   \n",
       "Last Notable Activity_SMS Sent                                         0.025440   \n",
       "\n",
       "                                               City_Other Metro Cities  \\\n",
       "Lead Number                                                  -0.025517   \n",
       "Do Not Email                                                  0.039438   \n",
       "Converted                                                     0.012849   \n",
       "TotalVisits                                                   0.068032   \n",
       "Total Time Spent on Website                                   0.050121   \n",
       "...                                                                ...   \n",
       "Last Notable Activity_Modified                               -0.050318   \n",
       "Last Notable Activity_Olark Chat Conversation                -0.014155   \n",
       "Last Notable Activity_Others                                  0.014505   \n",
       "Last Notable Activity_Page Visited on Website                -0.012649   \n",
       "Last Notable Activity_SMS Sent                                0.031928   \n",
       "\n",
       "                                               City_Thane & Outskirts  \\\n",
       "Lead Number                                                  0.025293   \n",
       "Do Not Email                                                -0.005637   \n",
       "Converted                                                    0.041365   \n",
       "TotalVisits                                                  0.094597   \n",
       "Total Time Spent on Website                                  0.076813   \n",
       "...                                                               ...   \n",
       "Last Notable Activity_Modified                              -0.021100   \n",
       "Last Notable Activity_Olark Chat Conversation               -0.031484   \n",
       "Last Notable Activity_Others                                -0.002984   \n",
       "Last Notable Activity_Page Visited on Website                0.017227   \n",
       "Last Notable Activity_SMS Sent                              -0.011029   \n",
       "\n",
       "                                               City_Tier II Cities  \\\n",
       "Lead Number                                              -0.039212   \n",
       "Do Not Email                                              0.046183   \n",
       "Converted                                                -0.007612   \n",
       "TotalVisits                                               0.019821   \n",
       "Total Time Spent on Website                               0.021938   \n",
       "...                                                            ...   \n",
       "Last Notable Activity_Modified                            0.008570   \n",
       "Last Notable Activity_Olark Chat Conversation            -0.013009   \n",
       "Last Notable Activity_Others                             -0.012071   \n",
       "Last Notable Activity_Page Visited on Website             0.009373   \n",
       "Last Notable Activity_SMS Sent                            0.009939   \n",
       "\n",
       "                                               Last Notable Activity_Email Opened  \\\n",
       "Lead Number                                                              0.082276   \n",
       "Do Not Email                                                            -0.189628   \n",
       "Converted                                                               -0.013084   \n",
       "TotalVisits                                                              0.065894   \n",
       "Total Time Spent on Website                                              0.016546   \n",
       "...                                                                           ...   \n",
       "Last Notable Activity_Modified                                          -0.504057   \n",
       "Last Notable Activity_Olark Chat Conversation                           -0.096412   \n",
       "Last Notable Activity_Others                                            -0.089459   \n",
       "Last Notable Activity_Page Visited on Website                           -0.128068   \n",
       "Last Notable Activity_SMS Sent                                          -0.374702   \n",
       "\n",
       "                                               Last Notable Activity_Modified  \\\n",
       "Lead Number                                                          0.073397   \n",
       "Do Not Email                                                         0.122812   \n",
       "Converted                                                           -0.263532   \n",
       "TotalVisits                                                         -0.145228   \n",
       "Total Time Spent on Website                                         -0.127020   \n",
       "...                                                                       ...   \n",
       "Last Notable Activity_Modified                                       1.000000   \n",
       "Last Notable Activity_Olark Chat Conversation                       -0.107609   \n",
       "Last Notable Activity_Others                                        -0.099849   \n",
       "Last Notable Activity_Page Visited on Website                       -0.142942   \n",
       "Last Notable Activity_SMS Sent                                      -0.418219   \n",
       "\n",
       "                                               Last Notable Activity_Olark Chat Conversation  \\\n",
       "Lead Number                                                                        -0.031037   \n",
       "Do Not Email                                                                       -0.012911   \n",
       "Converted                                                                          -0.071564   \n",
       "TotalVisits                                                                        -0.053227   \n",
       "Total Time Spent on Website                                                        -0.050877   \n",
       "...                                                                                      ...   \n",
       "Last Notable Activity_Modified                                                     -0.107609   \n",
       "Last Notable Activity_Olark Chat Conversation                                       1.000000   \n",
       "Last Notable Activity_Others                                                       -0.019098   \n",
       "Last Notable Activity_Page Visited on Website                                      -0.027341   \n",
       "Last Notable Activity_SMS Sent                                                     -0.079994   \n",
       "\n",
       "                                               Last Notable Activity_Others  \\\n",
       "Lead Number                                                        0.003497   \n",
       "Do Not Email                                                       0.298559   \n",
       "Converted                                                          0.002064   \n",
       "TotalVisits                                                        0.013932   \n",
       "Total Time Spent on Website                                        0.013912   \n",
       "...                                                                     ...   \n",
       "Last Notable Activity_Modified                                    -0.099849   \n",
       "Last Notable Activity_Olark Chat Conversation                     -0.019098   \n",
       "Last Notable Activity_Others                                       1.000000   \n",
       "Last Notable Activity_Page Visited on Website                     -0.025369   \n",
       "Last Notable Activity_SMS Sent                                    -0.074225   \n",
       "\n",
       "                                               Last Notable Activity_Page Visited on Website  \\\n",
       "Lead Number                                                                         0.003162   \n",
       "Do Not Email                                                                        0.050922   \n",
       "Converted                                                                          -0.033830   \n",
       "TotalVisits                                                                         0.228477   \n",
       "Total Time Spent on Website                                                         0.028713   \n",
       "...                                                                                      ...   \n",
       "Last Notable Activity_Modified                                                     -0.142942   \n",
       "Last Notable Activity_Olark Chat Conversation                                      -0.027341   \n",
       "Last Notable Activity_Others                                                       -0.025369   \n",
       "Last Notable Activity_Page Visited on Website                                       1.000000   \n",
       "Last Notable Activity_SMS Sent                                                     -0.106259   \n",
       "\n",
       "                                               Last Notable Activity_SMS Sent  \n",
       "Lead Number                                                         -0.169679  \n",
       "Do Not Email                                                        -0.029608  \n",
       "Converted                                                            0.360233  \n",
       "TotalVisits                                                          0.010316  \n",
       "Total Time Spent on Website                                          0.137169  \n",
       "...                                                                       ...  \n",
       "Last Notable Activity_Modified                                      -0.418219  \n",
       "Last Notable Activity_Olark Chat Conversation                       -0.079994  \n",
       "Last Notable Activity_Others                                        -0.074225  \n",
       "Last Notable Activity_Page Visited on Website                       -0.106259  \n",
       "Last Notable Activity_SMS Sent                                       1.000000  \n",
       "\n",
       "[63 rows x 63 columns]"
      ]
     },
     "execution_count": 784,
     "metadata": {},
     "output_type": "execute_result"
    }
   ],
   "source": [
    "# checking correlations between variables\n",
    "leads_df.corr()"
   ]
  },
  {
   "cell_type": "markdown",
   "metadata": {},
   "source": [
    "As we see from the correlation matrix, there are no variables with very high correlation between them. \n",
    "\n",
    "-----------------------------------------------------------------------------------------------------------------------\n",
    "\n",
    "## Model Building\n",
    "-----------------------------------------------------------------------------------------------------------------------\n"
   ]
  },
  {
   "cell_type": "code",
   "execution_count": 804,
   "metadata": {},
   "outputs": [
    {
     "name": "stdout",
     "output_type": "stream",
     "text": [
      "<class 'pandas.core.frame.DataFrame'>\n",
      "Int64Index: 6351 entries, 3009 to 5754\n",
      "Data columns (total 61 columns):\n",
      " #   Column                                         Non-Null Count  Dtype  \n",
      "---  ------                                         --------------  -----  \n",
      " 0   Do Not Email                                   6351 non-null   int64  \n",
      " 1   TotalVisits                                    6351 non-null   float64\n",
      " 2   Total Time Spent on Website                    6351 non-null   float64\n",
      " 3   Page Views Per Visit                           6351 non-null   float64\n",
      " 4   A free copy of Mastering The Interview         6351 non-null   int64  \n",
      " 5   Origin_Landing Page Submission                 6351 non-null   uint8  \n",
      " 6   Origin_Lead Add Form                           6351 non-null   uint8  \n",
      " 7   Origin_Lead Import                             6351 non-null   uint8  \n",
      " 8   Source_Google                                  6351 non-null   uint8  \n",
      " 9   Source_Olark Chat                              6351 non-null   uint8  \n",
      " 10  Source_Organic Search                          6351 non-null   uint8  \n",
      " 11  Source_Others                                  6351 non-null   uint8  \n",
      " 12  Source_Reference                               6351 non-null   uint8  \n",
      " 13  Source_Referral Sites                          6351 non-null   uint8  \n",
      " 14  Source_Welingak Website                        6351 non-null   uint8  \n",
      " 15  last_activity_Email Bounced                    6351 non-null   uint8  \n",
      " 16  last_activity_Email Link Clicked               6351 non-null   uint8  \n",
      " 17  last_activity_Email Opened                     6351 non-null   uint8  \n",
      " 18  last_activity_Form Submitted on Website        6351 non-null   uint8  \n",
      " 19  last_activity_Olark Chat Conversation          6351 non-null   uint8  \n",
      " 20  last_activity_Others                           6351 non-null   uint8  \n",
      " 21  last_activity_Page Visited on Website          6351 non-null   uint8  \n",
      " 22  last_activity_SMS Sent                         6351 non-null   uint8  \n",
      " 23  Specialization_Business Administration         6351 non-null   uint8  \n",
      " 24  Specialization_E-Business                      6351 non-null   uint8  \n",
      " 25  Specialization_E-COMMERCE                      6351 non-null   uint8  \n",
      " 26  Specialization_International Business          6351 non-null   uint8  \n",
      " 27  Specialization_Managements                     6351 non-null   uint8  \n",
      " 28  Specialization_Media and Advertising           6351 non-null   uint8  \n",
      " 29  Specialization_Not Specified                   6351 non-null   uint8  \n",
      " 30  Specialization_Rural and Agribusiness          6351 non-null   uint8  \n",
      " 31  Specialization_Services Excellence             6351 non-null   uint8  \n",
      " 32  Specialization_Travel and Tourism              6351 non-null   uint8  \n",
      " 33  occupation_Housewife                           6351 non-null   uint8  \n",
      " 34  occupation_Other                               6351 non-null   uint8  \n",
      " 35  occupation_Student                             6351 non-null   uint8  \n",
      " 36  occupation_Unemployed                          6351 non-null   uint8  \n",
      " 37  occupation_Working Professional                6351 non-null   uint8  \n",
      " 38  Tag_Closed by Horizzon                         6351 non-null   uint8  \n",
      " 39  Tag_Interested in other courses                6351 non-null   uint8  \n",
      " 40  Tag_Lost to EINS                               6351 non-null   uint8  \n",
      " 41  Tag_Not Specified                              6351 non-null   uint8  \n",
      " 42  Tag_Others                                     6351 non-null   uint8  \n",
      " 43  Tag_Ringing                                    6351 non-null   uint8  \n",
      " 44  Tag_Will revert after reading the email        6351 non-null   uint8  \n",
      " 45  Profile_Lateral Student                        6351 non-null   uint8  \n",
      " 46  Profile_Not Specified                          6351 non-null   uint8  \n",
      " 47  Profile_Other Leads                            6351 non-null   uint8  \n",
      " 48  Profile_Potential Lead                         6351 non-null   uint8  \n",
      " 49  Profile_Student of SomeSchool                  6351 non-null   uint8  \n",
      " 50  City_Other Cities                              6351 non-null   uint8  \n",
      " 51  City_Other Cities of Maharashtra               6351 non-null   uint8  \n",
      " 52  City_Other Metro Cities                        6351 non-null   uint8  \n",
      " 53  City_Thane & Outskirts                         6351 non-null   uint8  \n",
      " 54  City_Tier II Cities                            6351 non-null   uint8  \n",
      " 55  Last Notable Activity_Email Opened             6351 non-null   uint8  \n",
      " 56  Last Notable Activity_Modified                 6351 non-null   uint8  \n",
      " 57  Last Notable Activity_Olark Chat Conversation  6351 non-null   uint8  \n",
      " 58  Last Notable Activity_Others                   6351 non-null   uint8  \n",
      " 59  Last Notable Activity_Page Visited on Website  6351 non-null   uint8  \n",
      " 60  Last Notable Activity_SMS Sent                 6351 non-null   uint8  \n",
      "dtypes: float64(3), int64(2), uint8(56)\n",
      "memory usage: 645.0 KB\n"
     ]
    }
   ],
   "source": [
    "# All the columns after adding dummy variables.\n",
    "X_train.info()"
   ]
  },
  {
   "cell_type": "markdown",
   "metadata": {},
   "source": [
    "Let's make use of RFE(Recursive Feature Elimination) to select top 15 features and then we'll try to build model using those features."
   ]
  },
  {
   "cell_type": "code",
   "execution_count": 816,
   "metadata": {},
   "outputs": [
    {
     "data": {
      "text/plain": [
       "array([ True, False,  True, False, False,  True,  True, False, False,\n",
       "        True, False, False, False, False,  True, False, False, False,\n",
       "       False,  True, False, False,  True, False, False, False, False,\n",
       "       False, False, False, False, False,  True, False, False, False,\n",
       "       False, False,  True,  True,  True, False,  True,  True,  True,\n",
       "       False,  True, False, False,  True, False, False, False, False,\n",
       "       False,  True, False, False,  True, False,  True])"
      ]
     },
     "execution_count": 816,
     "metadata": {},
     "output_type": "execute_result"
    }
   ],
   "source": [
    "#Creating an instance of Logistic Regression\n",
    "logreg = LogisticRegression()\n",
    "\n",
    " # running RFE with 20 variables \n",
    "rfe = RFE(logreg, 20)    \n",
    "rfe = rfe.fit(X_train, y_train)\n",
    "rfe.support_"
   ]
  },
  {
   "cell_type": "code",
   "execution_count": 814,
   "metadata": {},
   "outputs": [
    {
     "data": {
      "text/plain": [
       "[('Do Not Email', True, 1),\n",
       " ('TotalVisits', False, 31),\n",
       " ('Total Time Spent on Website', False, 3),\n",
       " ('Page Views Per Visit', False, 35),\n",
       " ('A free copy of Mastering The Interview', False, 29),\n",
       " ('Origin_Landing Page Submission', False, 2),\n",
       " ('Origin_Lead Add Form', True, 1),\n",
       " ('Origin_Lead Import', False, 10),\n",
       " ('Source_Google', False, 46),\n",
       " ('Source_Olark Chat', False, 4),\n",
       " ('Source_Organic Search', False, 21),\n",
       " ('Source_Others', False, 26),\n",
       " ('Source_Reference', False, 19),\n",
       " ('Source_Referral Sites', False, 25),\n",
       " ('Source_Welingak Website', True, 1),\n",
       " ('last_activity_Email Bounced', False, 43),\n",
       " ('last_activity_Email Link Clicked', False, 44),\n",
       " ('last_activity_Email Opened', False, 23),\n",
       " ('last_activity_Form Submitted on Website', False, 45),\n",
       " ('last_activity_Olark Chat Conversation', False, 5),\n",
       " ('last_activity_Others', False, 13),\n",
       " ('last_activity_Page Visited on Website', False, 42),\n",
       " ('last_activity_SMS Sent', True, 1),\n",
       " ('Specialization_Business Administration', False, 37),\n",
       " ('Specialization_E-Business', False, 38),\n",
       " ('Specialization_E-COMMERCE', False, 28),\n",
       " ('Specialization_International Business', False, 15),\n",
       " ('Specialization_Managements', False, 39),\n",
       " ('Specialization_Media and Advertising', False, 27),\n",
       " ('Specialization_Not Specified', False, 34),\n",
       " ('Specialization_Rural and Agribusiness', False, 36),\n",
       " ('Specialization_Services Excellence', False, 16),\n",
       " ('Specialization_Travel and Tourism', False, 6),\n",
       " ('occupation_Housewife', False, 24),\n",
       " ('occupation_Other', False, 32),\n",
       " ('occupation_Student', False, 17),\n",
       " ('occupation_Unemployed', False, 11),\n",
       " ('occupation_Working Professional', False, 22),\n",
       " ('Tag_Closed by Horizzon', True, 1),\n",
       " ('Tag_Interested in other courses', True, 1),\n",
       " ('Tag_Lost to EINS', True, 1),\n",
       " ('Tag_Not Specified', False, 12),\n",
       " ('Tag_Others', True, 1),\n",
       " ('Tag_Ringing', True, 1),\n",
       " ('Tag_Will revert after reading the email', True, 1),\n",
       " ('Profile_Lateral Student', False, 20),\n",
       " ('Profile_Not Specified', True, 1),\n",
       " ('Profile_Other Leads', False, 8),\n",
       " ('Profile_Potential Lead', False, 7),\n",
       " ('Profile_Student of SomeSchool', True, 1),\n",
       " ('City_Other Cities', False, 33),\n",
       " ('City_Other Cities of Maharashtra', False, 47),\n",
       " ('City_Other Metro Cities', False, 40),\n",
       " ('City_Thane & Outskirts', False, 18),\n",
       " ('City_Tier II Cities', False, 30),\n",
       " ('Last Notable Activity_Email Opened', True, 1),\n",
       " ('Last Notable Activity_Modified', False, 9),\n",
       " ('Last Notable Activity_Olark Chat Conversation', False, 14),\n",
       " ('Last Notable Activity_Others', True, 1),\n",
       " ('Last Notable Activity_Page Visited on Website', False, 41),\n",
       " ('Last Notable Activity_SMS Sent', True, 1)]"
      ]
     },
     "execution_count": 814,
     "metadata": {},
     "output_type": "execute_result"
    }
   ],
   "source": [
    "# Combining the data to understand the full RFE data\n",
    "list(zip(X_train.columns, rfe.support_, rfe.ranking_))"
   ]
  },
  {
   "cell_type": "code",
   "execution_count": 817,
   "metadata": {},
   "outputs": [
    {
     "data": {
      "text/plain": [
       "Index(['Do Not Email', 'Total Time Spent on Website',\n",
       "       'Origin_Landing Page Submission', 'Origin_Lead Add Form',\n",
       "       'Source_Olark Chat', 'Source_Welingak Website',\n",
       "       'last_activity_Olark Chat Conversation', 'last_activity_SMS Sent',\n",
       "       'Specialization_Travel and Tourism', 'Tag_Closed by Horizzon',\n",
       "       'Tag_Interested in other courses', 'Tag_Lost to EINS', 'Tag_Others',\n",
       "       'Tag_Ringing', 'Tag_Will revert after reading the email',\n",
       "       'Profile_Not Specified', 'Profile_Student of SomeSchool',\n",
       "       'Last Notable Activity_Email Opened', 'Last Notable Activity_Others',\n",
       "       'Last Notable Activity_SMS Sent'],\n",
       "      dtype='object')"
      ]
     },
     "execution_count": 817,
     "metadata": {},
     "output_type": "execute_result"
    }
   ],
   "source": [
    "cols = X_train.columns[rfe.support_]\n",
    "cols"
   ]
  },
  {
   "cell_type": "code",
   "execution_count": 818,
   "metadata": {},
   "outputs": [
    {
     "data": {
      "text/plain": [
       "Index(['TotalVisits', 'Page Views Per Visit',\n",
       "       'A free copy of Mastering The Interview', 'Origin_Lead Import',\n",
       "       'Source_Google', 'Source_Organic Search', 'Source_Others',\n",
       "       'Source_Reference', 'Source_Referral Sites',\n",
       "       'last_activity_Email Bounced', 'last_activity_Email Link Clicked',\n",
       "       'last_activity_Email Opened', 'last_activity_Form Submitted on Website',\n",
       "       'last_activity_Others', 'last_activity_Page Visited on Website',\n",
       "       'Specialization_Business Administration', 'Specialization_E-Business',\n",
       "       'Specialization_E-COMMERCE', 'Specialization_International Business',\n",
       "       'Specialization_Managements', 'Specialization_Media and Advertising',\n",
       "       'Specialization_Not Specified', 'Specialization_Rural and Agribusiness',\n",
       "       'Specialization_Services Excellence', 'occupation_Housewife',\n",
       "       'occupation_Other', 'occupation_Student', 'occupation_Unemployed',\n",
       "       'occupation_Working Professional', 'Tag_Not Specified',\n",
       "       'Profile_Lateral Student', 'Profile_Other Leads',\n",
       "       'Profile_Potential Lead', 'City_Other Cities',\n",
       "       'City_Other Cities of Maharashtra', 'City_Other Metro Cities',\n",
       "       'City_Thane & Outskirts', 'City_Tier II Cities',\n",
       "       'Last Notable Activity_Modified',\n",
       "       'Last Notable Activity_Olark Chat Conversation',\n",
       "       'Last Notable Activity_Page Visited on Website'],\n",
       "      dtype='object')"
      ]
     },
     "execution_count": 818,
     "metadata": {},
     "output_type": "execute_result"
    }
   ],
   "source": [
    "X_train.columns[~rfe.support_]"
   ]
  },
  {
   "cell_type": "code",
   "execution_count": 819,
   "metadata": {},
   "outputs": [
    {
     "data": {
      "text/html": [
       "<table class=\"simpletable\">\n",
       "<caption>Generalized Linear Model Regression Results</caption>\n",
       "<tr>\n",
       "  <th>Dep. Variable:</th>       <td>Converted</td>    <th>  No. Observations:  </th>  <td>  6351</td> \n",
       "</tr>\n",
       "<tr>\n",
       "  <th>Model:</th>                  <td>GLM</td>       <th>  Df Residuals:      </th>  <td>  6330</td> \n",
       "</tr>\n",
       "<tr>\n",
       "  <th>Model Family:</th>        <td>Binomial</td>     <th>  Df Model:          </th>  <td>    20</td> \n",
       "</tr>\n",
       "<tr>\n",
       "  <th>Link Function:</th>         <td>logit</td>      <th>  Scale:             </th> <td>  1.0000</td>\n",
       "</tr>\n",
       "<tr>\n",
       "  <th>Method:</th>                <td>IRLS</td>       <th>  Log-Likelihood:    </th> <td> -1126.8</td>\n",
       "</tr>\n",
       "<tr>\n",
       "  <th>Date:</th>            <td>Sat, 13 Apr 2024</td> <th>  Deviance:          </th> <td>  2253.6</td>\n",
       "</tr>\n",
       "<tr>\n",
       "  <th>Time:</th>                <td>19:50:46</td>     <th>  Pearson chi2:      </th> <td>9.15e+03</td>\n",
       "</tr>\n",
       "<tr>\n",
       "  <th>No. Iterations:</th>          <td>8</td>        <th>                     </th>     <td> </td>   \n",
       "</tr>\n",
       "<tr>\n",
       "  <th>Covariance Type:</th>     <td>nonrobust</td>    <th>                     </th>     <td> </td>   \n",
       "</tr>\n",
       "</table>\n",
       "<table class=\"simpletable\">\n",
       "<tr>\n",
       "                     <td></td>                        <th>coef</th>     <th>std err</th>      <th>z</th>      <th>P>|z|</th>  <th>[0.025</th>    <th>0.975]</th>  \n",
       "</tr>\n",
       "<tr>\n",
       "  <th>const</th>                                   <td>   -0.8485</td> <td>    0.272</td> <td>   -3.122</td> <td> 0.002</td> <td>   -1.381</td> <td>   -0.316</td>\n",
       "</tr>\n",
       "<tr>\n",
       "  <th>Do Not Email</th>                            <td>   -1.2011</td> <td>    0.291</td> <td>   -4.123</td> <td> 0.000</td> <td>   -1.772</td> <td>   -0.630</td>\n",
       "</tr>\n",
       "<tr>\n",
       "  <th>Total Time Spent on Website</th>             <td>    1.1539</td> <td>    0.065</td> <td>   17.821</td> <td> 0.000</td> <td>    1.027</td> <td>    1.281</td>\n",
       "</tr>\n",
       "<tr>\n",
       "  <th>Origin_Landing Page Submission</th>          <td>   -0.8874</td> <td>    0.141</td> <td>   -6.291</td> <td> 0.000</td> <td>   -1.164</td> <td>   -0.611</td>\n",
       "</tr>\n",
       "<tr>\n",
       "  <th>Origin_Lead Add Form</th>                    <td>    1.0552</td> <td>    0.504</td> <td>    2.094</td> <td> 0.036</td> <td>    0.068</td> <td>    2.043</td>\n",
       "</tr>\n",
       "<tr>\n",
       "  <th>Source_Olark Chat</th>                       <td>    0.9473</td> <td>    0.175</td> <td>    5.409</td> <td> 0.000</td> <td>    0.604</td> <td>    1.291</td>\n",
       "</tr>\n",
       "<tr>\n",
       "  <th>Source_Welingak Website</th>                 <td>    4.0875</td> <td>    0.882</td> <td>    4.636</td> <td> 0.000</td> <td>    2.360</td> <td>    5.815</td>\n",
       "</tr>\n",
       "<tr>\n",
       "  <th>last_activity_Olark Chat Conversation</th>   <td>   -0.7542</td> <td>    0.259</td> <td>   -2.917</td> <td> 0.004</td> <td>   -1.261</td> <td>   -0.247</td>\n",
       "</tr>\n",
       "<tr>\n",
       "  <th>last_activity_SMS Sent</th>                  <td>    1.0440</td> <td>    0.238</td> <td>    4.380</td> <td> 0.000</td> <td>    0.577</td> <td>    1.511</td>\n",
       "</tr>\n",
       "<tr>\n",
       "  <th>Specialization_Travel and Tourism</th>       <td>   -1.0269</td> <td>    0.495</td> <td>   -2.074</td> <td> 0.038</td> <td>   -1.997</td> <td>   -0.056</td>\n",
       "</tr>\n",
       "<tr>\n",
       "  <th>Tag_Closed by Horizzon</th>                  <td>    6.2309</td> <td>    0.745</td> <td>    8.363</td> <td> 0.000</td> <td>    4.771</td> <td>    7.691</td>\n",
       "</tr>\n",
       "<tr>\n",
       "  <th>Tag_Interested in other courses</th>         <td>   -2.3876</td> <td>    0.364</td> <td>   -6.550</td> <td> 0.000</td> <td>   -3.102</td> <td>   -1.673</td>\n",
       "</tr>\n",
       "<tr>\n",
       "  <th>Tag_Lost to EINS</th>                        <td>    6.0309</td> <td>    0.747</td> <td>    8.077</td> <td> 0.000</td> <td>    4.567</td> <td>    7.494</td>\n",
       "</tr>\n",
       "<tr>\n",
       "  <th>Tag_Others</th>                              <td>   -2.8126</td> <td>    0.246</td> <td>  -11.437</td> <td> 0.000</td> <td>   -3.295</td> <td>   -2.331</td>\n",
       "</tr>\n",
       "<tr>\n",
       "  <th>Tag_Ringing</th>                             <td>   -4.1696</td> <td>    0.283</td> <td>  -14.714</td> <td> 0.000</td> <td>   -4.725</td> <td>   -3.614</td>\n",
       "</tr>\n",
       "<tr>\n",
       "  <th>Tag_Will revert after reading the email</th> <td>    4.2586</td> <td>    0.221</td> <td>   19.263</td> <td> 0.000</td> <td>    3.825</td> <td>    4.692</td>\n",
       "</tr>\n",
       "<tr>\n",
       "  <th>Profile_Not Specified</th>                   <td>   -1.4177</td> <td>    0.217</td> <td>   -6.525</td> <td> 0.000</td> <td>   -1.844</td> <td>   -0.992</td>\n",
       "</tr>\n",
       "<tr>\n",
       "  <th>Profile_Student of SomeSchool</th>           <td>   -2.8394</td> <td>    0.917</td> <td>   -3.097</td> <td> 0.002</td> <td>   -4.636</td> <td>   -1.043</td>\n",
       "</tr>\n",
       "<tr>\n",
       "  <th>Last Notable Activity_Email Opened</th>      <td>    1.1573</td> <td>    0.165</td> <td>    6.993</td> <td> 0.000</td> <td>    0.833</td> <td>    1.482</td>\n",
       "</tr>\n",
       "<tr>\n",
       "  <th>Last Notable Activity_Others</th>            <td>    1.8173</td> <td>    0.453</td> <td>    4.015</td> <td> 0.000</td> <td>    0.930</td> <td>    2.704</td>\n",
       "</tr>\n",
       "<tr>\n",
       "  <th>Last Notable Activity_SMS Sent</th>          <td>    2.4583</td> <td>    0.228</td> <td>   10.781</td> <td> 0.000</td> <td>    2.011</td> <td>    2.905</td>\n",
       "</tr>\n",
       "</table>"
      ],
      "text/plain": [
       "<class 'statsmodels.iolib.summary.Summary'>\n",
       "\"\"\"\n",
       "                 Generalized Linear Model Regression Results                  \n",
       "==============================================================================\n",
       "Dep. Variable:              Converted   No. Observations:                 6351\n",
       "Model:                            GLM   Df Residuals:                     6330\n",
       "Model Family:                Binomial   Df Model:                           20\n",
       "Link Function:                  logit   Scale:                          1.0000\n",
       "Method:                          IRLS   Log-Likelihood:                -1126.8\n",
       "Date:                Sat, 13 Apr 2024   Deviance:                       2253.6\n",
       "Time:                        19:50:46   Pearson chi2:                 9.15e+03\n",
       "No. Iterations:                     8                                         \n",
       "Covariance Type:            nonrobust                                         \n",
       "===========================================================================================================\n",
       "                                              coef    std err          z      P>|z|      [0.025      0.975]\n",
       "-----------------------------------------------------------------------------------------------------------\n",
       "const                                      -0.8485      0.272     -3.122      0.002      -1.381      -0.316\n",
       "Do Not Email                               -1.2011      0.291     -4.123      0.000      -1.772      -0.630\n",
       "Total Time Spent on Website                 1.1539      0.065     17.821      0.000       1.027       1.281\n",
       "Origin_Landing Page Submission             -0.8874      0.141     -6.291      0.000      -1.164      -0.611\n",
       "Origin_Lead Add Form                        1.0552      0.504      2.094      0.036       0.068       2.043\n",
       "Source_Olark Chat                           0.9473      0.175      5.409      0.000       0.604       1.291\n",
       "Source_Welingak Website                     4.0875      0.882      4.636      0.000       2.360       5.815\n",
       "last_activity_Olark Chat Conversation      -0.7542      0.259     -2.917      0.004      -1.261      -0.247\n",
       "last_activity_SMS Sent                      1.0440      0.238      4.380      0.000       0.577       1.511\n",
       "Specialization_Travel and Tourism          -1.0269      0.495     -2.074      0.038      -1.997      -0.056\n",
       "Tag_Closed by Horizzon                      6.2309      0.745      8.363      0.000       4.771       7.691\n",
       "Tag_Interested in other courses            -2.3876      0.364     -6.550      0.000      -3.102      -1.673\n",
       "Tag_Lost to EINS                            6.0309      0.747      8.077      0.000       4.567       7.494\n",
       "Tag_Others                                 -2.8126      0.246    -11.437      0.000      -3.295      -2.331\n",
       "Tag_Ringing                                -4.1696      0.283    -14.714      0.000      -4.725      -3.614\n",
       "Tag_Will revert after reading the email     4.2586      0.221     19.263      0.000       3.825       4.692\n",
       "Profile_Not Specified                      -1.4177      0.217     -6.525      0.000      -1.844      -0.992\n",
       "Profile_Student of SomeSchool              -2.8394      0.917     -3.097      0.002      -4.636      -1.043\n",
       "Last Notable Activity_Email Opened          1.1573      0.165      6.993      0.000       0.833       1.482\n",
       "Last Notable Activity_Others                1.8173      0.453      4.015      0.000       0.930       2.704\n",
       "Last Notable Activity_SMS Sent              2.4583      0.228     10.781      0.000       2.011       2.905\n",
       "===========================================================================================================\n",
       "\"\"\""
      ]
     },
     "execution_count": 819,
     "metadata": {},
     "output_type": "execute_result"
    }
   ],
   "source": [
    "cols = ['Do Not Email', 'Total Time Spent on Website',\n",
    "       'Origin_Landing Page Submission', 'Origin_Lead Add Form',\n",
    "       'Source_Olark Chat', 'Source_Welingak Website',\n",
    "       'last_activity_Olark Chat Conversation', 'last_activity_SMS Sent',\n",
    "       'Specialization_Travel and Tourism', 'Tag_Closed by Horizzon',\n",
    "       'Tag_Interested in other courses', 'Tag_Lost to EINS', 'Tag_Others',\n",
    "       'Tag_Ringing', 'Tag_Will revert after reading the email',\n",
    "       'Profile_Not Specified', 'Profile_Student of SomeSchool',\n",
    "       'Last Notable Activity_Email Opened', 'Last Notable Activity_Others',\n",
    "       'Last Notable Activity_SMS Sent']\n",
    "X_train_sm = sm.add_constant(X_train[cols])\n",
    "log_model1 = sm.GLM(y_train,X_train_sm, family = sm.families.Binomial())\n",
    "res = log_model1.fit()\n",
    "res.summary()"
   ]
  },
  {
   "cell_type": "markdown",
   "metadata": {},
   "source": [
    "We can see the P-Values are within limit, we don't need to eliminate any feature for now. Lets evaluate the model further and see.\n",
    "\n",
    "Check VIF values to check for high collinearity between features."
   ]
  },
  {
   "cell_type": "code",
   "execution_count": 820,
   "metadata": {},
   "outputs": [
    {
     "data": {
      "text/html": [
       "<div>\n",
       "<style scoped>\n",
       "    .dataframe tbody tr th:only-of-type {\n",
       "        vertical-align: middle;\n",
       "    }\n",
       "\n",
       "    .dataframe tbody tr th {\n",
       "        vertical-align: top;\n",
       "    }\n",
       "\n",
       "    .dataframe thead th {\n",
       "        text-align: right;\n",
       "    }\n",
       "</style>\n",
       "<table border=\"1\" class=\"dataframe\">\n",
       "  <thead>\n",
       "    <tr style=\"text-align: right;\">\n",
       "      <th></th>\n",
       "      <th>Features</th>\n",
       "      <th>VIF</th>\n",
       "    </tr>\n",
       "  </thead>\n",
       "  <tbody>\n",
       "    <tr>\n",
       "      <th>7</th>\n",
       "      <td>last_activity_SMS Sent</td>\n",
       "      <td>5.82</td>\n",
       "    </tr>\n",
       "    <tr>\n",
       "      <th>19</th>\n",
       "      <td>Last Notable Activity_SMS Sent</td>\n",
       "      <td>5.09</td>\n",
       "    </tr>\n",
       "    <tr>\n",
       "      <th>15</th>\n",
       "      <td>Profile_Not Specified</td>\n",
       "      <td>3.46</td>\n",
       "    </tr>\n",
       "    <tr>\n",
       "      <th>2</th>\n",
       "      <td>Origin_Landing Page Submission</td>\n",
       "      <td>3.10</td>\n",
       "    </tr>\n",
       "    <tr>\n",
       "      <th>4</th>\n",
       "      <td>Source_Olark Chat</td>\n",
       "      <td>2.11</td>\n",
       "    </tr>\n",
       "    <tr>\n",
       "      <th>17</th>\n",
       "      <td>Last Notable Activity_Email Opened</td>\n",
       "      <td>2.05</td>\n",
       "    </tr>\n",
       "    <tr>\n",
       "      <th>14</th>\n",
       "      <td>Tag_Will revert after reading the email</td>\n",
       "      <td>2.05</td>\n",
       "    </tr>\n",
       "    <tr>\n",
       "      <th>3</th>\n",
       "      <td>Origin_Lead Add Form</td>\n",
       "      <td>2.03</td>\n",
       "    </tr>\n",
       "    <tr>\n",
       "      <th>6</th>\n",
       "      <td>last_activity_Olark Chat Conversation</td>\n",
       "      <td>1.59</td>\n",
       "    </tr>\n",
       "    <tr>\n",
       "      <th>12</th>\n",
       "      <td>Tag_Others</td>\n",
       "      <td>1.50</td>\n",
       "    </tr>\n",
       "    <tr>\n",
       "      <th>1</th>\n",
       "      <td>Total Time Spent on Website</td>\n",
       "      <td>1.45</td>\n",
       "    </tr>\n",
       "    <tr>\n",
       "      <th>13</th>\n",
       "      <td>Tag_Ringing</td>\n",
       "      <td>1.38</td>\n",
       "    </tr>\n",
       "    <tr>\n",
       "      <th>5</th>\n",
       "      <td>Source_Welingak Website</td>\n",
       "      <td>1.38</td>\n",
       "    </tr>\n",
       "    <tr>\n",
       "      <th>0</th>\n",
       "      <td>Do Not Email</td>\n",
       "      <td>1.28</td>\n",
       "    </tr>\n",
       "    <tr>\n",
       "      <th>16</th>\n",
       "      <td>Profile_Student of SomeSchool</td>\n",
       "      <td>1.25</td>\n",
       "    </tr>\n",
       "    <tr>\n",
       "      <th>9</th>\n",
       "      <td>Tag_Closed by Horizzon</td>\n",
       "      <td>1.22</td>\n",
       "    </tr>\n",
       "    <tr>\n",
       "      <th>18</th>\n",
       "      <td>Last Notable Activity_Others</td>\n",
       "      <td>1.15</td>\n",
       "    </tr>\n",
       "    <tr>\n",
       "      <th>10</th>\n",
       "      <td>Tag_Interested in other courses</td>\n",
       "      <td>1.09</td>\n",
       "    </tr>\n",
       "    <tr>\n",
       "      <th>11</th>\n",
       "      <td>Tag_Lost to EINS</td>\n",
       "      <td>1.07</td>\n",
       "    </tr>\n",
       "    <tr>\n",
       "      <th>8</th>\n",
       "      <td>Specialization_Travel and Tourism</td>\n",
       "      <td>1.04</td>\n",
       "    </tr>\n",
       "  </tbody>\n",
       "</table>\n",
       "</div>"
      ],
      "text/plain": [
       "                                   Features   VIF\n",
       "7                    last_activity_SMS Sent  5.82\n",
       "19           Last Notable Activity_SMS Sent  5.09\n",
       "15                    Profile_Not Specified  3.46\n",
       "2            Origin_Landing Page Submission  3.10\n",
       "4                         Source_Olark Chat  2.11\n",
       "17       Last Notable Activity_Email Opened  2.05\n",
       "14  Tag_Will revert after reading the email  2.05\n",
       "3                      Origin_Lead Add Form  2.03\n",
       "6     last_activity_Olark Chat Conversation  1.59\n",
       "12                               Tag_Others  1.50\n",
       "1               Total Time Spent on Website  1.45\n",
       "13                              Tag_Ringing  1.38\n",
       "5                   Source_Welingak Website  1.38\n",
       "0                              Do Not Email  1.28\n",
       "16            Profile_Student of SomeSchool  1.25\n",
       "9                    Tag_Closed by Horizzon  1.22\n",
       "18             Last Notable Activity_Others  1.15\n",
       "10          Tag_Interested in other courses  1.09\n",
       "11                         Tag_Lost to EINS  1.07\n",
       "8         Specialization_Travel and Tourism  1.04"
      ]
     },
     "execution_count": 820,
     "metadata": {},
     "output_type": "execute_result"
    }
   ],
   "source": [
    "vif = pd.DataFrame()\n",
    "vif['Features'] = X_train[cols].columns\n",
    "vif['VIF'] = [variance_inflation_factor(X_train[cols].values, i) for i in range(X_train[cols].shape[1])]\n",
    "vif['VIF'] = round(vif['VIF'], 2)\n",
    "vif = vif.sort_values(by = \"VIF\", ascending = False)\n",
    "vif"
   ]
  },
  {
   "cell_type": "markdown",
   "metadata": {},
   "source": [
    "Lets remove feature \"Last Notable Activity_SMS Sent\" and re-check the VIF score."
   ]
  },
  {
   "cell_type": "code",
   "execution_count": 821,
   "metadata": {},
   "outputs": [],
   "source": [
    "cols = ['Do Not Email', 'Total Time Spent on Website',\n",
    "       'Origin_Landing Page Submission', 'Origin_Lead Add Form',\n",
    "       'Source_Olark Chat', 'Source_Welingak Website',\n",
    "       'last_activity_Olark Chat Conversation', 'last_activity_SMS Sent',\n",
    "       'Specialization_Travel and Tourism', 'Tag_Closed by Horizzon',\n",
    "       'Tag_Interested in other courses', 'Tag_Lost to EINS', 'Tag_Others',\n",
    "       'Tag_Ringing', 'Tag_Will revert after reading the email',\n",
    "       'Profile_Not Specified', 'Profile_Student of SomeSchool',\n",
    "       'Last Notable Activity_Email Opened', 'Last Notable Activity_Others']"
   ]
  },
  {
   "cell_type": "code",
   "execution_count": 824,
   "metadata": {},
   "outputs": [
    {
     "data": {
      "text/html": [
       "<table class=\"simpletable\">\n",
       "<caption>Generalized Linear Model Regression Results</caption>\n",
       "<tr>\n",
       "  <th>Dep. Variable:</th>       <td>Converted</td>    <th>  No. Observations:  </th>  <td>  6351</td> \n",
       "</tr>\n",
       "<tr>\n",
       "  <th>Model:</th>                  <td>GLM</td>       <th>  Df Residuals:      </th>  <td>  6331</td> \n",
       "</tr>\n",
       "<tr>\n",
       "  <th>Model Family:</th>        <td>Binomial</td>     <th>  Df Model:          </th>  <td>    19</td> \n",
       "</tr>\n",
       "<tr>\n",
       "  <th>Link Function:</th>         <td>logit</td>      <th>  Scale:             </th> <td>  1.0000</td>\n",
       "</tr>\n",
       "<tr>\n",
       "  <th>Method:</th>                <td>IRLS</td>       <th>  Log-Likelihood:    </th> <td> -1195.9</td>\n",
       "</tr>\n",
       "<tr>\n",
       "  <th>Date:</th>            <td>Sat, 13 Apr 2024</td> <th>  Deviance:          </th> <td>  2391.7</td>\n",
       "</tr>\n",
       "<tr>\n",
       "  <th>Time:</th>                <td>19:59:50</td>     <th>  Pearson chi2:      </th> <td>8.39e+03</td>\n",
       "</tr>\n",
       "<tr>\n",
       "  <th>No. Iterations:</th>          <td>8</td>        <th>                     </th>     <td> </td>   \n",
       "</tr>\n",
       "<tr>\n",
       "  <th>Covariance Type:</th>     <td>nonrobust</td>    <th>                     </th>     <td> </td>   \n",
       "</tr>\n",
       "</table>\n",
       "<table class=\"simpletable\">\n",
       "<tr>\n",
       "                     <td></td>                        <th>coef</th>     <th>std err</th>      <th>z</th>      <th>P>|z|</th>  <th>[0.025</th>    <th>0.975]</th>  \n",
       "</tr>\n",
       "<tr>\n",
       "  <th>const</th>                                   <td>   -0.9214</td> <td>    0.267</td> <td>   -3.446</td> <td> 0.001</td> <td>   -1.445</td> <td>   -0.397</td>\n",
       "</tr>\n",
       "<tr>\n",
       "  <th>Do Not Email</th>                            <td>   -1.3061</td> <td>    0.282</td> <td>   -4.636</td> <td> 0.000</td> <td>   -1.858</td> <td>   -0.754</td>\n",
       "</tr>\n",
       "<tr>\n",
       "  <th>Total Time Spent on Website</th>             <td>    1.1597</td> <td>    0.063</td> <td>   18.466</td> <td> 0.000</td> <td>    1.037</td> <td>    1.283</td>\n",
       "</tr>\n",
       "<tr>\n",
       "  <th>Origin_Landing Page Submission</th>          <td>   -0.9033</td> <td>    0.136</td> <td>   -6.637</td> <td> 0.000</td> <td>   -1.170</td> <td>   -0.637</td>\n",
       "</tr>\n",
       "<tr>\n",
       "  <th>Origin_Lead Add Form</th>                    <td>    1.1378</td> <td>    0.503</td> <td>    2.262</td> <td> 0.024</td> <td>    0.152</td> <td>    2.124</td>\n",
       "</tr>\n",
       "<tr>\n",
       "  <th>Source_Olark Chat</th>                       <td>    1.0008</td> <td>    0.169</td> <td>    5.910</td> <td> 0.000</td> <td>    0.669</td> <td>    1.333</td>\n",
       "</tr>\n",
       "<tr>\n",
       "  <th>Source_Welingak Website</th>                 <td>    3.9463</td> <td>    0.875</td> <td>    4.509</td> <td> 0.000</td> <td>    2.231</td> <td>    5.661</td>\n",
       "</tr>\n",
       "<tr>\n",
       "  <th>last_activity_Olark Chat Conversation</th>   <td>   -0.7893</td> <td>    0.258</td> <td>   -3.057</td> <td> 0.002</td> <td>   -1.295</td> <td>   -0.283</td>\n",
       "</tr>\n",
       "<tr>\n",
       "  <th>last_activity_SMS Sent</th>                  <td>    2.8021</td> <td>    0.166</td> <td>   16.884</td> <td> 0.000</td> <td>    2.477</td> <td>    3.127</td>\n",
       "</tr>\n",
       "<tr>\n",
       "  <th>Specialization_Travel and Tourism</th>       <td>   -1.1149</td> <td>    0.453</td> <td>   -2.461</td> <td> 0.014</td> <td>   -2.003</td> <td>   -0.227</td>\n",
       "</tr>\n",
       "<tr>\n",
       "  <th>Tag_Closed by Horizzon</th>                  <td>    6.2370</td> <td>    0.746</td> <td>    8.361</td> <td> 0.000</td> <td>    4.775</td> <td>    7.699</td>\n",
       "</tr>\n",
       "<tr>\n",
       "  <th>Tag_Interested in other courses</th>         <td>   -2.5018</td> <td>    0.363</td> <td>   -6.888</td> <td> 0.000</td> <td>   -3.214</td> <td>   -1.790</td>\n",
       "</tr>\n",
       "<tr>\n",
       "  <th>Tag_Lost to EINS</th>                        <td>    5.9748</td> <td>    0.753</td> <td>    7.937</td> <td> 0.000</td> <td>    4.499</td> <td>    7.450</td>\n",
       "</tr>\n",
       "<tr>\n",
       "  <th>Tag_Others</th>                              <td>   -2.6469</td> <td>    0.244</td> <td>  -10.848</td> <td> 0.000</td> <td>   -3.125</td> <td>   -2.169</td>\n",
       "</tr>\n",
       "<tr>\n",
       "  <th>Tag_Ringing</th>                             <td>   -3.6680</td> <td>    0.269</td> <td>  -13.638</td> <td> 0.000</td> <td>   -4.195</td> <td>   -3.141</td>\n",
       "</tr>\n",
       "<tr>\n",
       "  <th>Tag_Will revert after reading the email</th> <td>    4.3337</td> <td>    0.219</td> <td>   19.792</td> <td> 0.000</td> <td>    3.905</td> <td>    4.763</td>\n",
       "</tr>\n",
       "<tr>\n",
       "  <th>Profile_Not Specified</th>                   <td>   -1.3477</td> <td>    0.213</td> <td>   -6.312</td> <td> 0.000</td> <td>   -1.766</td> <td>   -0.929</td>\n",
       "</tr>\n",
       "<tr>\n",
       "  <th>Profile_Student of SomeSchool</th>           <td>   -2.8557</td> <td>    0.899</td> <td>   -3.178</td> <td> 0.001</td> <td>   -4.617</td> <td>   -1.095</td>\n",
       "</tr>\n",
       "<tr>\n",
       "  <th>Last Notable Activity_Email Opened</th>      <td>    1.1355</td> <td>    0.165</td> <td>    6.879</td> <td> 0.000</td> <td>    0.812</td> <td>    1.459</td>\n",
       "</tr>\n",
       "<tr>\n",
       "  <th>Last Notable Activity_Others</th>            <td>    1.8625</td> <td>    0.453</td> <td>    4.115</td> <td> 0.000</td> <td>    0.975</td> <td>    2.750</td>\n",
       "</tr>\n",
       "</table>"
      ],
      "text/plain": [
       "<class 'statsmodels.iolib.summary.Summary'>\n",
       "\"\"\"\n",
       "                 Generalized Linear Model Regression Results                  \n",
       "==============================================================================\n",
       "Dep. Variable:              Converted   No. Observations:                 6351\n",
       "Model:                            GLM   Df Residuals:                     6331\n",
       "Model Family:                Binomial   Df Model:                           19\n",
       "Link Function:                  logit   Scale:                          1.0000\n",
       "Method:                          IRLS   Log-Likelihood:                -1195.9\n",
       "Date:                Sat, 13 Apr 2024   Deviance:                       2391.7\n",
       "Time:                        19:59:50   Pearson chi2:                 8.39e+03\n",
       "No. Iterations:                     8                                         \n",
       "Covariance Type:            nonrobust                                         \n",
       "===========================================================================================================\n",
       "                                              coef    std err          z      P>|z|      [0.025      0.975]\n",
       "-----------------------------------------------------------------------------------------------------------\n",
       "const                                      -0.9214      0.267     -3.446      0.001      -1.445      -0.397\n",
       "Do Not Email                               -1.3061      0.282     -4.636      0.000      -1.858      -0.754\n",
       "Total Time Spent on Website                 1.1597      0.063     18.466      0.000       1.037       1.283\n",
       "Origin_Landing Page Submission             -0.9033      0.136     -6.637      0.000      -1.170      -0.637\n",
       "Origin_Lead Add Form                        1.1378      0.503      2.262      0.024       0.152       2.124\n",
       "Source_Olark Chat                           1.0008      0.169      5.910      0.000       0.669       1.333\n",
       "Source_Welingak Website                     3.9463      0.875      4.509      0.000       2.231       5.661\n",
       "last_activity_Olark Chat Conversation      -0.7893      0.258     -3.057      0.002      -1.295      -0.283\n",
       "last_activity_SMS Sent                      2.8021      0.166     16.884      0.000       2.477       3.127\n",
       "Specialization_Travel and Tourism          -1.1149      0.453     -2.461      0.014      -2.003      -0.227\n",
       "Tag_Closed by Horizzon                      6.2370      0.746      8.361      0.000       4.775       7.699\n",
       "Tag_Interested in other courses            -2.5018      0.363     -6.888      0.000      -3.214      -1.790\n",
       "Tag_Lost to EINS                            5.9748      0.753      7.937      0.000       4.499       7.450\n",
       "Tag_Others                                 -2.6469      0.244    -10.848      0.000      -3.125      -2.169\n",
       "Tag_Ringing                                -3.6680      0.269    -13.638      0.000      -4.195      -3.141\n",
       "Tag_Will revert after reading the email     4.3337      0.219     19.792      0.000       3.905       4.763\n",
       "Profile_Not Specified                      -1.3477      0.213     -6.312      0.000      -1.766      -0.929\n",
       "Profile_Student of SomeSchool              -2.8557      0.899     -3.178      0.001      -4.617      -1.095\n",
       "Last Notable Activity_Email Opened          1.1355      0.165      6.879      0.000       0.812       1.459\n",
       "Last Notable Activity_Others                1.8625      0.453      4.115      0.000       0.975       2.750\n",
       "===========================================================================================================\n",
       "\"\"\""
      ]
     },
     "execution_count": 824,
     "metadata": {},
     "output_type": "execute_result"
    }
   ],
   "source": [
    "X_train_sm = sm.add_constant(X_train[cols])\n",
    "log_model2 = sm.GLM(y_train,X_train_sm, family = sm.families.Binomial())\n",
    "res = log_model2.fit()\n",
    "res.summary()"
   ]
  },
  {
   "cell_type": "code",
   "execution_count": 825,
   "metadata": {},
   "outputs": [
    {
     "data": {
      "text/html": [
       "<div>\n",
       "<style scoped>\n",
       "    .dataframe tbody tr th:only-of-type {\n",
       "        vertical-align: middle;\n",
       "    }\n",
       "\n",
       "    .dataframe tbody tr th {\n",
       "        vertical-align: top;\n",
       "    }\n",
       "\n",
       "    .dataframe thead th {\n",
       "        text-align: right;\n",
       "    }\n",
       "</style>\n",
       "<table border=\"1\" class=\"dataframe\">\n",
       "  <thead>\n",
       "    <tr style=\"text-align: right;\">\n",
       "      <th></th>\n",
       "      <th>Features</th>\n",
       "      <th>VIF</th>\n",
       "    </tr>\n",
       "  </thead>\n",
       "  <tbody>\n",
       "    <tr>\n",
       "      <th>15</th>\n",
       "      <td>Profile_Not Specified</td>\n",
       "      <td>3.46</td>\n",
       "    </tr>\n",
       "    <tr>\n",
       "      <th>2</th>\n",
       "      <td>Origin_Landing Page Submission</td>\n",
       "      <td>3.10</td>\n",
       "    </tr>\n",
       "    <tr>\n",
       "      <th>7</th>\n",
       "      <td>last_activity_SMS Sent</td>\n",
       "      <td>2.35</td>\n",
       "    </tr>\n",
       "    <tr>\n",
       "      <th>4</th>\n",
       "      <td>Source_Olark Chat</td>\n",
       "      <td>2.11</td>\n",
       "    </tr>\n",
       "    <tr>\n",
       "      <th>17</th>\n",
       "      <td>Last Notable Activity_Email Opened</td>\n",
       "      <td>2.04</td>\n",
       "    </tr>\n",
       "    <tr>\n",
       "      <th>3</th>\n",
       "      <td>Origin_Lead Add Form</td>\n",
       "      <td>2.03</td>\n",
       "    </tr>\n",
       "    <tr>\n",
       "      <th>14</th>\n",
       "      <td>Tag_Will revert after reading the email</td>\n",
       "      <td>2.01</td>\n",
       "    </tr>\n",
       "    <tr>\n",
       "      <th>6</th>\n",
       "      <td>last_activity_Olark Chat Conversation</td>\n",
       "      <td>1.59</td>\n",
       "    </tr>\n",
       "    <tr>\n",
       "      <th>12</th>\n",
       "      <td>Tag_Others</td>\n",
       "      <td>1.50</td>\n",
       "    </tr>\n",
       "    <tr>\n",
       "      <th>1</th>\n",
       "      <td>Total Time Spent on Website</td>\n",
       "      <td>1.45</td>\n",
       "    </tr>\n",
       "    <tr>\n",
       "      <th>5</th>\n",
       "      <td>Source_Welingak Website</td>\n",
       "      <td>1.38</td>\n",
       "    </tr>\n",
       "    <tr>\n",
       "      <th>13</th>\n",
       "      <td>Tag_Ringing</td>\n",
       "      <td>1.36</td>\n",
       "    </tr>\n",
       "    <tr>\n",
       "      <th>0</th>\n",
       "      <td>Do Not Email</td>\n",
       "      <td>1.28</td>\n",
       "    </tr>\n",
       "    <tr>\n",
       "      <th>16</th>\n",
       "      <td>Profile_Student of SomeSchool</td>\n",
       "      <td>1.25</td>\n",
       "    </tr>\n",
       "    <tr>\n",
       "      <th>9</th>\n",
       "      <td>Tag_Closed by Horizzon</td>\n",
       "      <td>1.21</td>\n",
       "    </tr>\n",
       "    <tr>\n",
       "      <th>18</th>\n",
       "      <td>Last Notable Activity_Others</td>\n",
       "      <td>1.15</td>\n",
       "    </tr>\n",
       "    <tr>\n",
       "      <th>10</th>\n",
       "      <td>Tag_Interested in other courses</td>\n",
       "      <td>1.09</td>\n",
       "    </tr>\n",
       "    <tr>\n",
       "      <th>11</th>\n",
       "      <td>Tag_Lost to EINS</td>\n",
       "      <td>1.06</td>\n",
       "    </tr>\n",
       "    <tr>\n",
       "      <th>8</th>\n",
       "      <td>Specialization_Travel and Tourism</td>\n",
       "      <td>1.04</td>\n",
       "    </tr>\n",
       "  </tbody>\n",
       "</table>\n",
       "</div>"
      ],
      "text/plain": [
       "                                   Features   VIF\n",
       "15                    Profile_Not Specified  3.46\n",
       "2            Origin_Landing Page Submission  3.10\n",
       "7                    last_activity_SMS Sent  2.35\n",
       "4                         Source_Olark Chat  2.11\n",
       "17       Last Notable Activity_Email Opened  2.04\n",
       "3                      Origin_Lead Add Form  2.03\n",
       "14  Tag_Will revert after reading the email  2.01\n",
       "6     last_activity_Olark Chat Conversation  1.59\n",
       "12                               Tag_Others  1.50\n",
       "1               Total Time Spent on Website  1.45\n",
       "5                   Source_Welingak Website  1.38\n",
       "13                              Tag_Ringing  1.36\n",
       "0                              Do Not Email  1.28\n",
       "16            Profile_Student of SomeSchool  1.25\n",
       "9                    Tag_Closed by Horizzon  1.21\n",
       "18             Last Notable Activity_Others  1.15\n",
       "10          Tag_Interested in other courses  1.09\n",
       "11                         Tag_Lost to EINS  1.06\n",
       "8         Specialization_Travel and Tourism  1.04"
      ]
     },
     "execution_count": 825,
     "metadata": {},
     "output_type": "execute_result"
    }
   ],
   "source": [
    "vif = pd.DataFrame()\n",
    "vif['Features'] = X_train[cols].columns\n",
    "vif['VIF'] = [variance_inflation_factor(X_train[cols].values, i) for i in range(X_train[cols].shape[1])]\n",
    "vif['VIF'] = round(vif['VIF'], 2)\n",
    "vif = vif.sort_values(by = \"VIF\", ascending = False)\n",
    "vif"
   ]
  },
  {
   "cell_type": "markdown",
   "metadata": {},
   "source": [
    "VIF values are within limit(<5) now, we can go ahead with model with this set of features.\n",
    "\n",
    "Let's calculate Y-predict and evaluate the model."
   ]
  },
  {
   "cell_type": "code",
   "execution_count": 828,
   "metadata": {},
   "outputs": [
    {
     "data": {
      "text/plain": [
       "array([0.09772726, 0.03760267, 0.04051656, 0.82281925, 0.99964549,\n",
       "       0.99348213, 0.04483184, 0.83564102, 0.99891248, 0.13199045])"
      ]
     },
     "execution_count": 828,
     "metadata": {},
     "output_type": "execute_result"
    }
   ],
   "source": [
    "y_train_pred = res.predict(X_train_sm)\n",
    "y_train_pred = y_train_pred.values.reshape(-1)"
   ]
  },
  {
   "cell_type": "markdown",
   "metadata": {},
   "source": [
    "Fit predicted and actual values for \"Converted\" in one dataframe and see the result.\n"
   ]
  },
  {
   "cell_type": "code",
   "execution_count": 924,
   "metadata": {},
   "outputs": [
    {
     "data": {
      "text/html": [
       "<div>\n",
       "<style scoped>\n",
       "    .dataframe tbody tr th:only-of-type {\n",
       "        vertical-align: middle;\n",
       "    }\n",
       "\n",
       "    .dataframe tbody tr th {\n",
       "        vertical-align: top;\n",
       "    }\n",
       "\n",
       "    .dataframe thead th {\n",
       "        text-align: right;\n",
       "    }\n",
       "</style>\n",
       "<table border=\"1\" class=\"dataframe\">\n",
       "  <thead>\n",
       "    <tr style=\"text-align: right;\">\n",
       "      <th></th>\n",
       "      <th>Converted</th>\n",
       "      <th>Converted_prob</th>\n",
       "    </tr>\n",
       "  </thead>\n",
       "  <tbody>\n",
       "    <tr>\n",
       "      <th>0</th>\n",
       "      <td>0</td>\n",
       "      <td>0.097727</td>\n",
       "    </tr>\n",
       "    <tr>\n",
       "      <th>1</th>\n",
       "      <td>0</td>\n",
       "      <td>0.037603</td>\n",
       "    </tr>\n",
       "    <tr>\n",
       "      <th>2</th>\n",
       "      <td>0</td>\n",
       "      <td>0.040517</td>\n",
       "    </tr>\n",
       "    <tr>\n",
       "      <th>3</th>\n",
       "      <td>1</td>\n",
       "      <td>0.822819</td>\n",
       "    </tr>\n",
       "    <tr>\n",
       "      <th>4</th>\n",
       "      <td>1</td>\n",
       "      <td>0.999645</td>\n",
       "    </tr>\n",
       "  </tbody>\n",
       "</table>\n",
       "</div>"
      ],
      "text/plain": [
       "   Converted  Converted_prob\n",
       "0          0        0.097727\n",
       "1          0        0.037603\n",
       "2          0        0.040517\n",
       "3          1        0.822819\n",
       "4          1        0.999645"
      ]
     },
     "execution_count": 924,
     "metadata": {},
     "output_type": "execute_result"
    }
   ],
   "source": [
    "y_train_pred_final = pd.DataFrame({'Converted':y_train.values, 'Converted_prob':y_train_pred})\n",
    "y_train_pred_final.head()"
   ]
  },
  {
   "cell_type": "markdown",
   "metadata": {},
   "source": [
    "Convert the probablities into binary 0 and 1. We'll set 1 for \"probablity > 0.5\" and 0 for \"probablity < 0.5\""
   ]
  },
  {
   "cell_type": "code",
   "execution_count": 925,
   "metadata": {},
   "outputs": [],
   "source": [
    "y_train_pred_final['Predicted'] = y_train_pred_final.Converted_prob.map(lambda x: 1 if x > 0.5 else 0)"
   ]
  },
  {
   "cell_type": "code",
   "execution_count": 926,
   "metadata": {},
   "outputs": [
    {
     "data": {
      "text/html": [
       "<div>\n",
       "<style scoped>\n",
       "    .dataframe tbody tr th:only-of-type {\n",
       "        vertical-align: middle;\n",
       "    }\n",
       "\n",
       "    .dataframe tbody tr th {\n",
       "        vertical-align: top;\n",
       "    }\n",
       "\n",
       "    .dataframe thead th {\n",
       "        text-align: right;\n",
       "    }\n",
       "</style>\n",
       "<table border=\"1\" class=\"dataframe\">\n",
       "  <thead>\n",
       "    <tr style=\"text-align: right;\">\n",
       "      <th></th>\n",
       "      <th>Converted</th>\n",
       "      <th>Converted_prob</th>\n",
       "      <th>Predicted</th>\n",
       "    </tr>\n",
       "  </thead>\n",
       "  <tbody>\n",
       "    <tr>\n",
       "      <th>0</th>\n",
       "      <td>0</td>\n",
       "      <td>0.097727</td>\n",
       "      <td>0</td>\n",
       "    </tr>\n",
       "    <tr>\n",
       "      <th>1</th>\n",
       "      <td>0</td>\n",
       "      <td>0.037603</td>\n",
       "      <td>0</td>\n",
       "    </tr>\n",
       "    <tr>\n",
       "      <th>2</th>\n",
       "      <td>0</td>\n",
       "      <td>0.040517</td>\n",
       "      <td>0</td>\n",
       "    </tr>\n",
       "    <tr>\n",
       "      <th>3</th>\n",
       "      <td>1</td>\n",
       "      <td>0.822819</td>\n",
       "      <td>1</td>\n",
       "    </tr>\n",
       "    <tr>\n",
       "      <th>4</th>\n",
       "      <td>1</td>\n",
       "      <td>0.999645</td>\n",
       "      <td>1</td>\n",
       "    </tr>\n",
       "  </tbody>\n",
       "</table>\n",
       "</div>"
      ],
      "text/plain": [
       "   Converted  Converted_prob  Predicted\n",
       "0          0        0.097727          0\n",
       "1          0        0.037603          0\n",
       "2          0        0.040517          0\n",
       "3          1        0.822819          1\n",
       "4          1        0.999645          1"
      ]
     },
     "execution_count": 926,
     "metadata": {},
     "output_type": "execute_result"
    }
   ],
   "source": [
    "y_train_pred_final.head()"
   ]
  },
  {
   "cell_type": "markdown",
   "metadata": {},
   "source": [
    "## Model Evaluation\n",
    "--------------------------------------------------------------------------------------------------\n",
    "\n",
    "#### Different metrics for the model"
   ]
  },
  {
   "cell_type": "code",
   "execution_count": 886,
   "metadata": {},
   "outputs": [
    {
     "name": "stdout",
     "output_type": "stream",
     "text": [
      "[[3746  159]\n",
      " [ 290 2156]]\n"
     ]
    }
   ],
   "source": [
    "# confusion matrix\n",
    "confusion_matrix = metrics.confusion_matrix(y_train_pred_final.Converted, y_train_pred_final.Predicted )\n",
    "print(confusion_matrix)"
   ]
  },
  {
   "cell_type": "code",
   "execution_count": 887,
   "metadata": {},
   "outputs": [
    {
     "name": "stdout",
     "output_type": "stream",
     "text": [
      "Accuracy of the model is  0.9293024720516454\n"
     ]
    }
   ],
   "source": [
    "acc = metrics.accuracy_score(y_train_pred_final.Converted, y_train_pred_final.Predicted)\n",
    "print(\"Accuracy of the model is \",acc)"
   ]
  },
  {
   "cell_type": "code",
   "execution_count": 888,
   "metadata": {},
   "outputs": [],
   "source": [
    "tp = confusion_matrix[1,1] \n",
    "tn = confusion_matrix[0,0] \n",
    "fp = confusion_matrix[0,1] \n",
    "fn = confusion_matrix[1,0]"
   ]
  },
  {
   "cell_type": "code",
   "execution_count": 889,
   "metadata": {},
   "outputs": [
    {
     "name": "stdout",
     "output_type": "stream",
     "text": [
      "Sensitivity is  88.14 %\n",
      "Specificity is  95.93 %\n"
     ]
    }
   ],
   "source": [
    "# Sensitivity\n",
    "Sensitivity = round(tp / float(tp+fn)*100,2)\n",
    "Specificity = round(tn / float(tn+fp)*100,2)\n",
    "\n",
    "print('Sensitivity is ',Sensitivity,'%')\n",
    "print('Specificity is ',Specificity,'%')"
   ]
  },
  {
   "cell_type": "markdown",
   "metadata": {},
   "source": [
    "Calculating other metrics on train set"
   ]
  },
  {
   "cell_type": "code",
   "execution_count": 890,
   "metadata": {},
   "outputs": [
    {
     "name": "stdout",
     "output_type": "stream",
     "text": [
      "False Positive Rate is  0.04071702944942381\n",
      "Positive Predictive Value is  0.931317494600432\n",
      "Negative Predictive Value is  0.9281466798810704\n"
     ]
    }
   ],
   "source": [
    "# Calculate FPR(False Postive Rate)\n",
    "fpr = fp/ float(tn  +fp)\n",
    "\n",
    "# PPV(positive predictive value)\n",
    "ppv = tp / float(tp + fp)\n",
    "\n",
    "#NPV(Negative Predictive Value)\n",
    "npv = tn / float(tn + fn)\n",
    "\n",
    "print(\"False Positive Rate is \",fpr)\n",
    "print(\"Positive Predictive Value is \",ppv)\n",
    "print(\"Negative Predictive Value is \",npv)"
   ]
  },
  {
   "cell_type": "code",
   "execution_count": 896,
   "metadata": {},
   "outputs": [
    {
     "name": "stdout",
     "output_type": "stream",
     "text": [
      "Precision Score is  93.13 %\n"
     ]
    }
   ],
   "source": [
    "ps = precision_score(y_train_pred_final.Converted , y_train_pred_final.Predicted)\n",
    "print(\"Precision Score is \",round(ps*100,2),\"%\")"
   ]
  },
  {
   "cell_type": "code",
   "execution_count": 897,
   "metadata": {},
   "outputs": [
    {
     "name": "stdout",
     "output_type": "stream",
     "text": [
      "Recall Score is  88.14 %\n"
     ]
    }
   ],
   "source": [
    "rs = recall_score(y_train_pred_final.Converted, y_train_pred_final.Predicted)\n",
    "print(\"Recall Score is \",round(rs*100,2),\"%\")"
   ]
  },
  {
   "cell_type": "markdown",
   "metadata": {},
   "source": [
    "Based on the values of different metrics we see that the model looks good. Currently we have considered 0.5 as the cutoff point for probablity of predicted value.\n",
    "\n",
    "\n",
    "#### Check for optimal cutoff point"
   ]
  },
  {
   "cell_type": "code",
   "execution_count": 928,
   "metadata": {},
   "outputs": [
    {
     "data": {
      "text/html": [
       "<div>\n",
       "<style scoped>\n",
       "    .dataframe tbody tr th:only-of-type {\n",
       "        vertical-align: middle;\n",
       "    }\n",
       "\n",
       "    .dataframe tbody tr th {\n",
       "        vertical-align: top;\n",
       "    }\n",
       "\n",
       "    .dataframe thead th {\n",
       "        text-align: right;\n",
       "    }\n",
       "</style>\n",
       "<table border=\"1\" class=\"dataframe\">\n",
       "  <thead>\n",
       "    <tr style=\"text-align: right;\">\n",
       "      <th></th>\n",
       "      <th>Converted</th>\n",
       "      <th>Converted_prob</th>\n",
       "      <th>Predicted</th>\n",
       "      <th>0.0</th>\n",
       "      <th>0.1</th>\n",
       "      <th>0.2</th>\n",
       "      <th>0.3</th>\n",
       "      <th>0.4</th>\n",
       "      <th>0.5</th>\n",
       "      <th>0.6</th>\n",
       "      <th>0.7</th>\n",
       "      <th>0.8</th>\n",
       "      <th>0.9</th>\n",
       "    </tr>\n",
       "  </thead>\n",
       "  <tbody>\n",
       "    <tr>\n",
       "      <th>0</th>\n",
       "      <td>0</td>\n",
       "      <td>0.097727</td>\n",
       "      <td>0</td>\n",
       "      <td>1</td>\n",
       "      <td>0</td>\n",
       "      <td>0</td>\n",
       "      <td>0</td>\n",
       "      <td>0</td>\n",
       "      <td>0</td>\n",
       "      <td>0</td>\n",
       "      <td>0</td>\n",
       "      <td>0</td>\n",
       "      <td>0</td>\n",
       "    </tr>\n",
       "    <tr>\n",
       "      <th>1</th>\n",
       "      <td>0</td>\n",
       "      <td>0.037603</td>\n",
       "      <td>0</td>\n",
       "      <td>1</td>\n",
       "      <td>0</td>\n",
       "      <td>0</td>\n",
       "      <td>0</td>\n",
       "      <td>0</td>\n",
       "      <td>0</td>\n",
       "      <td>0</td>\n",
       "      <td>0</td>\n",
       "      <td>0</td>\n",
       "      <td>0</td>\n",
       "    </tr>\n",
       "    <tr>\n",
       "      <th>2</th>\n",
       "      <td>0</td>\n",
       "      <td>0.040517</td>\n",
       "      <td>0</td>\n",
       "      <td>1</td>\n",
       "      <td>0</td>\n",
       "      <td>0</td>\n",
       "      <td>0</td>\n",
       "      <td>0</td>\n",
       "      <td>0</td>\n",
       "      <td>0</td>\n",
       "      <td>0</td>\n",
       "      <td>0</td>\n",
       "      <td>0</td>\n",
       "    </tr>\n",
       "    <tr>\n",
       "      <th>3</th>\n",
       "      <td>1</td>\n",
       "      <td>0.822819</td>\n",
       "      <td>1</td>\n",
       "      <td>1</td>\n",
       "      <td>1</td>\n",
       "      <td>1</td>\n",
       "      <td>1</td>\n",
       "      <td>1</td>\n",
       "      <td>1</td>\n",
       "      <td>1</td>\n",
       "      <td>1</td>\n",
       "      <td>1</td>\n",
       "      <td>0</td>\n",
       "    </tr>\n",
       "    <tr>\n",
       "      <th>4</th>\n",
       "      <td>1</td>\n",
       "      <td>0.999645</td>\n",
       "      <td>1</td>\n",
       "      <td>1</td>\n",
       "      <td>1</td>\n",
       "      <td>1</td>\n",
       "      <td>1</td>\n",
       "      <td>1</td>\n",
       "      <td>1</td>\n",
       "      <td>1</td>\n",
       "      <td>1</td>\n",
       "      <td>1</td>\n",
       "      <td>1</td>\n",
       "    </tr>\n",
       "  </tbody>\n",
       "</table>\n",
       "</div>"
      ],
      "text/plain": [
       "   Converted  Converted_prob  Predicted  0.0  0.1  0.2  0.3  0.4  0.5  0.6  \\\n",
       "0          0        0.097727          0    1    0    0    0    0    0    0   \n",
       "1          0        0.037603          0    1    0    0    0    0    0    0   \n",
       "2          0        0.040517          0    1    0    0    0    0    0    0   \n",
       "3          1        0.822819          1    1    1    1    1    1    1    1   \n",
       "4          1        0.999645          1    1    1    1    1    1    1    1   \n",
       "\n",
       "   0.7  0.8  0.9  \n",
       "0    0    0    0  \n",
       "1    0    0    0  \n",
       "2    0    0    0  \n",
       "3    1    1    0  \n",
       "4    1    1    1  "
      ]
     },
     "execution_count": 928,
     "metadata": {},
     "output_type": "execute_result"
    }
   ],
   "source": [
    "# creating columns for storing converted values for different probablities\n",
    "num = [0.0,0.1,0.2,0.3,0.4,0.5,0.6,0.7,0.8,0.9]\n",
    "\n",
    "for i in num:\n",
    "    y_train_pred_final[i]= y_train_pred_final.Converted_prob.map(lambda x: 1 if x > i else 0)\n",
    "y_train_pred_final.head()"
   ]
  },
  {
   "cell_type": "code",
   "execution_count": 929,
   "metadata": {},
   "outputs": [],
   "source": [
    "# creating dataframe to store metric values for all probablities\n",
    "cutoff_df = pd.DataFrame(columns = ['probablity','accuracy','sensitivity','specificity'])"
   ]
  },
  {
   "cell_type": "code",
   "execution_count": 930,
   "metadata": {},
   "outputs": [
    {
     "name": "stdout",
     "output_type": "stream",
     "text": [
      "     probablity  accuracy  sensitivity  specificity\n",
      "0.0         0.0  0.385136     1.000000     0.000000\n",
      "0.1         0.1  0.860337     0.975061     0.788476\n",
      "0.2         0.2  0.894662     0.956664     0.855826\n",
      "0.3         0.3  0.923477     0.921096     0.924968\n",
      "0.4         0.4  0.928515     0.899836     0.946479\n",
      "0.5         0.5  0.929302     0.881439     0.959283\n",
      "0.6         0.6  0.925996     0.863042     0.965429\n",
      "0.7         0.7  0.914817     0.811529     0.979513\n",
      "0.8         0.8  0.906157     0.780867     0.984635\n",
      "0.9         0.9  0.889624     0.728945     0.990269\n"
     ]
    }
   ],
   "source": [
    "num = [0.0,0.1,0.2,0.3,0.4,0.5,0.6,0.7,0.8,0.9]\n",
    "for i in num:\n",
    "    cm = metrics.confusion_matrix(y_train_pred_final.Converted, y_train_pred_final[i] )\n",
    "    total1=sum(sum(cm))\n",
    "    accuracy = (cm[0,0]+cm[1,1])/total1\n",
    "    \n",
    "    specificity = cm[0,0]/(cm[0,0]+cm[0,1])\n",
    "    sensitivity = cm[1,1]/(cm[1,0]+cm[1,1])\n",
    "    cutoff_df.loc[i] =[ i ,accuracy,sensitivity,specificity]\n",
    "print(cutoff_df)"
   ]
  },
  {
   "cell_type": "code",
   "execution_count": 933,
   "metadata": {},
   "outputs": [
    {
     "data": {
      "image/png": "[encoded data removed]",
      "text/plain": [
       "<Figure size 432x288 with 1 Axes>"
      ]
     },
     "metadata": {
      "needs_background": "light"
     },
     "output_type": "display_data"
    }
   ],
   "source": [
    "# \n",
    "cutoff_df.plot.line(x='probablity', y=['accuracy','sensitivity','specificity'])\n",
    "plt.show()"
   ]
  },
  {
   "cell_type": "markdown",
   "metadata": {},
   "source": [
    "We can see the optimal cutoff point is coming around 0.3, lets see values for other metrics with coutoff point as 0.3. "
   ]
  },
  {
   "cell_type": "code",
   "execution_count": 953,
   "metadata": {},
   "outputs": [
    {
     "name": "stdout",
     "output_type": "stream",
     "text": [
      "[[3612  293]\n",
      " [ 193 2253]]\n",
      "Accuracy of the model is  92.35 %\n",
      "Sensitivity is  92.11 %\n",
      "Specificity is  92.5 %\n",
      "False Positive Rate is  7.5 %\n",
      "Positive Predictive Value is  88.49 %\n",
      "Negative Predictive Value is  94.93 %\n",
      "Precision Score is  93.13 %\n",
      "Recall Score is  88.14 %\n"
     ]
    }
   ],
   "source": [
    "confusion_matrix = metrics.confusion_matrix(y_train_pred_final.Converted, y_train_pred_final[0.3] )\n",
    "print(confusion_matrix)\n",
    "\n",
    "tp = confusion_matrix[1,1] \n",
    "tn = confusion_matrix[0,0] \n",
    "fp = confusion_matrix[0,1] \n",
    "fn = confusion_matrix[1,0]\n",
    "\n",
    "acc = metrics.accuracy_score(y_train_pred_final.Converted, y_train_pred_final[0.3])\n",
    "print(\"Accuracy of the model is \",round(acc*100,2),'%')\n",
    "\n",
    "# Sensitivity\n",
    "Sensitivity = round(tp / float(tp+fn)*100,2)\n",
    "Specificity = round(tn / float(tn+fp)*100,2)\n",
    "\n",
    "print('Sensitivity is ',Sensitivity,'%')\n",
    "print('Specificity is ',Specificity,'%')\n",
    "\n",
    "# Calculate FPR(False Postive Rate)\n",
    "fpr = fp/ float(tn  +fp)\n",
    "\n",
    "# PPV(positive predictive value)\n",
    "ppv = tp / float(tp + fp)\n",
    "\n",
    "#NPV(Negative Predictive Value)\n",
    "npv = tn / float(tn + fn)\n",
    "\n",
    "print(\"False Positive Rate is \",round(fpr*100,2),'%')\n",
    "print(\"Positive Predictive Value is \",round(ppv*100,2),'%')\n",
    "print(\"Negative Predictive Value is \",round(npv*100,2),'%')\n",
    "\n",
    "ps = precision_score(y_train_pred_final.Converted , y_train_pred_final.Predicted)\n",
    "print(\"Precision Score is \",round(ps*100,2),\"%\")\n",
    "\n",
    "rs = recall_score(y_train_pred_final.Converted, y_train_pred_final.Predicted)\n",
    "print(\"Recall Score is \",round(rs*100,2),\"%\")"
   ]
  },
  {
   "cell_type": "markdown",
   "metadata": {},
   "source": [
    "Sensitivity value has improved, while FPR has increased to 7%. \n",
    "As suggested by graph we will go ahead and use 0.3 as cutoff point."
   ]
  },
  {
   "cell_type": "markdown",
   "metadata": {},
   "source": [
    "#### Applying Model on Test Dataset\n"
   ]
  },
  {
   "cell_type": "code",
   "execution_count": 898,
   "metadata": {},
   "outputs": [
    {
     "data": {
      "text/html": [
       "<div>\n",
       "<style scoped>\n",
       "    .dataframe tbody tr th:only-of-type {\n",
       "        vertical-align: middle;\n",
       "    }\n",
       "\n",
       "    .dataframe tbody tr th {\n",
       "        vertical-align: top;\n",
       "    }\n",
       "\n",
       "    .dataframe thead th {\n",
       "        text-align: right;\n",
       "    }\n",
       "</style>\n",
       "<table border=\"1\" class=\"dataframe\">\n",
       "  <thead>\n",
       "    <tr style=\"text-align: right;\">\n",
       "      <th></th>\n",
       "      <th>Do Not Email</th>\n",
       "      <th>TotalVisits</th>\n",
       "      <th>Total Time Spent on Website</th>\n",
       "      <th>Page Views Per Visit</th>\n",
       "      <th>A free copy of Mastering The Interview</th>\n",
       "      <th>Origin_Landing Page Submission</th>\n",
       "      <th>Origin_Lead Add Form</th>\n",
       "      <th>Origin_Lead Import</th>\n",
       "      <th>Source_Google</th>\n",
       "      <th>Source_Olark Chat</th>\n",
       "      <th>...</th>\n",
       "      <th>City_Other Cities of Maharashtra</th>\n",
       "      <th>City_Other Metro Cities</th>\n",
       "      <th>City_Thane &amp; Outskirts</th>\n",
       "      <th>City_Tier II Cities</th>\n",
       "      <th>Last Notable Activity_Email Opened</th>\n",
       "      <th>Last Notable Activity_Modified</th>\n",
       "      <th>Last Notable Activity_Olark Chat Conversation</th>\n",
       "      <th>Last Notable Activity_Others</th>\n",
       "      <th>Last Notable Activity_Page Visited on Website</th>\n",
       "      <th>Last Notable Activity_SMS Sent</th>\n",
       "    </tr>\n",
       "  </thead>\n",
       "  <tbody>\n",
       "    <tr>\n",
       "      <th>3271</th>\n",
       "      <td>0</td>\n",
       "      <td>0.206475</td>\n",
       "      <td>-0.591008</td>\n",
       "      <td>0.716169</td>\n",
       "      <td>0</td>\n",
       "      <td>0</td>\n",
       "      <td>0</td>\n",
       "      <td>0</td>\n",
       "      <td>1</td>\n",
       "      <td>0</td>\n",
       "      <td>...</td>\n",
       "      <td>0</td>\n",
       "      <td>0</td>\n",
       "      <td>0</td>\n",
       "      <td>0</td>\n",
       "      <td>1</td>\n",
       "      <td>0</td>\n",
       "      <td>0</td>\n",
       "      <td>0</td>\n",
       "      <td>0</td>\n",
       "      <td>0</td>\n",
       "    </tr>\n",
       "    <tr>\n",
       "      <th>1490</th>\n",
       "      <td>0</td>\n",
       "      <td>0.511373</td>\n",
       "      <td>1.894051</td>\n",
       "      <td>1.151248</td>\n",
       "      <td>1</td>\n",
       "      <td>1</td>\n",
       "      <td>0</td>\n",
       "      <td>0</td>\n",
       "      <td>0</td>\n",
       "      <td>0</td>\n",
       "      <td>...</td>\n",
       "      <td>0</td>\n",
       "      <td>0</td>\n",
       "      <td>0</td>\n",
       "      <td>0</td>\n",
       "      <td>1</td>\n",
       "      <td>0</td>\n",
       "      <td>0</td>\n",
       "      <td>0</td>\n",
       "      <td>0</td>\n",
       "      <td>0</td>\n",
       "    </tr>\n",
       "    <tr>\n",
       "      <th>7936</th>\n",
       "      <td>0</td>\n",
       "      <td>-0.403321</td>\n",
       "      <td>-0.743117</td>\n",
       "      <td>-0.153989</td>\n",
       "      <td>0</td>\n",
       "      <td>0</td>\n",
       "      <td>0</td>\n",
       "      <td>0</td>\n",
       "      <td>1</td>\n",
       "      <td>0</td>\n",
       "      <td>...</td>\n",
       "      <td>0</td>\n",
       "      <td>0</td>\n",
       "      <td>0</td>\n",
       "      <td>0</td>\n",
       "      <td>1</td>\n",
       "      <td>0</td>\n",
       "      <td>0</td>\n",
       "      <td>0</td>\n",
       "      <td>0</td>\n",
       "      <td>0</td>\n",
       "    </tr>\n",
       "    <tr>\n",
       "      <th>4216</th>\n",
       "      <td>0</td>\n",
       "      <td>-1.013117</td>\n",
       "      <td>-0.878732</td>\n",
       "      <td>-1.024147</td>\n",
       "      <td>0</td>\n",
       "      <td>0</td>\n",
       "      <td>1</td>\n",
       "      <td>0</td>\n",
       "      <td>0</td>\n",
       "      <td>0</td>\n",
       "      <td>...</td>\n",
       "      <td>0</td>\n",
       "      <td>0</td>\n",
       "      <td>0</td>\n",
       "      <td>0</td>\n",
       "      <td>0</td>\n",
       "      <td>1</td>\n",
       "      <td>0</td>\n",
       "      <td>0</td>\n",
       "      <td>0</td>\n",
       "      <td>0</td>\n",
       "    </tr>\n",
       "    <tr>\n",
       "      <th>3830</th>\n",
       "      <td>0</td>\n",
       "      <td>1.426068</td>\n",
       "      <td>-0.578179</td>\n",
       "      <td>2.456484</td>\n",
       "      <td>1</td>\n",
       "      <td>1</td>\n",
       "      <td>0</td>\n",
       "      <td>0</td>\n",
       "      <td>0</td>\n",
       "      <td>0</td>\n",
       "      <td>...</td>\n",
       "      <td>0</td>\n",
       "      <td>0</td>\n",
       "      <td>0</td>\n",
       "      <td>0</td>\n",
       "      <td>1</td>\n",
       "      <td>0</td>\n",
       "      <td>0</td>\n",
       "      <td>0</td>\n",
       "      <td>0</td>\n",
       "      <td>0</td>\n",
       "    </tr>\n",
       "  </tbody>\n",
       "</table>\n",
       "<p>5 rows × 61 columns</p>\n",
       "</div>"
      ],
      "text/plain": [
       "      Do Not Email  TotalVisits  Total Time Spent on Website  \\\n",
       "3271             0     0.206475                    -0.591008   \n",
       "1490             0     0.511373                     1.894051   \n",
       "7936             0    -0.403321                    -0.743117   \n",
       "4216             0    -1.013117                    -0.878732   \n",
       "3830             0     1.426068                    -0.578179   \n",
       "\n",
       "      Page Views Per Visit  A free copy of Mastering The Interview  \\\n",
       "3271              0.716169                                       0   \n",
       "1490              1.151248                                       1   \n",
       "7936             -0.153989                                       0   \n",
       "4216             -1.024147                                       0   \n",
       "3830              2.456484                                       1   \n",
       "\n",
       "      Origin_Landing Page Submission  Origin_Lead Add Form  \\\n",
       "3271                               0                     0   \n",
       "1490                               1                     0   \n",
       "7936                               0                     0   \n",
       "4216                               0                     1   \n",
       "3830                               1                     0   \n",
       "\n",
       "      Origin_Lead Import  Source_Google  Source_Olark Chat  ...  \\\n",
       "3271                   0              1                  0  ...   \n",
       "1490                   0              0                  0  ...   \n",
       "7936                   0              1                  0  ...   \n",
       "4216                   0              0                  0  ...   \n",
       "3830                   0              0                  0  ...   \n",
       "\n",
       "      City_Other Cities of Maharashtra  City_Other Metro Cities  \\\n",
       "3271                                 0                        0   \n",
       "1490                                 0                        0   \n",
       "7936                                 0                        0   \n",
       "4216                                 0                        0   \n",
       "3830                                 0                        0   \n",
       "\n",
       "      City_Thane & Outskirts  City_Tier II Cities  \\\n",
       "3271                       0                    0   \n",
       "1490                       0                    0   \n",
       "7936                       0                    0   \n",
       "4216                       0                    0   \n",
       "3830                       0                    0   \n",
       "\n",
       "      Last Notable Activity_Email Opened  Last Notable Activity_Modified  \\\n",
       "3271                                   1                               0   \n",
       "1490                                   1                               0   \n",
       "7936                                   1                               0   \n",
       "4216                                   0                               1   \n",
       "3830                                   1                               0   \n",
       "\n",
       "      Last Notable Activity_Olark Chat Conversation  \\\n",
       "3271                                              0   \n",
       "1490                                              0   \n",
       "7936                                              0   \n",
       "4216                                              0   \n",
       "3830                                              0   \n",
       "\n",
       "      Last Notable Activity_Others  \\\n",
       "3271                             0   \n",
       "1490                             0   \n",
       "7936                             0   \n",
       "4216                             0   \n",
       "3830                             0   \n",
       "\n",
       "      Last Notable Activity_Page Visited on Website  \\\n",
       "3271                                              0   \n",
       "1490                                              0   \n",
       "7936                                              0   \n",
       "4216                                              0   \n",
       "3830                                              0   \n",
       "\n",
       "      Last Notable Activity_SMS Sent  \n",
       "3271                               0  \n",
       "1490                               0  \n",
       "7936                               0  \n",
       "4216                               0  \n",
       "3830                               0  \n",
       "\n",
       "[5 rows x 61 columns]"
      ]
     },
     "execution_count": 898,
     "metadata": {},
     "output_type": "execute_result"
    }
   ],
   "source": [
    "# scale numeric variables for test dataset\n",
    "scaler = StandardScaler()\n",
    "X_test[[\"TotalVisits\",\"Total Time Spent on Website\",\"Page Views Per Visit\"]] = scaler.fit_transform(X_test[[\"TotalVisits\",\"Total Time Spent on Website\",\"Page Views Per Visit\"]])\n",
    "X_test.head()"
   ]
  },
  {
   "cell_type": "code",
   "execution_count": 912,
   "metadata": {},
   "outputs": [],
   "source": [
    "X_test = X_test[['Do Not Email', 'Total Time Spent on Website',\n",
    "       'Origin_Landing Page Submission', 'Origin_Lead Add Form',\n",
    "       'Source_Olark Chat', 'Source_Welingak Website',\n",
    "       'last_activity_Olark Chat Conversation', 'last_activity_SMS Sent',\n",
    "       'Specialization_Travel and Tourism', 'Tag_Closed by Horizzon',\n",
    "       'Tag_Interested in other courses', 'Tag_Lost to EINS', 'Tag_Others',\n",
    "       'Tag_Ringing', 'Tag_Will revert after reading the email',\n",
    "       'Profile_Not Specified', 'Profile_Student of SomeSchool',\n",
    "       'Last Notable Activity_Email Opened', 'Last Notable Activity_Others']]\n",
    "\n",
    "X_test_sm = sm.add_constant(X_test)\n",
    "\n",
    "#apply model on test data\n",
    "\n",
    "y_test_pred = res.predict(X_test_sm)"
   ]
  },
  {
   "cell_type": "code",
   "execution_count": 913,
   "metadata": {},
   "outputs": [
    {
     "data": {
      "text/html": [
       "<div>\n",
       "<style scoped>\n",
       "    .dataframe tbody tr th:only-of-type {\n",
       "        vertical-align: middle;\n",
       "    }\n",
       "\n",
       "    .dataframe tbody tr th {\n",
       "        vertical-align: top;\n",
       "    }\n",
       "\n",
       "    .dataframe thead th {\n",
       "        text-align: right;\n",
       "    }\n",
       "</style>\n",
       "<table border=\"1\" class=\"dataframe\">\n",
       "  <thead>\n",
       "    <tr style=\"text-align: right;\">\n",
       "      <th></th>\n",
       "      <th>Converted</th>\n",
       "      <th>Converted_prob</th>\n",
       "    </tr>\n",
       "  </thead>\n",
       "  <tbody>\n",
       "    <tr>\n",
       "      <th>0</th>\n",
       "      <td>0</td>\n",
       "      <td>0.139555</td>\n",
       "    </tr>\n",
       "    <tr>\n",
       "      <th>1</th>\n",
       "      <td>1</td>\n",
       "      <td>0.997103</td>\n",
       "    </tr>\n",
       "    <tr>\n",
       "      <th>2</th>\n",
       "      <td>0</td>\n",
       "      <td>0.119687</td>\n",
       "    </tr>\n",
       "    <tr>\n",
       "      <th>3</th>\n",
       "      <td>1</td>\n",
       "      <td>0.995655</td>\n",
       "    </tr>\n",
       "    <tr>\n",
       "      <th>4</th>\n",
       "      <td>0</td>\n",
       "      <td>0.062537</td>\n",
       "    </tr>\n",
       "  </tbody>\n",
       "</table>\n",
       "</div>"
      ],
      "text/plain": [
       "   Converted  Converted_prob\n",
       "0          0        0.139555\n",
       "1          1        0.997103\n",
       "2          0        0.119687\n",
       "3          1        0.995655\n",
       "4          0        0.062537"
      ]
     },
     "execution_count": 913,
     "metadata": {},
     "output_type": "execute_result"
    }
   ],
   "source": [
    "y_test_pred = y_test_pred.values.reshape(-1)\n",
    "y_test_pred_final = pd.DataFrame({'Converted':y_test.values, 'Converted_prob':y_test_pred})\n",
    "y_test_pred_final.head()"
   ]
  },
  {
   "cell_type": "code",
   "execution_count": 948,
   "metadata": {},
   "outputs": [],
   "source": [
    "y_test_pred_final['Predicted'] = y_test_pred_final.Converted_prob.map(lambda x: 1 if x > 0.3 else 0)"
   ]
  },
  {
   "cell_type": "markdown",
   "metadata": {},
   "source": [
    "#### Let's calculate the metric values for test data"
   ]
  },
  {
   "cell_type": "code",
   "execution_count": 949,
   "metadata": {},
   "outputs": [
    {
     "name": "stdout",
     "output_type": "stream",
     "text": [
      "Accuracy of the model is  90.86 %\n",
      "Sensitivity is  90.09 %\n",
      "Specificity is  91.29 %\n",
      "False Positive Rate is  8.71 %\n",
      "Positive Predictive Value is  85.51 %\n",
      "Negative Predictive Value is  94.17 %\n",
      "Precision Score is  85.51 %\n",
      "Recall Score is  90.09 %\n"
     ]
    }
   ],
   "source": [
    "# confusion matrix\n",
    "confusion_matrix = metrics.confusion_matrix(y_test_pred_final.Converted, y_test_pred_final.Predicted )\n",
    "#print(confusion_matrix)\n",
    "\n",
    "acc = metrics.accuracy_score(y_test_pred_final.Converted, y_test_pred_final.Predicted)\n",
    "print(\"Accuracy of the model is \",round(acc*100,2),'%')\n",
    "\n",
    "tp = confusion_matrix[1,1] \n",
    "tn = confusion_matrix[0,0] \n",
    "fp = confusion_matrix[0,1] \n",
    "fn = confusion_matrix[1,0]\n",
    "\n",
    "# Sensitivity\n",
    "Sensitivity = round(tp / float(tp+fn)*100,2)\n",
    "Specificity = round(tn / float(tn+fp)*100,2)\n",
    "\n",
    "print('Sensitivity is ',Sensitivity,'%')\n",
    "print('Specificity is ',Specificity,'%')\n",
    "\n",
    "# Calculate FPR(False Postive Rate)\n",
    "fpr = fp/ float(tn  +fp)\n",
    "\n",
    "# PPV(positive predictive value)\n",
    "ppv = tp / float(tp + fp)\n",
    "\n",
    "#NPV(Negative Predictive Value)\n",
    "npv = tn / float(tn + fn)\n",
    "\n",
    "print(\"False Positive Rate is \",round(fpr*100,2),'%')\n",
    "print(\"Positive Predictive Value is \",round(ppv*100,2),'%')\n",
    "print(\"Negative Predictive Value is \",round(npv*100,2),'%')\n",
    "\n",
    "ps = precision_score(y_test_pred_final.Converted , y_test_pred_final.Predicted)\n",
    "print(\"Precision Score is \",round(ps*100,2),\"%\")\n",
    "\n",
    "rs = recall_score(y_test_pred_final.Converted, y_test_pred_final.Predicted)\n",
    "print(\"Recall Score is \",round(rs*100,2),\"%\")"
   ]
  },
  {
   "cell_type": "markdown",
   "metadata": {},
   "source": [
    "## Comparison between Train and Test data\n",
    "---------------------------------------------------------------------------------------------\n",
    "\n",
    "### Train Dataset\n",
    "\n",
    "- Accuracy - 92.93%\n",
    "- Sensitivity - 88.14 %\n",
    "- Specificity - 95.93\n",
    "\n",
    "### Test Dataset\n",
    "\n",
    "- Accuracy - 90.86%\n",
    "- Sensitivity - 90.09%\n",
    "- Specificity - 91.29%\n",
    "\n",
    "\n",
    "For the above observations the metric values are very close for Train and Test data so we can accept this model.\n"
   ]
  }
 ],
 "metadata": {
  "kernelspec": {
   "display_name": "Python 3 (ipykernel)",
   "language": "python",
   "name": "python3"
  },
  "language_info": {
   "codemirror_mode": {
    "name": "ipython",
    "version": 3
   },
   "file_extension": ".py",
   "mimetype": "text/x-python",
   "name": "python",
   "nbconvert_exporter": "python",
   "pygments_lexer": "ipython3",
   "version": "3.11.4"
  }
 },
 "nbformat": 4,
 "nbformat_minor": 4
}
